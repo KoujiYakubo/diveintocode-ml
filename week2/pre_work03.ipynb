{
 "cells": [
  {
   "cell_type": "markdown",
   "metadata": {},
   "source": [
    "# Week2授業前課題3 行列積のスクラッチ"
   ]
  },
  {
   "cell_type": "markdown",
   "metadata": {},
   "source": [
    "## 【問題1】行列積を手計算する"
   ]
  },
  {
   "cell_type": "code",
   "execution_count": 322,
   "metadata": {},
   "outputs": [],
   "source": [
    "import numpy as np\n",
    "a_ndarray = np.array([[-1, 2, 3], [4, -5, 6], [7, 8, -9]])\n",
    "b_ndarray = np.array([[0, 2, 1], [0, 2, -8], [2, 9, -1]])"
   ]
  },
  {
   "cell_type": "markdown",
   "metadata": {},
   "source": [
    "$$\n",
    "\\boldsymbol{A*B} =\n",
    "\\left[\\begin{array}{c}\n",
    "-1 \\times 0 + 2 \\times 0 + 3 \\times 2\\quad &\n",
    "-1 \\times 2 + 2 \\times 2 + 3 \\times 9\\quad &\n",
    "-1 \\times 1 + 2 \\times -8 + 3 \\times -1 \\\\ \n",
    "4 \\times 0 + -5 \\times 0 + 6 \\times 2\\quad &\n",
    "4 \\times 2 + -5 \\times 2 + 8 \\times 9\\quad &\n",
    "4 \\times 1 + -5 \\times -8 + 6 \\times -1  \\\\\n",
    "7 \\times 0 + 8 \\times 0 + -9 \\times 2\\quad &\n",
    "7 \\times 2 + 8 \\times 2 + -9 \\times 9\\quad &\n",
    "7 \\times 1 + 8 \\times -8 + -9 \\times -1 \n",
    "\\end{array}\\right]\n",
    "\\boldsymbol{} =\n",
    "\\left[\\begin{array}{c}\n",
    "6 & 29 & -20 \\\\\n",
    "12 & 70 & 38 \\\\\n",
    "-18 & -51 & -48\n",
    "\\end{array}\\right] \\quad\n",
    "$$\n",
    "\n",
    "\n"
   ]
  },
  {
   "cell_type": "markdown",
   "metadata": {},
   "source": [
    "## 【問題2】NumPyの関数による計算"
   ]
  },
  {
   "cell_type": "code",
   "execution_count": 323,
   "metadata": {},
   "outputs": [
    {
     "data": {
      "text/plain": [
       "array([[  6,  29, -20],\n",
       "       [ 12,  52,  38],\n",
       "       [-18, -51, -48]])"
      ]
     },
     "execution_count": 323,
     "metadata": {},
     "output_type": "execute_result"
    }
   ],
   "source": [
    "np.dot(a_ndarray,b_ndarray)"
   ]
  },
  {
   "cell_type": "code",
   "execution_count": 324,
   "metadata": {},
   "outputs": [
    {
     "data": {
      "text/plain": [
       "array([[  6,  29, -20],\n",
       "       [ 12,  52,  38],\n",
       "       [-18, -51, -48]])"
      ]
     },
     "execution_count": 324,
     "metadata": {},
     "output_type": "execute_result"
    }
   ],
   "source": [
    "np.matmul(a_ndarray,b_ndarray)"
   ]
  },
  {
   "cell_type": "code",
   "execution_count": 325,
   "metadata": {},
   "outputs": [
    {
     "data": {
      "text/plain": [
       "array([[  6,  29, -20],\n",
       "       [ 12,  52,  38],\n",
       "       [-18, -51, -48]])"
      ]
     },
     "execution_count": 325,
     "metadata": {},
     "output_type": "execute_result"
    }
   ],
   "source": [
    "a_ndarray@b_ndarray"
   ]
  },
  {
   "cell_type": "markdown",
   "metadata": {},
   "source": [
    "## 【問題3】ある要素の計算を実装"
   ]
  },
  {
   "cell_type": "code",
   "execution_count": 326,
   "metadata": {},
   "outputs": [
    {
     "name": "stdout",
     "output_type": "stream",
     "text": [
      "Aの0行目とBの0列目の合計は 6です。\n"
     ]
    }
   ],
   "source": [
    "a_ndarray = np.array([[-1, 2, 3], [4, -5, 6], [7, 8, -9]])\n",
    "b_ndarray = np.array([[0, 2, 1], [0, 2, -8], [2, 9, -1]])\n",
    "\n",
    "sum00 = sum(a_ndarray[0,:]*b_ndarray[:,0])\n",
    "print(\"Aの0行目とBの0列目の合計は {}です。\".format(sum00))"
   ]
  },
  {
   "cell_type": "markdown",
   "metadata": {},
   "source": [
    "## 【問題4】行列積を行う関数の作成"
   ]
  },
  {
   "cell_type": "code",
   "execution_count": 327,
   "metadata": {},
   "outputs": [],
   "source": [
    "def calc_sum(a_ndarray, b_ndarray):\n",
    "    \n",
    "    sum_array = np.empty((a_ndarray.shape[0],a_ndarray.shape[0]))\n",
    "    \n",
    "    for i in range(a_ndarray.shape[0]):\n",
    "        for j in range(b_ndarray.shape[1]):\n",
    "            sum_array[i,j] = sum(a_ndarray[i,:]*b_ndarray[:,j])\n",
    "\n",
    "    return sum_array"
   ]
  },
  {
   "cell_type": "code",
   "execution_count": 328,
   "metadata": {},
   "outputs": [
    {
     "data": {
      "text/plain": [
       "array([[  6.,  29., -20.],\n",
       "       [ 12.,  52.,  38.],\n",
       "       [-18., -51., -48.]])"
      ]
     },
     "execution_count": 328,
     "metadata": {},
     "output_type": "execute_result"
    }
   ],
   "source": [
    "calc_sum(a_ndarray, b_ndarray)"
   ]
  },
  {
   "cell_type": "markdown",
   "metadata": {},
   "source": [
    "## 【問題5】計算が定義されない入力を判定する"
   ]
  },
  {
   "cell_type": "code",
   "execution_count": 329,
   "metadata": {},
   "outputs": [],
   "source": [
    "# 問題4の関数を修正\n",
    "\n",
    "def calc_sum2(a_ndarray, b_ndarray):\n",
    "    \n",
    "    if a_ndarray.shape[0] == b_ndarray.shape[1]:\n",
    "        sum_array = np.empty((a_ndarray.shape[0],a_ndarray.shape[0]))\n",
    "\n",
    "        for i in range(a_ndarray.shape[0]):\n",
    "            for j in range(b_ndarray.shape[1]):\n",
    "                sum_array[i,j] = sum(a_ndarray[i,:]*b_ndarray[:,j])\n",
    "\n",
    "        return sum_array\n",
    "    else:\n",
    "        print(\"形に問題があるため、計算ができません。\")"
   ]
  },
  {
   "cell_type": "code",
   "execution_count": 330,
   "metadata": {},
   "outputs": [
    {
     "name": "stdout",
     "output_type": "stream",
     "text": [
      "形に問題があるため、計算ができません。\n"
     ]
    }
   ],
   "source": [
    "d_ndarray_ = np.array([[-1, 2, 3], [4, -5, 6]])\n",
    "e_ndarray = np.array([[-9, 8, 7], [6, -5, 4]])\n",
    "calc_sum2(d_ndarray_, e_ndarray)"
   ]
  },
  {
   "cell_type": "markdown",
   "metadata": {},
   "source": [
    "## 【問題6】転置"
   ]
  },
  {
   "cell_type": "code",
   "execution_count": 331,
   "metadata": {},
   "outputs": [
    {
     "data": {
      "text/plain": [
       "array([[ 33., -28.,   9.],\n",
       "       [-48.,  41.,  -6.],\n",
       "       [  9.,  -6.,  45.]])"
      ]
     },
     "execution_count": 331,
     "metadata": {},
     "output_type": "execute_result"
    }
   ],
   "source": [
    "calc_sum2(d_ndarray_.T, e_ndarray)"
   ]
  }
 ],
 "metadata": {
  "kernelspec": {
   "display_name": "Python 3",
   "language": "python",
   "name": "python3"
  },
  "language_info": {
   "codemirror_mode": {
    "name": "ipython",
    "version": 3
   },
   "file_extension": ".py",
   "mimetype": "text/x-python",
   "name": "python",
   "nbconvert_exporter": "python",
   "pygments_lexer": "ipython3",
   "version": "3.7.4"
  }
 },
 "nbformat": 4,
 "nbformat_minor": 2
}
