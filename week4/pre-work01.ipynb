{
 "cells": [
  {
   "cell_type": "markdown",
   "metadata": {},
   "source": [
    "# Week4授業前課題1 アヤメの分類"
   ]
  },
  {
   "cell_type": "markdown",
   "metadata": {},
   "source": [
    "## 【課題1】練習のために特徴量とカテゴリを選択"
   ]
  },
  {
   "cell_type": "markdown",
   "metadata": {},
   "source": [
    "選び方は合計18通りありますが、以下の組み合わせで練習することにします。irisデータセットをWeek3同様に取得した後、データフレームからこれらを抜き出してください。  \n",
    "\n",
    "\n",
    "- virgicolorとvirginica\n",
    "- sepal_lengthとpetal_length"
   ]
  },
  {
   "cell_type": "code",
   "execution_count": 2,
   "metadata": {},
   "outputs": [],
   "source": [
    "import pandas as pd\n",
    "from sklearn.datasets import load_iris\n",
    "import numpy as np\n",
    "import matplotlib.pyplot as plt\n",
    "from sklearn.model_selection import train_test_split\n",
    "%matplotlib inline\n",
    "dataset = load_iris()\n",
    "\n",
    "# 説明変数をDataFrame型変数Xに格納\n",
    "X = pd.DataFrame(dataset.data, columns=[\"sepal_length\", \"sepal_width\", \"petal_length\", \"petal_width\"])\n",
    "\n",
    "# 目的変数をDataFrame型変数yに格納\n",
    "y = pd.DataFrame(dataset.target, columns=[\"Species\"])"
   ]
  },
  {
   "cell_type": "code",
   "execution_count": 3,
   "metadata": {},
   "outputs": [],
   "source": [
    "df = pd.concat([X, y], axis=1)"
   ]
  },
  {
   "cell_type": "code",
   "execution_count": 4,
   "metadata": {},
   "outputs": [],
   "source": [
    "df_select = df[['sepal_length','petal_length','Species']]\n",
    "df_extract = df_select[(df['Species'] == 1) | (df['Species'] == 2)]"
   ]
  },
  {
   "cell_type": "code",
   "execution_count": 5,
   "metadata": {
    "scrolled": true
   },
   "outputs": [],
   "source": [
    "#インデックスのリセット\n",
    "df_extract = df_extract.reset_index(drop=True)"
   ]
  },
  {
   "cell_type": "code",
   "execution_count": 6,
   "metadata": {
    "scrolled": true
   },
   "outputs": [
    {
     "data": {
      "text/plain": [
       "<bound method DataFrame.info of     sepal_length  petal_length  Species\n",
       "0            7.0           4.7        1\n",
       "1            6.4           4.5        1\n",
       "2            6.9           4.9        1\n",
       "3            5.5           4.0        1\n",
       "4            6.5           4.6        1\n",
       "..           ...           ...      ...\n",
       "95           6.7           5.2        2\n",
       "96           6.3           5.0        2\n",
       "97           6.5           5.2        2\n",
       "98           6.2           5.4        2\n",
       "99           5.9           5.1        2\n",
       "\n",
       "[100 rows x 3 columns]>"
      ]
     },
     "execution_count": 6,
     "metadata": {},
     "output_type": "execute_result"
    }
   ],
   "source": [
    "df_extract.info"
   ]
  },
  {
   "cell_type": "code",
   "execution_count": 7,
   "metadata": {},
   "outputs": [
    {
     "data": {
      "text/html": [
       "<div>\n",
       "<style scoped>\n",
       "    .dataframe tbody tr th:only-of-type {\n",
       "        vertical-align: middle;\n",
       "    }\n",
       "\n",
       "    .dataframe tbody tr th {\n",
       "        vertical-align: top;\n",
       "    }\n",
       "\n",
       "    .dataframe thead th {\n",
       "        text-align: right;\n",
       "    }\n",
       "</style>\n",
       "<table border=\"1\" class=\"dataframe\">\n",
       "  <thead>\n",
       "    <tr style=\"text-align: right;\">\n",
       "      <th></th>\n",
       "      <th>sepal_length</th>\n",
       "      <th>petal_length</th>\n",
       "      <th>Species</th>\n",
       "    </tr>\n",
       "  </thead>\n",
       "  <tbody>\n",
       "    <tr>\n",
       "      <th>count</th>\n",
       "      <td>100.000000</td>\n",
       "      <td>100.000000</td>\n",
       "      <td>100.000000</td>\n",
       "    </tr>\n",
       "    <tr>\n",
       "      <th>mean</th>\n",
       "      <td>6.262000</td>\n",
       "      <td>4.906000</td>\n",
       "      <td>1.500000</td>\n",
       "    </tr>\n",
       "    <tr>\n",
       "      <th>std</th>\n",
       "      <td>0.662834</td>\n",
       "      <td>0.825578</td>\n",
       "      <td>0.502519</td>\n",
       "    </tr>\n",
       "    <tr>\n",
       "      <th>min</th>\n",
       "      <td>4.900000</td>\n",
       "      <td>3.000000</td>\n",
       "      <td>1.000000</td>\n",
       "    </tr>\n",
       "    <tr>\n",
       "      <th>25%</th>\n",
       "      <td>5.800000</td>\n",
       "      <td>4.375000</td>\n",
       "      <td>1.000000</td>\n",
       "    </tr>\n",
       "    <tr>\n",
       "      <th>50%</th>\n",
       "      <td>6.300000</td>\n",
       "      <td>4.900000</td>\n",
       "      <td>1.500000</td>\n",
       "    </tr>\n",
       "    <tr>\n",
       "      <th>75%</th>\n",
       "      <td>6.700000</td>\n",
       "      <td>5.525000</td>\n",
       "      <td>2.000000</td>\n",
       "    </tr>\n",
       "    <tr>\n",
       "      <th>max</th>\n",
       "      <td>7.900000</td>\n",
       "      <td>6.900000</td>\n",
       "      <td>2.000000</td>\n",
       "    </tr>\n",
       "  </tbody>\n",
       "</table>\n",
       "</div>"
      ],
      "text/plain": [
       "       sepal_length  petal_length     Species\n",
       "count    100.000000    100.000000  100.000000\n",
       "mean       6.262000      4.906000    1.500000\n",
       "std        0.662834      0.825578    0.502519\n",
       "min        4.900000      3.000000    1.000000\n",
       "25%        5.800000      4.375000    1.000000\n",
       "50%        6.300000      4.900000    1.500000\n",
       "75%        6.700000      5.525000    2.000000\n",
       "max        7.900000      6.900000    2.000000"
      ]
     },
     "execution_count": 7,
     "metadata": {},
     "output_type": "execute_result"
    }
   ],
   "source": [
    "df_extract.describe()"
   ]
  },
  {
   "cell_type": "markdown",
   "metadata": {},
   "source": [
    "## 【問題2】データの分析"
   ]
  },
  {
   "cell_type": "markdown",
   "metadata": {},
   "source": [
    "まずはデータの分析を行いますが、これはWeek3の課題1で行いました。その際出力した散布図行列を見ることで、先ほどの18通りそれぞれの散布図も確認できます。sepal_lengthとpetal_lengthを使い、virgicolorとvirginicaを分類するのは少し難しそうな状況であることが分かるはずです。  \n",
    "\n",
    "\n",
    "ここでは復習を兼ねて、抜き出したデータの散布図と箱ひげ図（boxplot）、バイオリン図（violinplot）を表示してください。"
   ]
  },
  {
   "cell_type": "code",
   "execution_count": 8,
   "metadata": {},
   "outputs": [
    {
     "data": {
      "image/png": "[encoded data removed]",
      "text/plain": [
       "<Figure size 432x288 with 1 Axes>"
      ]
     },
     "metadata": {
      "needs_background": "light"
     },
     "output_type": "display_data"
    }
   ],
   "source": [
    "# 散布図\n",
    "plt.title(\"sepal_length & petal_length\")\n",
    "plt.scatter(df[df['Species']==1]['sepal_length'], df[df['Species']==1]['petal_length'], c = 'blue', label=\"versicolor\")\n",
    "plt.scatter(df[df['Species']==2]['sepal_length'], df[df['Species']==2]['petal_length'], c = 'green', label=\"virginica\")\n",
    "plt.legend()\n",
    "plt.show()"
   ]
  },
  {
   "cell_type": "code",
   "execution_count": 9,
   "metadata": {},
   "outputs": [
    {
     "data": {
      "image/png": "[encoded data removed]",
      "text/plain": [
       "<Figure size 432x288 with 1 Axes>"
      ]
     },
     "metadata": {
      "needs_background": "light"
     },
     "output_type": "display_data"
    },
    {
     "data": {
      "image/png": "[encoded data removed]",
      "text/plain": [
       "<Figure size 432x288 with 1 Axes>"
      ]
     },
     "metadata": {
      "needs_background": "light"
     },
     "output_type": "display_data"
    }
   ],
   "source": [
    "# 箱ひげ図（boxplot）\n",
    "features = [\"sepal_length\", \"petal_length\"]\n",
    "\n",
    "for feature in features:\n",
    "    plt.boxplot([df[df[\"Species\"]==1][feature], df[df[\"Species\"]==2][feature]])\n",
    "    plt.xticks([1, 2], ['versicolor', 'virginica'])\n",
    "    plt.title(feature)\n",
    "    plt.grid()\n",
    "    plt.show()"
   ]
  },
  {
   "cell_type": "code",
   "execution_count": 10,
   "metadata": {},
   "outputs": [
    {
     "data": {
      "image/png": "[encoded data removed]",
      "text/plain": [
       "<Figure size 432x288 with 1 Axes>"
      ]
     },
     "metadata": {
      "needs_background": "light"
     },
     "output_type": "display_data"
    },
    {
     "data": {
      "image/png": "[encoded data removed]",
      "text/plain": [
       "<Figure size 432x288 with 1 Axes>"
      ]
     },
     "metadata": {
      "needs_background": "light"
     },
     "output_type": "display_data"
    }
   ],
   "source": [
    "# バイオリン図\n",
    "features = [\"sepal_length\", \"petal_length\"]\n",
    "\n",
    "for feature in features:\n",
    "    plt.violinplot([df[df[\"Species\"]==1][feature], df[df[\"Species\"]==2][feature]])\n",
    "    plt.xticks([1, 2], ['versicolor', 'virginica'])\n",
    "    plt.title(feature)\n",
    "    plt.grid()\n",
    "    plt.show()"
   ]
  },
  {
   "cell_type": "markdown",
   "metadata": {},
   "source": [
    "## 【問題3】前処理・訓練データと検証データの分割"
   ]
  },
  {
   "cell_type": "markdown",
   "metadata": {},
   "source": [
    "前処理の一貫として、訓練データと検証データの分割を行います。今回は訓練データ75%、検証データ25%として分割してください。"
   ]
  },
  {
   "cell_type": "code",
   "execution_count": 11,
   "metadata": {},
   "outputs": [],
   "source": [
    "# ndarrayに変換\n",
    "df_ndarray = df_extract.values\n",
    "\n",
    "# 特徴量と目的変数を格納\n",
    "X = df_ndarray[:, 0:2]\n",
    "y = df_ndarray[:, 2]"
   ]
  },
  {
   "cell_type": "code",
   "execution_count": 15,
   "metadata": {},
   "outputs": [],
   "source": [
    "X_train, X_test, y_train, y_test = train_test_split(X, y, train_size=0.75, random_state=0)"
   ]
  },
  {
   "cell_type": "code",
   "execution_count": 30,
   "metadata": {},
   "outputs": [
    {
     "name": "stdout",
     "output_type": "stream",
     "text": [
      "X_train： (75, 2)\n",
      "X_test： (25, 2)\n",
      "Y_train： (75,)\n",
      "Y_test： (25,)\n"
     ]
    }
   ],
   "source": [
    "print(\"X_train：\", np.shape(X_train))\n",
    "print(\"X_test：\", np.shape(X_test))\n",
    "print(\"Y_train：\", np.shape(y_train))\n",
    "print(\"Y_test：\", np.shape(y_test))"
   ]
  },
  {
   "cell_type": "markdown",
   "metadata": {},
   "source": [
    "## 【問題4】前処理・標準化"
   ]
  },
  {
   "cell_type": "markdown",
   "metadata": {},
   "source": [
    "分類精度をあげるための加工を行います。手法ごとに適切な方法は異なりますが、ここでは一例として 標準化 を行うことにします。"
   ]
  },
  {
   "cell_type": "code",
   "execution_count": 18,
   "metadata": {
    "collapsed": true
   },
   "outputs": [
    {
     "data": {
      "text/plain": [
       "array([[-1.77029021e+00, -2.29778941e+00],\n",
       "       [ 3.81787899e-02, -2.41872570e-01],\n",
       "       [-5.64644209e-01,  2.41872570e-01],\n",
       "       [ 1.88884540e-01,  8.46553995e-01],\n",
       "       [-1.12526960e-01, -1.20936285e-01],\n",
       "       [ 3.39590289e-01,  2.41872570e-01],\n",
       "       [ 1.69594204e+00,  1.45123542e+00],\n",
       "       [ 6.41001789e-01,  8.46553995e-01],\n",
       "       [ 2.14805929e+00,  2.41872570e+00],\n",
       "       [-7.15349959e-01,  2.41872570e-01],\n",
       "       [ 6.41001789e-01,  1.20936285e-01],\n",
       "       [-1.12526960e-01, -4.83745140e-01],\n",
       "       [-2.07170171e+00, -4.83745140e-01],\n",
       "       [-8.66055709e-01,  1.20936285e-01],\n",
       "       [ 6.41001789e-01,  9.67490280e-01],\n",
       "       [ 1.88884540e-01, -4.83745140e-01],\n",
       "       [ 1.88884540e-01,  4.83745140e-01],\n",
       "       [-7.15349959e-01, -1.08842656e+00],\n",
       "       [-2.63232710e-01, -3.62808855e-01],\n",
       "       [ 3.39590289e-01, -3.62808855e-01],\n",
       "       [ 6.41001789e-01, -6.04681425e-01],\n",
       "       [-7.15349959e-01, -9.67490280e-01],\n",
       "       [-1.16746721e+00, -6.04681425e-01],\n",
       "       [-1.01676146e+00, -9.67490280e-01],\n",
       "       [-8.66055709e-01, -4.83745140e-01],\n",
       "       [ 9.42413289e-01,  2.41872570e-01],\n",
       "       [ 1.39453054e+00,  1.45123542e+00],\n",
       "       [ 1.09311904e+00, -2.41872570e-01],\n",
       "       [-1.31817296e+00, -4.83745140e-01],\n",
       "       [-4.13938459e-01, -4.83745140e-01],\n",
       "       [ 3.81787899e-02,  1.33029913e+00],\n",
       "       [-5.64644209e-01, -8.46553995e-01],\n",
       "       [-4.13938459e-01, -4.83745140e-01],\n",
       "       [-2.63232710e-01, -2.41872570e-01],\n",
       "       [ 1.24382479e+00,  1.20936285e+00],\n",
       "       [-1.92099596e+00, -1.69310799e+00],\n",
       "       [-1.16746721e+00, -1.45123542e+00],\n",
       "       [ 3.39590289e-01,  7.25617710e-01],\n",
       "       [ 1.54523629e+00,  1.69310799e+00],\n",
       "       [ 1.39453054e+00,  1.08842656e+00],\n",
       "       [ 2.14805929e+00,  1.45123542e+00],\n",
       "       [-7.15349959e-01, -1.20936285e+00],\n",
       "       [-2.63232710e-01,  8.46553995e-01],\n",
       "       [-1.01676146e+00, -1.57217170e+00],\n",
       "       [ 9.42413289e-01,  6.04681425e-01],\n",
       "       [-1.01676146e+00, -1.20936285e+00],\n",
       "       [-8.66055709e-01, -1.69310799e+00],\n",
       "       [-8.66055709e-01, -9.67490280e-01],\n",
       "       [ 3.39590289e-01,  3.62808855e-01],\n",
       "       [-1.12526960e-01,  6.04681425e-01],\n",
       "       [-4.13938459e-01,  1.20936285e-01],\n",
       "       [-5.64644209e-01, -1.20936285e-01],\n",
       "       [ 6.41001789e-01,  9.67490280e-01],\n",
       "       [ 2.14805929e+00,  2.17685313e+00],\n",
       "       [-2.63232710e-01,  2.14825997e-15],\n",
       "       [ 4.90296039e-01, -6.04681425e-01],\n",
       "       [ 3.81787899e-02, -6.04681425e-01],\n",
       "       [ 2.44947079e+00,  1.81404427e+00],\n",
       "       [-8.66055709e-01, -8.46553995e-01],\n",
       "       [-1.16746721e+00, -1.08842656e+00],\n",
       "       [ 1.88884540e-01,  4.83745140e-01],\n",
       "       [ 6.41001789e-01,  1.08842656e+00],\n",
       "       [-4.13938459e-01, -1.08842656e+00],\n",
       "       [-4.13938459e-01, -1.20936285e-01],\n",
       "       [ 9.42413289e-01,  9.67490280e-01],\n",
       "       [ 1.88884540e-01,  7.25617710e-01],\n",
       "       [ 6.41001789e-01, -2.41872570e-01],\n",
       "       [-2.63232710e-01, -1.08842656e+00],\n",
       "       [ 3.81787899e-02,  2.41872570e-01],\n",
       "       [-1.61958446e+00, -1.20936285e+00],\n",
       "       [ 3.81787899e-02,  1.20936285e-01],\n",
       "       [ 2.14805929e+00,  2.17685313e+00],\n",
       "       [-7.15349959e-01,  2.41872570e-01],\n",
       "       [-1.12526960e-01, -7.25617710e-01],\n",
       "       [-1.01676146e+00, -8.46553995e-01]])"
      ]
     },
     "metadata": {},
     "output_type": "display_data"
    },
    {
     "data": {
      "text/plain": [
       "array([[ 7.91707539e-01, -1.20936285e-01],\n",
       "       [ 3.81787899e-02,  8.46553995e-01],\n",
       "       [ 9.42413289e-01,  2.14825997e-15],\n",
       "       [ 1.99735354e+00,  2.05591684e+00],\n",
       "       [ 1.39453054e+00,  1.33029913e+00],\n",
       "       [ 7.91707539e-01,  1.20936285e+00],\n",
       "       [-1.01676146e+00, -4.83745140e-01],\n",
       "       [ 3.81787899e-02,  2.14825997e-15],\n",
       "       [ 3.39590289e-01,  1.08842656e+00],\n",
       "       [ 6.41001789e-01,  3.62808855e-01],\n",
       "       [ 3.81787899e-02,  8.46553995e-01],\n",
       "       [-7.15349959e-01,  2.41872570e-01],\n",
       "       [ 1.88884540e-01,  8.46553995e-01],\n",
       "       [-2.63232710e-01, -2.41872570e-01],\n",
       "       [-2.07170171e+00, -1.93498056e+00],\n",
       "       [-1.16746721e+00, -1.33029913e+00],\n",
       "       [ 3.81787899e-02,  2.14825997e-15],\n",
       "       [ 1.88884540e-01, -7.25617710e-01],\n",
       "       [-4.13938459e-01,  2.41872570e-01],\n",
       "       [ 4.90296039e-01, -3.62808855e-01],\n",
       "       [-1.92099596e+00, -1.93498056e+00],\n",
       "       [ 7.91707539e-01,  7.25617710e-01],\n",
       "       [-1.16746721e+00, -1.08842656e+00],\n",
       "       [-1.01676146e+00,  2.14825997e-15],\n",
       "       [-8.66055709e-01, -8.46553995e-01]])"
      ]
     },
     "metadata": {},
     "output_type": "display_data"
    }
   ],
   "source": [
    "from sklearn.preprocessing import StandardScaler\n",
    "scaler = StandardScaler()\n",
    "scaler.fit(X_train)\n",
    "X_train_std = scaler.transform(X_train)\n",
    "X_test_std = scaler.transform(X_test)\n",
    "\n",
    "display(X_train_std)\n",
    "display(X_test_std)"
   ]
  },
  {
   "cell_type": "markdown",
   "metadata": {},
   "source": [
    "## 【問題5】学習と推定"
   ]
  },
  {
   "cell_type": "markdown",
   "metadata": {},
   "source": [
    "最近傍法（k-nearest neighbors, k-nn）で学習を行います。scikit-learnの公式ドキュメントのExamplesを参考に、k-nnの学習を行ってください。ここで入力するのは訓練データです。  \n",
    "学習が終わった後、検証データをpredictメソッドに入力し、推定を行ってください。    \n",
    "\n",
    "パラメータが複数ありますが、今はそれらの理解を重視しません。最も基本的な要素として、n_neighborsの数があるため、これは複数試してみましょう。デフォルトの5、および1と3を最低限行ってください。5の場合を5-nn、3の場合を3-nnのように呼びます。"
   ]
  },
  {
   "cell_type": "code",
   "execution_count": 20,
   "metadata": {},
   "outputs": [
    {
     "data": {
      "text/plain": [
       "array([1., 2., 1., 2., 2., 2., 1., 2., 2., 2., 2., 2., 2., 2., 1., 1., 2.,\n",
       "       1., 2., 1., 1., 2., 1., 2., 1.])"
      ]
     },
     "execution_count": 20,
     "metadata": {},
     "output_type": "execute_result"
    }
   ],
   "source": [
    "from sklearn.neighbors import KNeighborsClassifier\n",
    "\n",
    "# 5-nn\n",
    "nn_5 = KNeighborsClassifier()\n",
    "nn_5.fit(X_train_std, y_train)\n",
    "y_predict = nn_5.predict(X_test_std)\n",
    "y_predict"
   ]
  },
  {
   "cell_type": "code",
   "execution_count": 22,
   "metadata": {},
   "outputs": [
    {
     "data": {
      "text/plain": [
       "array([1., 2., 2., 2., 2., 2., 1., 2., 2., 1., 2., 2., 2., 1., 1., 1., 2.,\n",
       "       1., 2., 1., 1., 2., 1., 2., 1.])"
      ]
     },
     "execution_count": 22,
     "metadata": {},
     "output_type": "execute_result"
    }
   ],
   "source": [
    "# 1-nn\n",
    "nn_1 = KNeighborsClassifier(n_neighbors=1)\n",
    "nn_1.fit(X_train_std, y_train)\n",
    "nn_1.predict(X_test_std)"
   ]
  },
  {
   "cell_type": "code",
   "execution_count": 23,
   "metadata": {},
   "outputs": [
    {
     "data": {
      "text/plain": [
       "array([1., 2., 1., 2., 2., 2., 1., 2., 2., 2., 2., 2., 2., 1., 1., 1., 2.,\n",
       "       1., 2., 1., 1., 2., 1., 2., 1.])"
      ]
     },
     "execution_count": 23,
     "metadata": {},
     "output_type": "execute_result"
    }
   ],
   "source": [
    "# 3-nn\n",
    "nn_3 = KNeighborsClassifier(n_neighbors=3)\n",
    "nn_3.fit(X_train_std, y_train)\n",
    "nn_3.predict(X_test_std)"
   ]
  },
  {
   "cell_type": "markdown",
   "metadata": {},
   "source": [
    "## 【問題6】評価"
   ]
  },
  {
   "cell_type": "markdown",
   "metadata": {},
   "source": [
    "証データの特徴量を入力して得られた推定値と、検証データの正解値の近さを計算し、学習したモデルを評価します。\n",
    "\n",
    "\n",
    "2値分類を評価するための指標値には Accuracy（正解率）、Precision（適合率）、Recall（再現率）、F値 があります。それぞれの意味を理解するには、 混同行列（confusion matrix） を見ることになります。\n",
    "\n",
    "\n",
    "- scikit-learnを使い4種類の指標を計算する\n",
    "- 混同行列をscikit-learnを使い表示する\n",
    "- 4種類の指標値の意味について簡単に調査して文章でまとめる"
   ]
  },
  {
   "cell_type": "markdown",
   "metadata": {},
   "source": [
    "### scikit-learnを使い4種類の指標を計算する"
   ]
  },
  {
   "cell_type": "code",
   "execution_count": 67,
   "metadata": {},
   "outputs": [
    {
     "data": {
      "text/html": [
       "<div>\n",
       "<style scoped>\n",
       "    .dataframe tbody tr th:only-of-type {\n",
       "        vertical-align: middle;\n",
       "    }\n",
       "\n",
       "    .dataframe tbody tr th {\n",
       "        vertical-align: top;\n",
       "    }\n",
       "\n",
       "    .dataframe thead th {\n",
       "        text-align: right;\n",
       "    }\n",
       "</style>\n",
       "<table border=\"1\" class=\"dataframe\">\n",
       "  <thead>\n",
       "    <tr style=\"text-align: right;\">\n",
       "      <th></th>\n",
       "      <th>accuracy</th>\n",
       "      <th>precision</th>\n",
       "      <th>recall</th>\n",
       "      <th>f1</th>\n",
       "    </tr>\n",
       "  </thead>\n",
       "  <tbody>\n",
       "    <tr>\n",
       "      <th>KNeighborsClassifier(5-nn)</th>\n",
       "      <td>0.88</td>\n",
       "      <td>1.0</td>\n",
       "      <td>0.769231</td>\n",
       "      <td>0.869565</td>\n",
       "    </tr>\n",
       "  </tbody>\n",
       "</table>\n",
       "</div>"
      ],
      "text/plain": [
       "                            accuracy  precision    recall        f1\n",
       "KNeighborsClassifier(5-nn)      0.88        1.0  0.769231  0.869565"
      ]
     },
     "execution_count": 67,
     "metadata": {},
     "output_type": "execute_result"
    }
   ],
   "source": [
    "estimation_nn_5_dict = {\n",
    "    \"accuracy\": accuracy_score(y_test, y_predict),\n",
    "    \"precision\": precision_score(y_test, y_predict),\n",
    "    \"recall\": recall_score(y_test, y_predict),\n",
    "    \"f1\":f1_score(y_test, y_predict)\n",
    "}\n",
    "\n",
    "estimation_nn_5 = pd.DataFrame(estimation_nn_5_dict, index=['KNeighborsClassifier(5-nn)'])\n",
    "estimation_nn_5"
   ]
  },
  {
   "cell_type": "markdown",
   "metadata": {},
   "source": [
    "### 混同行列をscikit-learnを使い表示する"
   ]
  },
  {
   "cell_type": "code",
   "execution_count": 28,
   "metadata": {},
   "outputs": [
    {
     "data": {
      "text/plain": [
       "array([[10,  3],\n",
       "       [ 0, 12]])"
      ]
     },
     "execution_count": 28,
     "metadata": {},
     "output_type": "execute_result"
    }
   ],
   "source": [
    "# 混同行列（confusion matrix） \n",
    "from sklearn.metrics import confusion_matrix\n",
    "confusion_matrix(y_test, y_predict)"
   ]
  },
  {
   "cell_type": "markdown",
   "metadata": {},
   "source": [
    "### 4種類の指標値の意味について簡単に調査して文章でまとめる\n"
   ]
  },
  {
   "cell_type": "markdown",
   "metadata": {},
   "source": [
    "Accuracy（正解率）：予測結果全体と、答えがどれぐらい一致しているかを判断する指標  \n",
    "Precision（適合率）：陽性であると予測した内の何%が当たっていたかを示す  \n",
    "Recall（再現率）：実際に正であるもののうち，正であると予測されたものの割合  \n",
    "F値：再現率と適合率の調和平均  "
   ]
  },
  {
   "cell_type": "markdown",
   "metadata": {},
   "source": [
    "## 【問題7】可視化"
   ]
  },
  {
   "cell_type": "markdown",
   "metadata": {},
   "source": [
    "評価の一貫として可視化を行います。今回の場合2次元の特徴量で分類を行いましたから、散布図で可視化が可能です。以下にどう分割するかという 決定領域 を描く関数を用意しました。これを利用して可視化を行ってください。Xとyには訓練データまたは検証データを与えます。"
   ]
  },
  {
   "cell_type": "code",
   "execution_count": 33,
   "metadata": {},
   "outputs": [],
   "source": [
    "import matplotlib.pyplot as plt\n",
    "from matplotlib.colors import ListedColormap\n",
    "import matplotlib.patches as mpatches\n",
    "def decision_region(X, y, model, step=0.01, title='decision region', xlabel='xlabel', ylabel='ylabel', target_names=['versicolor', 'virginica']):\n",
    "    \"\"\"\n",
    "    2値分類を2次元の特徴量で学習したモデルの決定領域を描く。\n",
    "    背景の色が学習したモデルによる推定値から描画される。\n",
    "    散布図の点は訓練データまたは検証データである。\n",
    "\n",
    "    Parameters\n",
    "    ----------------\n",
    "    X : ndarray, shape(n_samples, 2)\n",
    "        特徴量\n",
    "    y : ndarray, shape(n_samples,)\n",
    "        ラベル\n",
    "    model : object\n",
    "        学習したモデルのインスンタスを入れる\n",
    "    step : float, (default : 0.1)\n",
    "        推定値を計算する間隔を設定する\n",
    "    title : str\n",
    "        グラフのタイトルの文章を与える\n",
    "    xlabel, ylabel : str\n",
    "        軸ラベルの文章を与える\n",
    "    target_names= : list of str\n",
    "        凡例の一覧を与える\n",
    "    \"\"\"\n",
    "    # setting\n",
    "    scatter_color = ['red', 'blue']\n",
    "    contourf_color = ['pink', 'skyblue']\n",
    "    n_class = 2\n",
    "    # pred\n",
    "    mesh_f0, mesh_f1  = np.meshgrid(np.arange(np.min(X[:,0])-0.5, np.max(X[:,0])+0.5, step), np.arange(np.min(X[:,1])-0.5, np.max(X[:,1])+0.5, step))\n",
    "    mesh = np.c_[np.ravel(mesh_f0),np.ravel(mesh_f1)]\n",
    "    y_pred = model.predict(mesh).reshape(mesh_f0.shape)\n",
    "    # plot\n",
    "    plt.title(title)\n",
    "    plt.xlabel(xlabel)\n",
    "    plt.ylabel(ylabel)\n",
    "    plt.contourf(mesh_f0, mesh_f1, y_pred, n_class-1, cmap=ListedColormap(contourf_color))\n",
    "    plt.contour(mesh_f0, mesh_f1, y_pred, n_class-1, colors='y', linewidths=3, alpha=0.5)\n",
    "    for i, target in enumerate(set(y)):\n",
    "        plt.scatter(X[y==target][:, 0], X[y==target][:, 1], s=80, color=scatter_color[i], label=target_names[i], marker='o')\n",
    "    patches = [mpatches.Patch(color=scatter_color[i], label=target_names[i]) for i in range(n_class)]\n",
    "    plt.legend(handles=patches)\n",
    "    plt.legend()\n",
    "    plt.show()"
   ]
  },
  {
   "cell_type": "code",
   "execution_count": 35,
   "metadata": {},
   "outputs": [
    {
     "data": {
      "image/png": "[encoded data removed]",
      "text/plain": [
       "<Figure size 432x288 with 1 Axes>"
      ]
     },
     "metadata": {
      "needs_background": "light"
     },
     "output_type": "display_data"
    },
    {
     "data": {
      "image/png": "[encoded data removed]",
      "text/plain": [
       "<Figure size 432x288 with 1 Axes>"
      ]
     },
     "metadata": {
      "needs_background": "light"
     },
     "output_type": "display_data"
    },
    {
     "data": {
      "image/png": "[encoded data removed]",
      "text/plain": [
       "<Figure size 432x288 with 1 Axes>"
      ]
     },
     "metadata": {
      "needs_background": "light"
     },
     "output_type": "display_data"
    }
   ],
   "source": [
    "decision_region(X_train_std, y_train, model=nn_5, step=0.01, title='decision region / KNeighborsClassifier_nn_5',\n",
    "                xlabel=\"sepal length\", ylabel=\"petal length\")\n",
    "decision_region(X_train_std, y_train, model=nn_1, step=0.01, title='decision region / KNeighborsClassifier_nn_1',\n",
    "                xlabel=\"sepal length\", ylabel=\"petal length\")\n",
    "decision_region(X_train_std, y_train, model=nn_3, step=0.01, title='decision region / KNeighborsClassifier_nn_3',\n",
    "                xlabel=\"sepal length\", ylabel=\"petal length\")"
   ]
  },
  {
   "cell_type": "markdown",
   "metadata": {},
   "source": [
    "## 【問題8】他の手法の学習"
   ]
  },
  {
   "cell_type": "markdown",
   "metadata": {},
   "source": [
    "以下の全ての手法について学習・推定・評価・可視化を行ってください。そして、指標値を１つの表にまとめてください。その表と決定領域を利用して結果を簡単に考察してください。どの手法がどの指標値で良かったかや、どういった決定領域になっていたかを述べてください。\n",
    "\n",
    "- 最近傍法\n",
    "- ロジスティック回帰\n",
    "- SVM\n",
    "- 決定木\n",
    "- ランダムフォレスト"
   ]
  },
  {
   "cell_type": "markdown",
   "metadata": {},
   "source": [
    "### ロジスティック回帰"
   ]
  },
  {
   "cell_type": "code",
   "execution_count": 45,
   "metadata": {},
   "outputs": [
    {
     "name": "stderr",
     "output_type": "stream",
     "text": [
      "/Users/kojiyakubo/.pyenv/versions/anaconda3-2019.10/lib/python3.7/site-packages/sklearn/linear_model/logistic.py:432: FutureWarning: Default solver will be changed to 'lbfgs' in 0.22. Specify a solver to silence this warning.\n",
      "  FutureWarning)\n"
     ]
    },
    {
     "data": {
      "image/png": "[encoded data removed]",
      "text/plain": [
       "<Figure size 432x288 with 1 Axes>"
      ]
     },
     "metadata": {
      "needs_background": "light"
     },
     "output_type": "display_data"
    }
   ],
   "source": [
    "from sklearn.linear_model import LogisticRegression\n",
    "logistic = LogisticRegression(random_state=0)\n",
    "logistic.fit(X_train_std, y_train)\n",
    "y_predict_logistic = logistic.predict(X_test_std)\n",
    "decision_region(X_train_std, y_train, model=lreg, step=0.01, title='decision region / LogisticRegression',\n",
    "                xlabel=\"sepal length\", ylabel=\"petal length\")"
   ]
  },
  {
   "cell_type": "code",
   "execution_count": 58,
   "metadata": {},
   "outputs": [
    {
     "data": {
      "text/html": [
       "<div>\n",
       "<style scoped>\n",
       "    .dataframe tbody tr th:only-of-type {\n",
       "        vertical-align: middle;\n",
       "    }\n",
       "\n",
       "    .dataframe tbody tr th {\n",
       "        vertical-align: top;\n",
       "    }\n",
       "\n",
       "    .dataframe thead th {\n",
       "        text-align: right;\n",
       "    }\n",
       "</style>\n",
       "<table border=\"1\" class=\"dataframe\">\n",
       "  <thead>\n",
       "    <tr style=\"text-align: right;\">\n",
       "      <th></th>\n",
       "      <th>accuracy</th>\n",
       "      <th>precision</th>\n",
       "      <th>recall</th>\n",
       "      <th>f1</th>\n",
       "    </tr>\n",
       "  </thead>\n",
       "  <tbody>\n",
       "    <tr>\n",
       "      <th>LogisticRegression</th>\n",
       "      <td>0.92</td>\n",
       "      <td>1.0</td>\n",
       "      <td>0.846154</td>\n",
       "      <td>0.916667</td>\n",
       "    </tr>\n",
       "  </tbody>\n",
       "</table>\n",
       "</div>"
      ],
      "text/plain": [
       "                    accuracy  precision    recall        f1\n",
       "LogisticRegression      0.92        1.0  0.846154  0.916667"
      ]
     },
     "execution_count": 58,
     "metadata": {},
     "output_type": "execute_result"
    }
   ],
   "source": [
    "estimation_logistic_dict = {\n",
    "    \"accuracy\": accuracy_score(y_test, y_predict_logistic),\n",
    "    \"precision\": precision_score(y_test, y_predict_logistic),\n",
    "    \"recall\": recall_score(y_test, y_predict_logistic),\n",
    "    \"f1\":f1_score(y_test, y_predict_logistic)\n",
    "}\n",
    "\n",
    "estimation_logistic = pd.DataFrame(estimation_logistic_dict, index=['LogisticRegression'])\n",
    "estimation_logistic"
   ]
  },
  {
   "cell_type": "markdown",
   "metadata": {},
   "source": [
    "### SVM"
   ]
  },
  {
   "cell_type": "code",
   "execution_count": 73,
   "metadata": {},
   "outputs": [
    {
     "data": {
      "image/png": "[encoded data removed]",
      "text/plain": [
       "<Figure size 432x288 with 1 Axes>"
      ]
     },
     "metadata": {
      "needs_background": "light"
     },
     "output_type": "display_data"
    }
   ],
   "source": [
    "from sklearn.svm import SVC\n",
    "svc = SVC()\n",
    "svc.fit(X_train_std, y_train)\n",
    "y_predict_svc = svc.predict(X_train_std)\n",
    "#  グラフ化\n",
    "decision_region(X_train_std, y_train, model=svc, step=0.01, title='decision region / SVC',\n",
    "                xlabel=\"sepal length\", ylabel=\"petal length\")"
   ]
  },
  {
   "cell_type": "code",
   "execution_count": 70,
   "metadata": {},
   "outputs": [
    {
     "data": {
      "text/html": [
       "<div>\n",
       "<style scoped>\n",
       "    .dataframe tbody tr th:only-of-type {\n",
       "        vertical-align: middle;\n",
       "    }\n",
       "\n",
       "    .dataframe tbody tr th {\n",
       "        vertical-align: top;\n",
       "    }\n",
       "\n",
       "    .dataframe thead th {\n",
       "        text-align: right;\n",
       "    }\n",
       "</style>\n",
       "<table border=\"1\" class=\"dataframe\">\n",
       "  <thead>\n",
       "    <tr style=\"text-align: right;\">\n",
       "      <th></th>\n",
       "      <th>accuracy</th>\n",
       "      <th>precision</th>\n",
       "      <th>recall</th>\n",
       "      <th>f1</th>\n",
       "    </tr>\n",
       "  </thead>\n",
       "  <tbody>\n",
       "    <tr>\n",
       "      <th>SVC</th>\n",
       "      <td>0.92</td>\n",
       "      <td>1.0</td>\n",
       "      <td>0.846154</td>\n",
       "      <td>0.916667</td>\n",
       "    </tr>\n",
       "  </tbody>\n",
       "</table>\n",
       "</div>"
      ],
      "text/plain": [
       "     accuracy  precision    recall        f1\n",
       "SVC      0.92        1.0  0.846154  0.916667"
      ]
     },
     "execution_count": 70,
     "metadata": {},
     "output_type": "execute_result"
    }
   ],
   "source": [
    "estimation_svc_dict = {\n",
    "    \"accuracy\": accuracy_score(y_test, y_predict_svc),\n",
    "    \"precision\": precision_score(y_test, y_predict_svc),\n",
    "    \"recall\": recall_score(y_test, y_predict_svc),\n",
    "    \"f1\":f1_score(y_test, y_predict_svc)\n",
    "}\n",
    "\n",
    "estimation_svc = pd.DataFrame(estimation_svc_dict, index=['SVC'])\n",
    "estimation_svc"
   ]
  },
  {
   "cell_type": "markdown",
   "metadata": {},
   "source": [
    "### 決定木"
   ]
  },
  {
   "cell_type": "code",
   "execution_count": 57,
   "metadata": {},
   "outputs": [
    {
     "data": {
      "image/png": "[encoded data removed]",
      "text/plain": [
       "<Figure size 432x288 with 1 Axes>"
      ]
     },
     "metadata": {
      "needs_background": "light"
     },
     "output_type": "display_data"
    }
   ],
   "source": [
    "from sklearn.tree import DecisionTreeClassifier\n",
    "dtc = DecisionTreeClassifier(random_state=0)\n",
    "dtc.fit(X_train_std, y_train)\n",
    "y_predict_dtree = dtc.predict(X_test_std)\n",
    "decision_region(X_train_std, y_train, model=dtc, step=0.01, title='decision region / DecisionTreeClassifier',\n",
    "                xlabel=\"sepal length\", ylabel=\"petal length\")"
   ]
  },
  {
   "cell_type": "code",
   "execution_count": 60,
   "metadata": {},
   "outputs": [
    {
     "data": {
      "text/html": [
       "<div>\n",
       "<style scoped>\n",
       "    .dataframe tbody tr th:only-of-type {\n",
       "        vertical-align: middle;\n",
       "    }\n",
       "\n",
       "    .dataframe tbody tr th {\n",
       "        vertical-align: top;\n",
       "    }\n",
       "\n",
       "    .dataframe thead th {\n",
       "        text-align: right;\n",
       "    }\n",
       "</style>\n",
       "<table border=\"1\" class=\"dataframe\">\n",
       "  <thead>\n",
       "    <tr style=\"text-align: right;\">\n",
       "      <th></th>\n",
       "      <th>accuracy</th>\n",
       "      <th>precision</th>\n",
       "      <th>recall</th>\n",
       "      <th>f1</th>\n",
       "    </tr>\n",
       "  </thead>\n",
       "  <tbody>\n",
       "    <tr>\n",
       "      <th>DecisionTreeClassifier</th>\n",
       "      <td>0.84</td>\n",
       "      <td>0.909091</td>\n",
       "      <td>0.769231</td>\n",
       "      <td>0.833333</td>\n",
       "    </tr>\n",
       "  </tbody>\n",
       "</table>\n",
       "</div>"
      ],
      "text/plain": [
       "                        accuracy  precision    recall        f1\n",
       "DecisionTreeClassifier      0.84   0.909091  0.769231  0.833333"
      ]
     },
     "execution_count": 60,
     "metadata": {},
     "output_type": "execute_result"
    }
   ],
   "source": [
    "estimation_dtc_dict = {\n",
    "    \"accuracy\": accuracy_score(y_test, y_predict_dtc),\n",
    "    \"precision\": precision_score(y_test, y_predict_dtc),\n",
    "    \"recall\": recall_score(y_test, y_predict_dtc),\n",
    "    \"f1\":f1_score(y_test, y_predict_dtc)\n",
    "}\n",
    "estimation_dtc = pd.DataFrame(estimation_dtc_dict, index=['DecisionTreeClassifier'])\n",
    "estimation_dtc"
   ]
  },
  {
   "cell_type": "markdown",
   "metadata": {},
   "source": [
    "### ランダムフォレスト"
   ]
  },
  {
   "cell_type": "code",
   "execution_count": 63,
   "metadata": {},
   "outputs": [
    {
     "name": "stderr",
     "output_type": "stream",
     "text": [
      "/Users/kojiyakubo/.pyenv/versions/anaconda3-2019.10/lib/python3.7/site-packages/sklearn/ensemble/forest.py:245: FutureWarning: The default value of n_estimators will change from 10 in version 0.20 to 100 in 0.22.\n",
      "  \"10 in version 0.20 to 100 in 0.22.\", FutureWarning)\n"
     ]
    },
    {
     "data": {
      "image/png": "[encoded data removed]",
      "text/plain": [
       "<Figure size 432x288 with 1 Axes>"
      ]
     },
     "metadata": {
      "needs_background": "light"
     },
     "output_type": "display_data"
    }
   ],
   "source": [
    "from sklearn.ensemble import RandomForestClassifier\n",
    "rfc = RandomForestClassifier(random_state=0)\n",
    "rfc.fit(X_train_std, y_train)\n",
    "y_predict_rfc = rfc.predict(X_test_std)\n",
    "#  グラフ化\n",
    "decision_region(X_train_std, y_train, model=rfc, step=0.01, title='decision region / RandomForestClassifier',\n",
    "                xlabel=\"sepal length\", ylabel=\"petal length\")"
   ]
  },
  {
   "cell_type": "code",
   "execution_count": 65,
   "metadata": {},
   "outputs": [
    {
     "data": {
      "text/html": [
       "<div>\n",
       "<style scoped>\n",
       "    .dataframe tbody tr th:only-of-type {\n",
       "        vertical-align: middle;\n",
       "    }\n",
       "\n",
       "    .dataframe tbody tr th {\n",
       "        vertical-align: top;\n",
       "    }\n",
       "\n",
       "    .dataframe thead th {\n",
       "        text-align: right;\n",
       "    }\n",
       "</style>\n",
       "<table border=\"1\" class=\"dataframe\">\n",
       "  <thead>\n",
       "    <tr style=\"text-align: right;\">\n",
       "      <th></th>\n",
       "      <th>accuracy</th>\n",
       "      <th>precision</th>\n",
       "      <th>recall</th>\n",
       "      <th>f1</th>\n",
       "    </tr>\n",
       "  </thead>\n",
       "  <tbody>\n",
       "    <tr>\n",
       "      <th>RandomForestClassifier</th>\n",
       "      <td>0.88</td>\n",
       "      <td>1.0</td>\n",
       "      <td>0.769231</td>\n",
       "      <td>0.869565</td>\n",
       "    </tr>\n",
       "  </tbody>\n",
       "</table>\n",
       "</div>"
      ],
      "text/plain": [
       "                        accuracy  precision    recall        f1\n",
       "RandomForestClassifier      0.88        1.0  0.769231  0.869565"
      ]
     },
     "execution_count": 65,
     "metadata": {},
     "output_type": "execute_result"
    }
   ],
   "source": [
    "estimation_rfc_dict = {\n",
    "    \"accuracy\": accuracy_score(y_test, y_predict_rfc),\n",
    "    \"precision\": precision_score(y_test, y_predict_rfc),\n",
    "    \"recall\": recall_score(y_test, y_predict_rfc),\n",
    "    \"f1\":f1_score(y_test, y_predict_rfc)\n",
    "}\n",
    "estimation_rfc = pd.DataFrame(estimation_rfc_dict, index=['RandomForestClassifier'])\n",
    "estimation_rfc"
   ]
  },
  {
   "cell_type": "markdown",
   "metadata": {},
   "source": [
    "### 指標値の一覧"
   ]
  },
  {
   "cell_type": "code",
   "execution_count": 74,
   "metadata": {},
   "outputs": [
    {
     "data": {
      "text/html": [
       "<div>\n",
       "<style scoped>\n",
       "    .dataframe tbody tr th:only-of-type {\n",
       "        vertical-align: middle;\n",
       "    }\n",
       "\n",
       "    .dataframe tbody tr th {\n",
       "        vertical-align: top;\n",
       "    }\n",
       "\n",
       "    .dataframe thead th {\n",
       "        text-align: right;\n",
       "    }\n",
       "</style>\n",
       "<table border=\"1\" class=\"dataframe\">\n",
       "  <thead>\n",
       "    <tr style=\"text-align: right;\">\n",
       "      <th></th>\n",
       "      <th>accuracy</th>\n",
       "      <th>precision</th>\n",
       "      <th>recall</th>\n",
       "      <th>f1</th>\n",
       "    </tr>\n",
       "  </thead>\n",
       "  <tbody>\n",
       "    <tr>\n",
       "      <th>KNeighborsClassifier(5-nn)</th>\n",
       "      <td>0.88</td>\n",
       "      <td>1.000000</td>\n",
       "      <td>0.769231</td>\n",
       "      <td>0.869565</td>\n",
       "    </tr>\n",
       "    <tr>\n",
       "      <th>LogisticRegression</th>\n",
       "      <td>0.92</td>\n",
       "      <td>1.000000</td>\n",
       "      <td>0.846154</td>\n",
       "      <td>0.916667</td>\n",
       "    </tr>\n",
       "    <tr>\n",
       "      <th>SVC</th>\n",
       "      <td>0.92</td>\n",
       "      <td>1.000000</td>\n",
       "      <td>0.846154</td>\n",
       "      <td>0.916667</td>\n",
       "    </tr>\n",
       "    <tr>\n",
       "      <th>DecisionTreeClassifier</th>\n",
       "      <td>0.84</td>\n",
       "      <td>0.909091</td>\n",
       "      <td>0.769231</td>\n",
       "      <td>0.833333</td>\n",
       "    </tr>\n",
       "    <tr>\n",
       "      <th>RandomForestClassifier</th>\n",
       "      <td>0.88</td>\n",
       "      <td>1.000000</td>\n",
       "      <td>0.769231</td>\n",
       "      <td>0.869565</td>\n",
       "    </tr>\n",
       "  </tbody>\n",
       "</table>\n",
       "</div>"
      ],
      "text/plain": [
       "                            accuracy  precision    recall        f1\n",
       "KNeighborsClassifier(5-nn)      0.88   1.000000  0.769231  0.869565\n",
       "LogisticRegression              0.92   1.000000  0.846154  0.916667\n",
       "SVC                             0.92   1.000000  0.846154  0.916667\n",
       "DecisionTreeClassifier          0.84   0.909091  0.769231  0.833333\n",
       "RandomForestClassifier          0.88   1.000000  0.769231  0.869565"
      ]
     },
     "execution_count": 74,
     "metadata": {},
     "output_type": "execute_result"
    }
   ],
   "source": [
    "#指標を１つにまとめる\n",
    "pd.concat([estimation_nn_5, estimation_logistic, estimation_svc, estimation_dtc, estimation_rfc], axis=0)\n"
   ]
  },
  {
   "cell_type": "markdown",
   "metadata": {},
   "source": [
    "[考察]  \n",
    "Accuracy（正解率）、Recall（再現率）、f1の指標で**ロジスティック回帰**と**SVM**が良好な結果でした。\n",
    "決定領域はロジスティック回帰が直線、SVMが曲線、決定木とランダムフォレストは水平線と垂直線の形状です。\n"
   ]
  }
 ],
 "metadata": {
  "kernelspec": {
   "display_name": "Python 3",
   "language": "python",
   "name": "python3"
  },
  "language_info": {
   "codemirror_mode": {
    "name": "ipython",
    "version": 3
   },
   "file_extension": ".py",
   "mimetype": "text/x-python",
   "name": "python",
   "nbconvert_exporter": "python",
   "pygments_lexer": "ipython3",
   "version": "3.7.4"
  }
 },
 "nbformat": 4,
 "nbformat_minor": 2
}
