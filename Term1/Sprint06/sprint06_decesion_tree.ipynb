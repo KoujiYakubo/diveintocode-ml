{
 "cells": [
  {
   "cell_type": "markdown",
   "metadata": {},
   "source": [
    "# Sprint 機械学習スクラッチ 決定木"
   ]
  },
  {
   "cell_type": "markdown",
   "metadata": {},
   "source": [
    "分類のための決定木のクラスをスクラッチで作成していきます。NumPyなど最低限のライブラリのみを使いアルゴリズムを実装していきます。\n",
    "\n",
    "\n",
    "決定木の学習には何回まで条件分岐を繰り返すかを表す （最大の）深さ というハイパーパラメータが登場しますが、深さ1の実装を必須課題とします。深さが2以上のものはアドバンス課題とします。\n",
    "\n",
    "\n",
    "学習の仕方には様々な方法がありますが、ここではscikit-learnでも使用されている CART法 をベースとした実装を行います。この方法では学習の複雑さを減らすために、 分岐は2つに分かれるのみ になります。\n",
    "\n",
    "\n",
    "以下に雛形を用意してあります。このScratchDecesionTreeClassifierDepth1クラスにコードを書き加えていってください。"
   ]
  },
  {
   "cell_type": "markdown",
   "metadata": {},
   "source": [
    "## 雛形"
   ]
  },
  {
   "cell_type": "code",
   "execution_count": 35,
   "metadata": {},
   "outputs": [],
   "source": [
    "class ScratchDecesionTreeClassifierDepth1():\n",
    "    \"\"\"\n",
    "    深さ1の決定木分類器のスクラッチ実装\n",
    "\n",
    "    Parameters\n",
    "    ----------\n",
    "    verbose : bool\n",
    "      学習過程を出力する場合はTrue\n",
    "    \"\"\"\n",
    "    def __init__(self, verbose=False):\n",
    "        # ハイパーパラメータを属性として記録\n",
    "        self.verbose = verbose\n",
    "    def fit(self, X, y):\n",
    "        \"\"\"\n",
    "        決定木分類器を学習する\n",
    "        Parameters\n",
    "        ----------\n",
    "        X : 次の形のndarray, shape (n_samples, n_features)\n",
    "            訓練データの特徴量\n",
    "        y : 次の形のndarray, shape (n_samples, )\n",
    "            訓練データの正解値\n",
    "        \"\"\"\n",
    "        if self.verbose:\n",
    "            #verboseをTrueにした際は学習過程を出力\n",
    "            print()\n",
    "        pass\n",
    "    def predict(self, X):\n",
    "        \"\"\"\n",
    "        決定木分類器を使いラベルを推定する\n",
    "        \"\"\"\n",
    "        pass\n",
    "        return"
   ]
  },
  {
   "cell_type": "markdown",
   "metadata": {},
   "source": [
    "## 【問題1】不純度を求める関数"
   ]
  },
  {
   "cell_type": "markdown",
   "metadata": {},
   "source": [
    "ノード の ジニ不純度 を計算する関数を作成してください。ノード \n",
    "t\n",
    " に対するジニ不純度 \n",
    "I\n",
    "(\n",
    "t\n",
    ")\n",
    " は以下の数式で求まります。クラスが混じり合っているほどジニ不純度は高くなります。"
   ]
  },
  {
   "cell_type": "markdown",
   "metadata": {},
   "source": [
    "$$\n",
    "I(t) = 1-\\sum_{i=1}^{K}P^2(C_i|t) = 1-\\sum_{i=1}^{K}(\\frac{N_{t,i}}{N_{t,all}})^{2}\n",
    "$$\n",
    "\n",
    "t\n",
    " : ノードのインデックス\n",
    "\n",
    "\n",
    "i\n",
    " : クラスのインデックス\n",
    "\n",
    "\n",
    "K\n",
    " : クラスの数\n",
    "\n",
    "\n",
    "C\n",
    "i\n",
    " : i番目のクラス\n",
    "\n",
    "\n",
    "P\n",
    "(\n",
    "C\n",
    "i\n",
    "|\n",
    "t\n",
    ")\n",
    " :　t番目のノードにおける\n",
    "C\n",
    "i\n",
    "の割合\n",
    "\n",
    "\n",
    "N\n",
    "t\n",
    ",\n",
    "i\n",
    " : t番目のノードのi番目のクラスに属するサンプル数\n",
    "\n",
    "\n",
    "N\n",
    "t\n",
    ",\n",
    "a\n",
    "l\n",
    "l\n",
    " : t番目のノードのサンプルの総数\n",
    "\n",
    "\n",
    "まずは簡単な例を作り、手計算と関数の結果を比較してください。"
   ]
  },
  {
   "cell_type": "code",
   "execution_count": 5,
   "metadata": {},
   "outputs": [],
   "source": [
    "def gain_gini(y):\n",
    "    \n",
    "    # pureの初期化\n",
    "    pure = 0\n",
    "    # yの固有値リストの分だけpureを算出、合算\n",
    "    for y_set in list(set(y)):\n",
    "        pure += ((y==y_set).sum()/y.shape[0])**2\n",
    "    gini = 1 - pure\n",
    "    \n",
    "    return gini"
   ]
  },
  {
   "cell_type": "code",
   "execution_count": 10,
   "metadata": {},
   "outputs": [],
   "source": [
    "import numpy as np\n",
    "from sklearn.datasets import load_iris\n",
    "# データセットのロード\n",
    "iris = load_iris()\n",
    "X = iris.data[:,[0,1]][:100]\n",
    "y = iris.target[:100]"
   ]
  },
  {
   "cell_type": "code",
   "execution_count": 11,
   "metadata": {},
   "outputs": [
    {
     "data": {
      "text/plain": [
       "0.5"
      ]
     },
     "execution_count": 11,
     "metadata": {},
     "output_type": "execute_result"
    }
   ],
   "source": [
    "gain_gini(y)"
   ]
  },
  {
   "cell_type": "code",
   "execution_count": 12,
   "metadata": {},
   "outputs": [
    {
     "data": {
      "text/plain": [
       "0.5"
      ]
     },
     "execution_count": 12,
     "metadata": {},
     "output_type": "execute_result"
    }
   ],
   "source": [
    "# クラス1:サンプル数15, クラス2:サンプル数15 → ジニ不純度0.500\n",
    "y_t0 = np.zeros(15)\n",
    "y_t1 = np.ones(15)\n",
    "y_t0_t1 = np.concatenate([ y_t0, y_t1])\n",
    "gain_gini(y_t0_t1)"
   ]
  },
  {
   "cell_type": "code",
   "execution_count": 13,
   "metadata": {},
   "outputs": [
    {
     "data": {
      "text/plain": [
       "0.6666666666666667"
      ]
     },
     "execution_count": 13,
     "metadata": {},
     "output_type": "execute_result"
    }
   ],
   "source": [
    "# クラス1:サンプル数15, クラス2:サンプル数15, クラス3:サンプル数15 → ジニ不純度0.667\n",
    "y_t0 = np.zeros(15)\n",
    "y_t1 = np.ones(15)\n",
    "y_t2 = np.full(15,2)\n",
    "y_t0_t1_t2 = np.concatenate([ y_t0, y_t1, y_t2])\n",
    "gain_gini(y_t0_t1_t2)"
   ]
  },
  {
   "cell_type": "code",
   "execution_count": 14,
   "metadata": {},
   "outputs": [
    {
     "data": {
      "text/plain": [
       "0.48"
      ]
     },
     "execution_count": 14,
     "metadata": {},
     "output_type": "execute_result"
    }
   ],
   "source": [
    "# クラス1:サンプル数18, クラス2:サンプル数12 → ジニ不純度0.480\n",
    "y_t0 = np.zeros(18)\n",
    "y_t1 = np.ones(12)\n",
    "y_t0_t1 = np.concatenate([ y_t0, y_t1])\n",
    "gain_gini(y_t0_t1)"
   ]
  },
  {
   "cell_type": "code",
   "execution_count": 15,
   "metadata": {},
   "outputs": [
    {
     "data": {
      "text/plain": [
       "0.0"
      ]
     },
     "execution_count": 15,
     "metadata": {},
     "output_type": "execute_result"
    }
   ],
   "source": [
    "# クラス1:サンプル数30, クラス2:サンプル数0 → ジニ不純度0.000\n",
    "y_t0 = np.zeros(30)\n",
    "gain_gini(y_t0)"
   ]
  },
  {
   "cell_type": "markdown",
   "metadata": {},
   "source": [
    "## 【問題2】情報利得を求める関数"
   ]
  },
  {
   "cell_type": "markdown",
   "metadata": {},
   "source": [
    "次に、ノード間の 情報利得 を計算する関数を作成してください。問題1で作成したジニ不純度 \n",
    "I\n",
    "(\n",
    "t\n",
    ")\n",
    " を計算する関数を呼び出して使います。情報利得\n",
    "I\n",
    "G\n",
    "は以下の数式で求まります。うまく分けられている時ほど情報利得は大きくなります。\n",
    "\n",
    "\n",
    "ここで分岐は2つのみであるため、分岐先を「左側のノード・右側のノード」と呼びます。"
   ]
  },
  {
   "cell_type": "markdown",
   "metadata": {},
   "source": [
    "$\n",
    "IG(p) = I(p)-\\frac{N_{left,all}}{N_{p,all}}I(left)-\\frac{N_{right,all}}{N_{p,all}}I(right)\n",
    "$"
   ]
  },
  {
   "cell_type": "code",
   "execution_count": 86,
   "metadata": {},
   "outputs": [],
   "source": [
    "def gain_ig( root_gini, left_gini, right_gini, root_len):\n",
    "    '''\n",
    "    情報利得を計算する\n",
    "    '''\n",
    "    #割合\n",
    "    left_ratio = len(left)/root_len\n",
    "    right_ratio = len(right)/root_len\n",
    "    \n",
    "    return root_gini - left_gini*left_ratio- right_gini*right_ratio"
   ]
  },
  {
   "cell_type": "code",
   "execution_count": 87,
   "metadata": {},
   "outputs": [
    {
     "data": {
      "text/plain": [
       "0.14319526627218937"
      ]
     },
     "execution_count": 87,
     "metadata": {},
     "output_type": "execute_result"
    }
   ],
   "source": [
    "left_c1 = np.full(10, 1)\n",
    "left_c2 = np.full(30, 2)\n",
    "right_c1 = np.full(20, 1)\n",
    "right_c2 = np.full(5, 2)\n",
    "left = np.concatenate([left_c1, left_c2])\n",
    "right = np.concatenate([right_c1, right_c2])\n",
    "parent = np.concatenate([left, right])\n",
    "\n",
    "root_gini = gain_gini(parent)\n",
    "left_gini = gain_gini(left)\n",
    "right_gini = gain_gini(right)\n",
    "root_len = len(parent)\n",
    "\n",
    "gain_ig(root_gini, left_gini, right_gini, root_len)"
   ]
  },
  {
   "cell_type": "markdown",
   "metadata": {},
   "source": [
    "## 【問題3】学習"
   ]
  },
  {
   "cell_type": "markdown",
   "metadata": {},
   "source": [
    "空間の分割を行い、決定木のグラフを生成するコードを作成してください。今は深さ1の決定木なので、分割を1回だけ行います。ここでグラフを生成するとは、1回の分割の際の条件としてどの特徴量がいくつ以上の時とするかを求めるということです。\n",
    "\n",
    "\n",
    "訓練データに対して全ての組み合わせの分割を行い、その中でノード間の情報利得が最大となる分割をそのノードの分割基準として記録します。\n",
    "\n",
    "\n",
    "クラスが混ざらない不純度が0のノード、または指定された深さのノードが 葉ノード となります。葉ノードにはクラスを記録しておき、これを推定時に分類するクラスとします。クラスが混ざらない場合はそのままのクラスを記録し、混ざっている場合は多数決により決めます。"
   ]
  },
  {
   "cell_type": "code",
   "execution_count": null,
   "metadata": {},
   "outputs": [],
   "source": [
    "    def fit(self, X, y):\n",
    "        \n",
    "        # 不純度の計算\n",
    "        root_gini = gain_gini(y)\n",
    "        \n",
    "        # 初期化\n",
    "        ig_max = 0\n",
    "        \n",
    "        for j in range(X.shape[1]): \n",
    "            # Xの固有値リストを取得\n",
    "            X_set = list(set(X[:, j]))\n",
    "            \n",
    "            for i in range(len(X_set)-1):\n",
    "                # Xの固有値を元に分割\n",
    "                # 各node保持\n",
    "                self.y_left = y[np.where(X[:, j]<=X_set[i])]\n",
    "                self.y_right = y[np.where(X[:, j]>X_set[i])]\n",
    "                \n",
    "                # 不純度の計算\n",
    "                left_gini = gain_gini(self.y_left)\n",
    "                right_gini = gain_gini(self.y_right)\n",
    "                \n",
    "                # 利得の計算\n",
    "                root_len = len(y)\n",
    "                ig = gain_ig(self, root_gini, left_gini, right_gini, root_len)\n",
    "                \n",
    "                # 利得が最大となる組み合わせの保持\n",
    "                if ig > ig_max:\n",
    "                    ig_max = ig\n",
    "                    self.best_class_left = np.unique(self.y_left,\n",
    "                                                     return_counts=True)[1].argmax()\n",
    "                    self.best_class_right = np.unique(self.y_right,\n",
    "                                                      return_counts=True)[1].argmax()\n",
    "                    self.best_X_set = X_set[i]\n",
    "                    self.best_col = j\n",
    "        \n",
    "        if self.verbose:\n",
    "            #verboseをTrueにした際は学習過程を出力\n",
    "            print()"
   ]
  },
  {
   "cell_type": "markdown",
   "metadata": {},
   "source": [
    "## 【問題4】推定\n",
    "推定する仕組みを実装してください。ScratchDecesionTreeClassifierDepth1クラスの雛形に含まれるpredictメソッドに書き加えてください。\n",
    "\n",
    "\n",
    "入力されたデータの値を学習した条件で判定していき、どの葉ノードに到達するかを見ます。葉ノードにはクラスが記録されているので、これが推定値となります。"
   ]
  },
  {
   "cell_type": "code",
   "execution_count": null,
   "metadata": {},
   "outputs": [],
   "source": [
    "    def predict(self, X):\n",
    "        \"\"\"\n",
    "        決定木分類器を使いラベルを推定する\n",
    "        \"\"\"\n",
    "        y_pred = np.zeros(X.shape[0])\n",
    "        y_pred[np.where(X[:, self.best_col]<=self.best_X_set)] = self.best_class_left\n",
    "        y_pred[np.where(X[:, self.best_col]>self.best_X_set)] = self.best_class_right\n",
    "        \n",
    "        return y_pred"
   ]
  },
  {
   "cell_type": "markdown",
   "metadata": {},
   "source": [
    "### 問題1〜4を反映したコード"
   ]
  },
  {
   "cell_type": "code",
   "execution_count": 27,
   "metadata": {},
   "outputs": [],
   "source": [
    "class ScratchDecesionTreeClassifierDepth1():\n",
    "    \"\"\"\n",
    "    深さ1の決定木分類器のスクラッチ実装\n",
    "\n",
    "    Parameters\n",
    "    ----------\n",
    "    verbose : bool\n",
    "      学習過程を出力する場合はTrue\n",
    "    \"\"\"\n",
    "    def __init__(self, verbose=False):\n",
    "        # ハイパーパラメータを属性として記録\n",
    "        self.verbose = verbose\n",
    "        # 各ノードのインスタンス\n",
    "        self.y_left = 0\n",
    "        self.y_right = 0\n",
    "        # 最適なXの分割ポイント\n",
    "        self.best_X_set = 0\n",
    "        self.best_col = 0\n",
    "        self.best_class_left = 0\n",
    "        self.best_class_right = 0\n",
    "        \n",
    "    def fit(self, X, y):\n",
    "        \"\"\"\n",
    "        決定木分類器を学習する\n",
    "        Parameters\n",
    "        ----------\n",
    "        X : 次の形のndarray, shape (n_samples, n_features)\n",
    "            学習用データの特徴量\n",
    "        y : 次の形のndarray, shape (n_samples, )\n",
    "            学習用データの正解値\n",
    "        \"\"\"\n",
    "        #rootの不純度の計算\n",
    "        root_gini = gain_gini(y)\n",
    "        \n",
    "        # 最大利得の初期化\n",
    "        ig_max = 0\n",
    "        \n",
    "        # 最も不純度が低下する組み合わせを網羅的に探索\n",
    "        # 特徴量毎に繰り返す\n",
    "        for j in range(X.shape[1]): \n",
    "            # Xの固有値リストを取得（setでソート済み）\n",
    "            X_set = list(set(X[:, j]))\n",
    "            \n",
    "            # 「Xの固有値の数−１」for\n",
    "            for i in range(len(X_set)-1):\n",
    "                # Xの固有値を元に分割\n",
    "                # 各node保持\n",
    "                self.y_left = y[np.where(X[:, j]<=X_set[i])]\n",
    "                self.y_right = y[np.where(X[:, j]>X_set[i])]\n",
    "                \n",
    "                # 不純度の計算\n",
    "                left_gini = gain_gini(self.y_left)\n",
    "                right_gini = gain_gini(self.y_right)\n",
    "                \n",
    "                # 利得の計算\n",
    "                root_len = len(y)\n",
    "                ig = gain_ig(self, root_gini, left_gini, right_gini, root_len)\n",
    "                \n",
    "                # 利得が最大となる組み合わせの保持\n",
    "                if ig > ig_max:\n",
    "                    ig_max = ig\n",
    "                    self.best_class_left = np.unique(self.y_left,\n",
    "                                                     return_counts=True)[1].argmax()\n",
    "                    self.best_class_right = np.unique(self.y_right,\n",
    "                                                      return_counts=True)[1].argmax()\n",
    "                    self.best_X_set = X_set[i]\n",
    "                    self.best_col = j\n",
    "        \n",
    "        if self.verbose:\n",
    "            #verboseをTrueにした際は学習過程を出力\n",
    "            print()\n",
    "            \n",
    "            \n",
    "    def gain_gini(y):\n",
    "        \n",
    "        # pureの初期化\n",
    "        pure = 0\n",
    "        # yの固有値リストの分だけpureを算出、合算\n",
    "        for y_set in list(set(y)):\n",
    "            pure += ((y==y_set).sum()/y.shape[0])**2\n",
    "        gini = 1 - pure\n",
    "    \n",
    "        return gini\n",
    "\n",
    "    def gain_ig(self, root_gini, left_gini, right_gini, root_len):\n",
    "        '''\n",
    "        情報利得を計算する\n",
    "        '''\n",
    "        #割合\n",
    "        left_ratio = len(self.y_left)/root_len\n",
    "        right_ratio = len(self.y_right)/root_len\n",
    "    \n",
    "        return root_gini - left_gini*left_ratio- right_gini*right_ratio\n",
    "    \n",
    "    def predict(self, X):\n",
    "        \"\"\"\n",
    "        決定木分類器を使いラベルを推定する\n",
    "        \"\"\"\n",
    "        y_pred = np.zeros(X.shape[0])\n",
    "        y_pred[np.where(X[:, self.best_col]<=self.best_X_set)] = self.best_class_left\n",
    "        y_pred[np.where(X[:, self.best_col]>self.best_X_set)] = self.best_class_right\n",
    "        \n",
    "        return y_pred"
   ]
  },
  {
   "cell_type": "markdown",
   "metadata": {},
   "source": [
    "## 【問題5】学習と推定\n",
    "機械学習スクラッチ入門のSprintで用意したシンプルデータセット2の2値分類に対してスクラッチ実装の学習と推定を行なってください。\n",
    "\n",
    "\n",
    "scikit-learnによる実装と比べ、正しく動いているかを確認してください。\n",
    "\n",
    "\n",
    "AccuracyやPrecision、Recallなどの指標値はscikit-learnを使用してください。"
   ]
  },
  {
   "cell_type": "code",
   "execution_count": 47,
   "metadata": {},
   "outputs": [],
   "source": [
    "# シンプルデータセット２\n",
    "X2 = np.array([[-0.44699 , -2.8073  ],[-1.4621  , -2.4586  ],\n",
    "       [ 0.10645 ,  1.9242  ],[-3.5944  , -4.0112  ],\n",
    "       [-0.9888  ,  4.5718  ],[-3.1625  , -3.9606  ],\n",
    "       [ 0.56421 ,  0.72888 ],[-0.60216 ,  8.4636  ],\n",
    "       [-0.61251 , -0.75345 ],[-0.73535 , -2.2718  ],\n",
    "       [-0.80647 , -2.2135  ],[ 0.86291 ,  2.3946  ],\n",
    "       [-3.1108  ,  0.15394 ],[-2.9362  ,  2.5462  ],\n",
    "       [-0.57242 , -2.9915  ],[ 1.4771  ,  3.4896  ],\n",
    "       [ 0.58619 ,  0.37158 ],[ 0.6017  ,  4.3439  ],\n",
    "       [-2.1086  ,  8.3428  ],[-4.1013  , -4.353   ],\n",
    "       [-1.9948  , -1.3927  ],[ 0.35084 , -0.031994],\n",
    "       [ 0.96765 ,  7.8929  ],[-1.281   , 15.6824  ],\n",
    "       [ 0.96765 , 10.083   ],[ 1.3763  ,  1.3347  ],\n",
    "       [-2.234   , -2.5323  ],[-2.9452  , -1.8219  ],\n",
    "       [ 0.14654 , -0.28733 ],[ 0.5461  ,  5.8245  ],\n",
    "       [-0.65259 ,  9.3444  ],[ 0.59912 ,  5.3524  ],\n",
    "       [ 0.50214 , -0.31818 ],[-3.0603  , -3.6461  ],\n",
    "       [-6.6797  ,  0.67661 ],[-2.353   , -0.72261 ],\n",
    "       [ 1.1319  ,  2.4023  ],[-0.12243 ,  9.0162  ],\n",
    "       [-2.5677  , 13.1779  ],[ 0.057313,  5.4681  ]])\n",
    "y2 = np.array([0, 0, 0, 0, 0, 0, 0, 0, 0, 0, 0, 0, 0, 0, 0, 0, 0, 0, 0, 0, 1, 1,\n",
    "       1, 1, 1, 1, 1, 1, 1, 1, 1, 1, 1, 1, 1, 1, 1, 1, 1, 1])"
   ]
  },
  {
   "cell_type": "code",
   "execution_count": 41,
   "metadata": {},
   "outputs": [],
   "source": [
    "# 評価指標の関数\n",
    "from sklearn.metrics import accuracy_score\n",
    "from sklearn.metrics import precision_score\n",
    "from sklearn.metrics import recall_score\n",
    "from sklearn.metrics import f1_score\n",
    "\n",
    "def evalate(y_test, y_pred):\n",
    "    print(\"accuracy =\", accuracy_score(y_test, y_pred))\n",
    "    print(\"precision =\", precision_score(y_test, y_pred, average='macro'))\n",
    "    print(\"recall =\", recall_score(y_test, y_pred, average='macro'))\n",
    "    print(\"f1 =\", f1_score(y_test, y_pred, average='macro'))"
   ]
  },
  {
   "cell_type": "code",
   "execution_count": 60,
   "metadata": {},
   "outputs": [
    {
     "name": "stdout",
     "output_type": "stream",
     "text": [
      "accuracy = 0.675\n",
      "precision = 0.719435736677116\n",
      "recall = 0.675\n",
      "f1 = 0.6576695194206715\n"
     ]
    }
   ],
   "source": [
    "#スクラッチによる学習、推定\n",
    "scratchtree = ScratchDecesionTreeClassifierDepth1()\n",
    "scratchtree.fit(X2, y2)\n",
    "y_pred =scratchtree.predict(X2)\n",
    "evalate(y2, y_pred)"
   ]
  },
  {
   "cell_type": "code",
   "execution_count": 63,
   "metadata": {},
   "outputs": [
    {
     "name": "stdout",
     "output_type": "stream",
     "text": [
      "accuracy = 0.675\n",
      "precision = 0.719435736677116\n",
      "recall = 0.675\n",
      "f1 = 0.6576695194206715\n"
     ]
    }
   ],
   "source": [
    "#scikit-learnによる学習、推定\n",
    "from sklearn.tree import DecisionTreeClassifier\n",
    "sktree = DecisionTreeClassifier(criterion='gini',max_depth=1,random_state=0)\n",
    "sktree.fit(X2, y2)\n",
    "y_pred2 =scratchtree.predict(X2)\n",
    "evalate(y2, y_pred2)"
   ]
  },
  {
   "cell_type": "markdown",
   "metadata": {},
   "source": [
    "## 【問題6】決定領域の可視化\n",
    "決定領域を可視化してください。"
   ]
  },
  {
   "cell_type": "code",
   "execution_count": 64,
   "metadata": {},
   "outputs": [],
   "source": [
    "import matplotlib.pyplot as plt\n",
    "from matplotlib.colors import ListedColormap\n",
    "import matplotlib.patches as mpatches"
   ]
  },
  {
   "cell_type": "code",
   "execution_count": 65,
   "metadata": {},
   "outputs": [],
   "source": [
    "def decision_region(X_train, y_train, model, step=0.01, title='decision region',\n",
    "                    xlabel='xlabel', ylabel='ylabel', target_names=['versicolor', 'virginica']):\n",
    "    \"\"\"\n",
    "    2値分類を2次元の特徴量で学習したモデルの決定領域を描く。\n",
    "    背景の色が学習したモデルによる推定値から描画される。\n",
    "    散布図の点は学習用データである。\n",
    "\n",
    "    Parameters\n",
    "    ----------------\n",
    "    X_train : ndarray, shape(n_samples, 2)\n",
    "        学習用データの特徴量\n",
    "    y_train : ndarray, shape(n_samples, 1)\n",
    "        学習用データの正解値\n",
    "    model : object\n",
    "        学習したモデルのインスンタスを入れる\n",
    "    step : float, (default : 0.1)\n",
    "        推定値を計算する間隔を設定する\n",
    "    title : str\n",
    "        グラフのタイトルの文章を与える\n",
    "    xlabel, ylabel : str\n",
    "        軸ラベルの文章を与える\n",
    "    target_names= : list of str\n",
    "        凡例の一覧を与える\n",
    "    \"\"\"\n",
    "    # setting\n",
    "    scatter_color = ['red', 'blue']\n",
    "    contourf_color = ['pink', 'skyblue']\n",
    "    n_class = 2\n",
    "\n",
    "    # pred\n",
    "    mesh_f0, mesh_f1 = np.meshgrid(np.arange(np.min(X_train[:, 0])-0.5, np.max(X_train[:, 0])+0.5, step),\n",
    "                                   np.arange(np.min(X_train[:, 1])-0.5, np.max(X_train[:, 1])+0.5, step))\n",
    "    mesh = np.c_[np.ravel(mesh_f0), np.ravel(mesh_f1)]\n",
    "    pred = model.predict(mesh).reshape(mesh_f0.shape)\n",
    "\n",
    "    # plot\n",
    "    plt.title(title)\n",
    "    plt.xlabel(xlabel)\n",
    "    plt.ylabel(ylabel)\n",
    "    plt.contourf(mesh_f0, mesh_f1, pred, n_class-1,\n",
    "                 cmap=ListedColormap(contourf_color))\n",
    "    plt.contour(mesh_f0, mesh_f1, pred, n_class-1,\n",
    "                colors='y', linewidths=3, alpha=0.5)\n",
    "    for i, target in enumerate(set(y_train)):\n",
    "        plt.scatter(X_train[y_train == target][:, 0], X_train[y_train == target]\n",
    "                    [:, 1], s=80, color=scatter_color[i], label=target_names[i], marker='o')\n",
    "    patches = [mpatches.Patch(color=scatter_color[i],\n",
    "                              label=target_names[i]) for i in range(n_class)]\n",
    "    plt.legend(handles=patches)\n",
    "    plt.legend()\n",
    "    plt.show()"
   ]
  },
  {
   "cell_type": "code",
   "execution_count": 68,
   "metadata": {},
   "outputs": [
    {
     "data": {
      "image/png": "[encoded data removed]",
      "text/plain": [
       "<Figure size 432x288 with 1 Axes>"
      ]
     },
     "metadata": {
      "needs_background": "light"
     },
     "output_type": "display_data"
    }
   ],
   "source": [
    "# スクラッチによる決定領域\n",
    "decision_region(X2, y2, scratchtree, title='ScratchDecesionTreeClassifier', xlabel='f0', ylabel='f1', target_names=['0', '1'])"
   ]
  },
  {
   "cell_type": "code",
   "execution_count": 70,
   "metadata": {},
   "outputs": [
    {
     "data": {
      "image/png": "[encoded data removed]",
      "text/plain": [
       "<Figure size 432x288 with 1 Axes>"
      ]
     },
     "metadata": {
      "needs_background": "light"
     },
     "output_type": "display_data"
    }
   ],
   "source": [
    "#scikit-learnによる決定領域\n",
    "decision_region(X2, y2, sktree, title='Scikit-learn DecesionTreeClassifier', xlabel='f0', ylabel='f1', target_names=['0', '1'])"
   ]
  },
  {
   "cell_type": "code",
   "execution_count": null,
   "metadata": {},
   "outputs": [],
   "source": []
  }
 ],
 "metadata": {
  "kernelspec": {
   "display_name": "Python 3",
   "language": "python",
   "name": "python3"
  },
  "language_info": {
   "codemirror_mode": {
    "name": "ipython",
    "version": 3
   },
   "file_extension": ".py",
   "mimetype": "text/x-python",
   "name": "python",
   "nbconvert_exporter": "python",
   "pygments_lexer": "ipython3",
   "version": "3.7.4"
  }
 },
 "nbformat": 4,
 "nbformat_minor": 2
}
