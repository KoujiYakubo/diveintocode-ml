{
 "cells": [
  {
   "cell_type": "markdown",
   "metadata": {},
   "source": [
    "# Sprint 機械学習スクラッチ クラスタリング"
   ]
  },
  {
   "cell_type": "markdown",
   "metadata": {},
   "source": [
    "K-meansのクラスをスクラッチで作成していきます。NumPyなど最低限のライブラリのみを使いアルゴリズムを実装していきます。\n",
    "\n",
    "\n",
    "\n",
    "以下に雛形を用意してあります。このScratchKMeansクラスにコードを書き加えていってください。"
   ]
  },
  {
   "cell_type": "markdown",
   "metadata": {},
   "source": [
    "### 《雛形》"
   ]
  },
  {
   "cell_type": "code",
   "execution_count": 3,
   "metadata": {},
   "outputs": [],
   "source": [
    "class ScratchKMeans():\n",
    "    \"\"\"\n",
    "    K-meansのスクラッチ実装\n",
    "\n",
    "    Parameters\n",
    "    ----------\n",
    "    n_clusters : int\n",
    "      クラスタ数\n",
    "    n_init : int\n",
    "      中心点の初期値を何回変えて計算するか\n",
    "    max_iter : int\n",
    "      1回の計算で最大何イテレーションするか\n",
    "    tol : float\n",
    "      イテレーションを終了する基準となる中心点と重心の許容誤差\n",
    "    verbose : bool\n",
    "      学習過程を出力する場合はTrue\n",
    "    \"\"\"\n",
    "    def __init__(self, n_clusters, n_init, max_iter, tol, verbose=False):\n",
    "        # ハイパーパラメータを属性として記録\n",
    "        self.n_clusters = n_clusters\n",
    "        self.n_init = n_init\n",
    "        self.max_iter = max_iter\n",
    "        self.tol = tol\n",
    "        self.verbose = verbose\n",
    "    def fit(self, X):\n",
    "        \"\"\"\n",
    "        K-meansによるクラスタリングを計算\n",
    "        Parameters\n",
    "        ----------\n",
    "        X : 次の形のndarray, shape (n_samples, n_features)\n",
    "            訓練データの特徴量\n",
    "        \"\"\"\n",
    "        if self.verbose:\n",
    "            #verboseをTrueにした際は学習過程を出力\n",
    "            print()\n",
    "        pass\n",
    "    def predict(self, X):\n",
    "        \"\"\"\n",
    "        入力されたデータがどのクラスタに属するかを計算\n",
    "        \"\"\"\n",
    "        pass\n",
    "        return"
   ]
  },
  {
   "cell_type": "markdown",
   "metadata": {},
   "source": [
    "### 《シンプルデータセット3》"
   ]
  },
  {
   "cell_type": "code",
   "execution_count": 2,
   "metadata": {},
   "outputs": [],
   "source": [
    "from sklearn.datasets import make_blobs\n",
    "X, _ = make_blobs(n_samples=100, n_features=2, centers=4, cluster_std=0.5, shuffle=True, random_state=0)"
   ]
  },
  {
   "cell_type": "markdown",
   "metadata": {},
   "source": [
    "## 【問題1】中心点の初期値を決める"
   ]
  },
  {
   "cell_type": "markdown",
   "metadata": {},
   "source": [
    "入力されたデータから \n",
    "K\n",
    " 個の中心点 \n",
    "μ\n",
    "1\n",
    " から \n",
    "μ\n",
    "K\n",
    " の初期値を決めるコードを作成してください。\n",
    "K\n",
    " は指定したクラスタ数です。\n",
    "\n",
    "\n",
    "最もシンプルな初期値の決定方法は、データ点 \n",
    "X\n",
    "n\n",
    " の中からランダムに \n",
    "K\n",
    " 個選ぶことです。今回はこれを実装してください。\n",
    "\n",
    "\n",
    "K-meansの学習結果は中心点 \n",
    "μ\n",
    " の初期値に影響を受けます。そのため、学習時には複数個の初期値で計算を行います。"
   ]
  },
  {
   "cell_type": "code",
   "execution_count": 30,
   "metadata": {},
   "outputs": [],
   "source": [
    "import numpy as np\n",
    "import matplotlib.pyplot as plt\n",
    "\n",
    "def kmeans(data,k,random_state=1):\n",
    "    np.random.seed(seed = random_state)\n",
    "    select_index = np.random.choice(len(X),k, replace=False)\n",
    "    k_center = np.array([data[i,:] for i in select_index])\n",
    "    return k_center"
   ]
  },
  {
   "cell_type": "code",
   "execution_count": 31,
   "metadata": {},
   "outputs": [],
   "source": [
    "# n_clusters =kmeans(X,10)\n",
    "# n_clusters"
   ]
  },
  {
   "cell_type": "markdown",
   "metadata": {},
   "source": [
    "## 【問題2】SSEを求める関数の作成"
   ]
  },
  {
   "cell_type": "markdown",
   "metadata": {},
   "source": [
    "クラスタ内誤差平方和（SSE, Sum of Squared Errors）を計算する関数を作成してください。\n",
    "\n",
    "\n",
    "K-meansはこのSSEを最小化する \n",
    "r\n",
    "n\n",
    "k\n",
    " と \n",
    "μ\n",
    "k\n",
    " を求めることが目的となります。複数個の初期値で計算したクラスタリング結果から、どれを最終的に採用するかを決める際にこのSSEを求める関数を使用します。"
   ]
  },
  {
   "cell_type": "markdown",
   "metadata": {},
   "source": [
    "$\n",
    "SSE = \\sum_{n=1}^N \\sum_{k=1}^K r_{nk} \\|X_n - \\mu_k\\|^2\n",
    "$"
   ]
  },
  {
   "cell_type": "markdown",
   "metadata": {},
   "source": [
    "n\n",
    " : データ点のインデックス\n",
    " \n",
    "k\n",
    " : クラスタのインデックス\n",
    "\n",
    "\n",
    "X\n",
    "n\n",
    " : \n",
    "n\n",
    "番目のデータ点\n",
    "\n",
    "\n",
    "μ\n",
    "k\n",
    " : \n",
    "k\n",
    "番目の中心点\n",
    "\n",
    "\n",
    "r\n",
    "n\n",
    "k\n",
    " : データ点\n",
    "X\n",
    "n\n",
    "がクラスタ\n",
    "k\n",
    "に所属していたら1、そうでなければ0"
   ]
  },
  {
   "cell_type": "code",
   "execution_count": 27,
   "metadata": {},
   "outputs": [],
   "source": [
    "def SSE(data,centers, r_nk=None):\n",
    "    if r_nk == None:\n",
    "        np.random.seed(seed=32)\n",
    "        r0 = np.random.choice(len(centers), len(data),replace=True)\n",
    "        r1 = np.zeros(len(data)*len(centers)).reshape(len(centers),len(data))\n",
    "\n",
    "        count = 0\n",
    "        for i in r0 :\n",
    "            r1[i,count] = 1 \n",
    "            count = count + 1\n",
    "    if r_nk != None:\n",
    "        r_nk1 = np.zeros(len(data)*len(centers)).reshape(len(data),len(centers))\n",
    "        count = 0\n",
    "        for i in r_nk :\n",
    "            r_nk1[count, i ] = 1 \n",
    "            count = count + 1\n",
    "    \n",
    "    E_dist = np.ones(len(centers)*len(data))\n",
    "    E_dist = E_dist.reshape(len(centers),len(data))\n",
    "    \n",
    "    for i in range(len(centers)):\n",
    "        E_dist[i] = np.diag(np.dot((X-centers[i]), (X-centers[i]).T))\n",
    "\n",
    "    return sum(sum(np.dot(r1.T,E_dist)))"
   ]
  },
  {
   "cell_type": "code",
   "execution_count": 29,
   "metadata": {},
   "outputs": [],
   "source": [
    "# SSE(X,n_clusters)"
   ]
  },
  {
   "cell_type": "markdown",
   "metadata": {},
   "source": [
    "## 【問題3】クラスタへの割り当て"
   ]
  },
  {
   "cell_type": "markdown",
   "metadata": {},
   "source": [
    "全てのデータ点 \n",
    "X\n",
    "n\n",
    " を最も近い中心点 \n",
    "μ\n",
    "k\n",
    " に割り当てるコードを作成してください。\n",
    "\n",
    "\n",
    "K-menasにおける 近い とは点と点のユークリッド距離が小さくなることです。ユークリッド距離とはピタゴラスの定理（三平方の定理）で求められるものですが、ベクトル \n",
    "p\n",
    ",\n",
    "q\n",
    " に対しては以下の数式で表現できます。\n",
    "\n"
   ]
  },
  {
   "cell_type": "markdown",
   "metadata": {},
   "source": [
    "$\n",
    "\\|q-p\\| = \\sqrt{(q-p)\\cdot(q-p)}\n",
    "$"
   ]
  },
  {
   "cell_type": "markdown",
   "metadata": {},
   "source": [
    "NumPyにはこの関数がnp.linalg.normとして用意されているため使用してください。\n",
    "\n",
    "\n",
    "numpy.linalg.norm — NumPy v1.17 Manual\n",
    "\n",
    "\n",
    "中心点 \n",
    "μ\n",
    "k\n",
    " を固定した上でSSEを最小化していることになりますが、SSE自体を求める必要はありません。"
   ]
  },
  {
   "cell_type": "code",
   "execution_count": 34,
   "metadata": {},
   "outputs": [],
   "source": [
    "from numpy import linalg\n",
    "\n",
    "def allocate(data,centers):\n",
    "    r_nk = np.ones(len(data)*len(centers))\n",
    "    r_nk = r_nk.reshape(len(data),len(centers))\n",
    "\n",
    "    for i in range(len(centers)):\n",
    "        r_nk[:,i] = linalg.norm(data - centers[i], axis=1)\n",
    "\n",
    "    r_nk = np.argmin(r_nk,axis=1)\n",
    "    return r_nk"
   ]
  },
  {
   "cell_type": "code",
   "execution_count": 38,
   "metadata": {},
   "outputs": [],
   "source": [
    "# r_list = allocate(X,n_clusters)\n",
    "# r_list"
   ]
  },
  {
   "cell_type": "markdown",
   "metadata": {},
   "source": [
    "## 【問題4】中心点の移動"
   ]
  },
  {
   "cell_type": "markdown",
   "metadata": {},
   "source": [
    "中心点 \n",
    "μ\n",
    "k\n",
    " を \n",
    "k\n",
    " 番目のクラスタに割り当てられる全てのデータ点 \n",
    "X\n",
    "n\n",
    " の平均値（重心）に移動するコードを作成してください"
   ]
  },
  {
   "cell_type": "code",
   "execution_count": 41,
   "metadata": {},
   "outputs": [],
   "source": [
    "import pandas as pd\n",
    "\n",
    "def move_vertex(data,r_nk):\n",
    "    \n",
    "    r_nk = r_nk.reshape(-1,1)\n",
    "    data1 = np.concatenate([data, r_nk], 1)\n",
    "    pd_data = pd.DataFrame(data1)\n",
    "    data_mean = pd_data.groupby(2).mean()\n",
    "    data_mean = data_mean.values\n",
    "    \n",
    "    return data_mean"
   ]
  },
  {
   "cell_type": "code",
   "execution_count": 43,
   "metadata": {},
   "outputs": [],
   "source": [
    "# X_mean = move_vertex(X,r_list)\n",
    "# X_mean"
   ]
  },
  {
   "cell_type": "code",
   "execution_count": null,
   "metadata": {},
   "outputs": [],
   "source": []
  },
  {
   "cell_type": "code",
   "execution_count": 857,
   "metadata": {
    "scrolled": true
   },
   "outputs": [
    {
     "name": "stdout",
     "output_type": "stream",
     "text": [
      "[[ 1.99645666  1.06603355]\n",
      " [-1.73940873  3.73522739]\n",
      " [-0.20992086  5.62502564]]\n"
     ]
    }
   ],
   "source": [
    "# 動作確認\n",
    "check_list = cluster_allocate(X)\n",
    "new_mu = move_center(check_list, n_clusters)\n",
    "print(new_mu)"
   ]
  },
  {
   "cell_type": "code",
   "execution_count": 888,
   "metadata": {},
   "outputs": [
    {
     "name": "stdout",
     "output_type": "stream",
     "text": [
      "[[ 1.99645666  1.06603355]\n",
      " [-1.73940873  3.73522739]\n",
      " [-0.20992086  5.62502564]]\n"
     ]
    }
   ],
   "source": [
    "# 動作確認\n",
    "check_list = cluster_allocate(X)\n",
    "new_mu = move_center(check_list, n_clusters)\n",
    "print(new_mu)"
   ]
  },
  {
   "cell_type": "markdown",
   "metadata": {},
   "source": [
    "## 【問題5】繰り返し"
   ]
  },
  {
   "cell_type": "markdown",
   "metadata": {},
   "source": [
    "クラスタへの割り当てと中心点の移動を繰り返すことで学習を行うコードを作成してください。\n",
    "\n",
    "\n",
    "次のどれかの条件を満たしたらこれを止めます。\n",
    "\n",
    "\n",
    "- 繰り返しが指定した回数に到達する。（雛形では引数max_iter）\n",
    "- 中心点 \n",
    "μ\n",
    "k\n",
    " と重心の差の合計が指定した許容値以下になる。（雛形では引数tol）"
   ]
  },
  {
   "cell_type": "markdown",
   "metadata": {},
   "source": [
    "## 【問題6】異なる初期値で計算\n",
    "問題5の繰り返しを、指定した回数初期値を変更して計算するコードを作成してください。回数は雛形では引数n_initで指定します。\n",
    "\n",
    "\n",
    "複数計算した中でSSEが最小になったものが最終的な学習結果となるため、その時の中心点 \n",
    "μ\n",
    "k\n",
    " を保持しておきます。"
   ]
  },
  {
   "cell_type": "code",
   "execution_count": 47,
   "metadata": {},
   "outputs": [],
   "source": [
    "iter_num = 5   # 中心点移動回数\n",
    "n_init = 5    # 初期値変更回数\n",
    "k = 5\n",
    "\n",
    "#　初期座標の決定\n",
    "for j in range(n_init):\n",
    "    n_clusters = kmeans(X,k,np.random.randint(1000))\n",
    "\n",
    "    for i in range(iter_num):\n",
    "        r_list = allocate(X,n_clusters) \n",
    "        n_clusters = move_vertex(X,r_list)\n",
    "    \n",
    "    # onehot変換\n",
    "    r_nk1 = np.zeros(len(X)*len(n_clusters))\n",
    "    r_nk1 = r_nk1.reshape(len(X),len(n_clusters))\n",
    "    count = 0\n",
    "    for i in r_list :\n",
    "        r_nk1[count, i ] = 1 \n",
    "        count = count + 1\n",
    "\n",
    "    E_dist = np.ones(len(X)*len(n_clusters))\n",
    "    E_dist = E_dist.reshape(len(n_clusters),len(X))\n",
    "    \n",
    "    for i in range(len(n_clusters)):\n",
    "        E_dist[i] = np.sqrt(np.diag(np.dot((X-n_clusters[i]), (X-n_clusters[i]).T)))\n",
    "\n",
    "    SSE_temp = sum(sum(E_dist*r_nk1.T))"
   ]
  },
  {
   "cell_type": "markdown",
   "metadata": {},
   "source": [
    "## 【問題7】推定\n",
    "新たなデータに対してどのクラスタに所属するかの推定の際は、学習時の1つ目のフェーズと同じことを行います。\n",
    "\n",
    "\n",
    "- データ点 \n",
    "X\n",
    "n\n",
    " と学習で決まった中心点 \n",
    "μ\n",
    "k\n",
    " に対し、 \n",
    "S\n",
    "S\n",
    "E\n",
    " を最小化する \n",
    "r\n",
    "n\n",
    "k\n",
    " を選ぶ。\n",
    "\n",
    "具体的には次のことです。\n",
    "\n",
    "\n",
    "- データ点 \n",
    "X\n",
    "n\n",
    " を最も近い \n",
    "μ\n",
    "k\n",
    " に割り当てる。\n"
   ]
  },
  {
   "cell_type": "code",
   "execution_count": 49,
   "metadata": {},
   "outputs": [],
   "source": [
    "class ScratchKMeans():\n",
    "    \"\"\"\n",
    "    K-meansのスクラッチ実装\n",
    "\n",
    "    Parameters\n",
    "    ----------\n",
    "    n_clusters : int\n",
    "      クラスタ数\n",
    "    n_init : int\n",
    "      中心点の初期値を何回変えて計算するか\n",
    "    max_iter : int\n",
    "      1回の計算で最大何イテレーションするか\n",
    "    tol : float\n",
    "      イテレーションを終了する基準となる中心点と重心の許容誤差\n",
    "    verbose : bool\n",
    "      学習過程を出力する場合はTrue\n",
    "    \"\"\"\n",
    "    def __init__(self, n_init, max_iter):\n",
    "        # ハイパーパラメータを属性として記録\n",
    "        self.n_init = n_init\n",
    "        self.max_iter = max_iter\n",
    "    \n",
    "    def _base_vertex(self,data,k,random_state=1):\n",
    "        np.random.seed(seed = random_state)\n",
    "        select_index = np.random.choice(len(data), k, replace=False)\n",
    "        k_center = np.array([data[i,:] for i in select_index])        \n",
    "        return k_center\n",
    "    \n",
    "    def allocate(self,data,centers):\n",
    "        r_nk = np.ones(len(data)*len(centers))\n",
    "        r_nk = r_nk.reshape(len(data),len(centers))\n",
    "\n",
    "        for i in range(len(centers)):\n",
    "            r_nk[:,i] = linalg.norm(data - centers[i], axis=1)\n",
    "        r_nk = np.argmin(r_nk,axis=1)\n",
    "        return r_nk\n",
    "\n",
    "    def move_vertex(self,data,r_nk):\n",
    "        # 平均値の取得\n",
    "        r_nk = r_nk.reshape(-1,1)\n",
    "        data1 = np.concatenate([data, r_nk], 1)\n",
    "        pd_data = pd.DataFrame(data1)\n",
    "        \n",
    "        # 各グループの平均値\n",
    "        data_mean = pd_data.groupby(2).mean()\n",
    "        data_mean = data_mean.values\n",
    "        return data_mean\n",
    "    \n",
    "    def SSE2(self,data,centers,r_nk):\n",
    "\n",
    "        r_nk1 = np.zeros(len(data)*len(centers))\n",
    "        r_nk1 = r_nk1.reshape(len(data),len(centers))\n",
    "        count = 0\n",
    "        for i in r_nk :\n",
    "            r_nk1[count, i ] = 1 \n",
    "            count = count + 1\n",
    "        \n",
    "        E_dist = np.ones(len(data)*len(centers))\n",
    "        E_dist = E_dist.reshape(len(centers),len(data))\n",
    "        for i in range(len(centers)):\n",
    "            E_dist[i] = np.sqrt(np.diag(np.dot((data-centers[i]), (data-centers[i]).T)))\n",
    "    \n",
    "        SSE_temp = sum(sum(E_dist*r_nk1.T))\n",
    "        return SSE_temp\n",
    "\n",
    "    def fit(self, data, c_number):\n",
    "\n",
    "        SSE2_list = []\n",
    "        for j in range(self.n_init):\n",
    "            n_clusters = self._base_vertex(data,c_number,random_state = np.random.randint(1000))\n",
    "            for i in range(self.max_iter):\n",
    "                r_list = self.allocate(data, n_clusters) \n",
    "                n_clusters = self.move_vertex(data,r_list)\n",
    "            SSE2_list.append(self.SSE2(data, n_clusters, r_list))\n",
    "            \n",
    "        # 最小SSEの記録\n",
    "        self.SSE = np.min(SSE2_list)\n",
    "               \n",
    "        for j in range(self.n_init):\n",
    "            n_clusters = self._base_vertex(data,c_number,np.random.randint(1000))\n",
    "            for i in range(self.max_iter):\n",
    "                r_list = self.allocate(data, n_clusters) \n",
    "                n_clusters = self.move_vertex(data, r_list)\n",
    "            if self.SSE2(data, n_clusters, r_list) == self.SSE:\n",
    "                self.min_n_clusters = n_clusters\n",
    "                break\n",
    "        \n",
    "    def predict(self, data):\n",
    "        \"\"\"\n",
    "        入力されたデータがどのクラスタに属するかを計算\n",
    "        \"\"\"\n",
    "        p_dist = np.ones(len(data)*len(self.min_n_clusters))\n",
    "        p_dist = p_dist.reshape(len(self.min_n_clusters),len(data)) \n",
    "        for i in range(len(self.min_n_clusters)):\n",
    "            p_dist[i] = np.diag(np.dot((data - self.min_n_clusters[i]), (data - self.min_n_clusters[i]).T))\n",
    "        p_dist = np.argmin(p_dist,axis=0)\n",
    "        return p_dist"
   ]
  },
  {
   "cell_type": "code",
   "execution_count": 71,
   "metadata": {},
   "outputs": [
    {
     "name": "stdout",
     "output_type": "stream",
     "text": [
      "[0 3 0 0 0 0 1 3 0 3 3 3 3 3 3 2 2 1 1 2 0 3 1 2 0 1 1 0 2 2 2 3 2 2 1 0 3\n",
      " 2 3 1 0 1 3 1 1 3 2 1 0 0 0 2 1 1 1 3 3 2 2 3 3 2 2 0 2 3 1 1 2 0 3 2 0 3\n",
      " 0 0 1 1 2 2 2 3 1 0 2 1 2 2 0 0 0 1 0 1 1 3 3 1 3 0]\n",
      "SSE :  62.63796180120853\n"
     ]
    }
   ],
   "source": [
    "kmeans = ScratchKMeans(10,10)\n",
    "kmeans.fit(X,4)\n",
    "pred = kmeans.predict(X)\n",
    "print(pred)\n",
    "print(\"SSE : \", kmeans.SSE)"
   ]
  },
  {
   "cell_type": "markdown",
   "metadata": {},
   "source": [
    "## 【問題8】エルボー法の実装\n",
    "K-meansにおいて中心点の個数 \n",
    "k\n",
    " は人為的に決める必要がありますが、その判断方法としてエルボー法があります。エルボー法により中心点の個数 \n",
    "k\n",
    " を検討するためのコードを作成してください。\n",
    "\n",
    "\n",
    "SSEを縦軸、クラスタ数 \n",
    "k\n",
    " を横軸にした折れ線グラフを表示します。このためにK-meansのインスタンスからはSSEを取得できるようにしてください。"
   ]
  },
  {
   "cell_type": "code",
   "execution_count": 72,
   "metadata": {},
   "outputs": [],
   "source": [
    "def elbow(data,c_number_max):\n",
    "    SSE_list = np.zeros(c_number_max)\n",
    "    for i in range(1,c_number_max):\n",
    "        kmeans.fit(data,i)\n",
    "        SSE_list[i] = kmeans.SSE\n",
    "    return SSE_list"
   ]
  },
  {
   "cell_type": "code",
   "execution_count": 73,
   "metadata": {},
   "outputs": [
    {
     "data": {
      "image/png": "[encoded data removed]",
      "text/plain": [
       "<Figure size 432x288 with 1 Axes>"
      ]
     },
     "metadata": {
      "needs_background": "light"
     },
     "output_type": "display_data"
    }
   ],
   "source": [
    "SSE_list = elbow(X,10)\n",
    "plt.plot(range(1,10),SSE_list[1:10])\n",
    "plt.scatter(range(1,10),SSE_list[1:10])\n",
    "plt.xlabel(\"n clusters\")\n",
    "plt.ylabel(\"SSE\")\n",
    "plt.title('elbow_curve')\n",
    "plt.show()"
   ]
  }
 ],
 "metadata": {
  "kernelspec": {
   "display_name": "Python 3",
   "language": "python",
   "name": "python3"
  },
  "language_info": {
   "codemirror_mode": {
    "name": "ipython",
    "version": 3
   },
   "file_extension": ".py",
   "mimetype": "text/x-python",
   "name": "python",
   "nbconvert_exporter": "python",
   "pygments_lexer": "ipython3",
   "version": "3.7.4"
  }
 },
 "nbformat": 4,
 "nbformat_minor": 2
}
