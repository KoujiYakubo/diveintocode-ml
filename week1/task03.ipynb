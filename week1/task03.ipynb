{
 "cells": [
  {
   "cell_type": "markdown",
   "metadata": {},
   "source": [
    "# Week1授業課題3 栗まんじゅう問題"
   ]
  },
  {
   "cell_type": "markdown",
   "metadata": {},
   "source": [
    "## 【問題】栗まんじゅうが太陽系を覆う日"
   ]
  },
  {
   "cell_type": "code",
   "execution_count": 33,
   "metadata": {},
   "outputs": [
    {
     "name": "stdout",
     "output_type": "stream",
     "text": [
      "太陽系が栗まんじゅうで覆われるのは460分後です。\n"
     ]
    }
   ],
   "source": [
    "import math\n",
    "\n",
    "# 球の体積 L=4*math.pi*r*r*r/3\n",
    "KURIMAN = 2.5 * 2  # 栗饅頭の半径(cm)\n",
    "SOLAR_SYSTEM = 3000000000000 * 1000 / 2 # 太陽系の半径(m) \n",
    "# 参考URL https://again.lunaclear.com/knowledge/science/t124/\n",
    "\n",
    "def calc_taiseki(radius):\n",
    "    r = radius\n",
    "    L = 4*math.pi*r*r*r/3\n",
    "    return L\n",
    "\n",
    "kuriman_taiseki = calc_taiseki(KURIMAN) # 栗饅頭の体積\n",
    "solar_system_taiseki = calc_taiseki(SOLAR_SYSTEM) #太陽系の体積\n",
    "\n",
    "new_kuriman_taiseki = kuriman_taiseki\n",
    "count = 0\n",
    "\n",
    "# print(kuriman_taiseki)\n",
    "# print(solar_system_taiseki)\n",
    "\n",
    "while new_kuriman_taiseki < solar_system_taiseki:\n",
    "    add = new_kuriman_taiseki * 2 \n",
    "    new_kuriman_taiseki = new_kuriman_taiseki + add\n",
    "    count += 1\n",
    "time = count * 5 # 回数 x 5分\n",
    "print(\"太陽系が栗まんじゅうで覆われるのは{}分後です。\".format(time))"
   ]
  },
  {
   "cell_type": "markdown",
   "metadata": {},
   "source": [
    "## 関数の作成"
   ]
  },
  {
   "cell_type": "code",
   "execution_count": 40,
   "metadata": {},
   "outputs": [],
   "source": [
    "def kuriman_fulltime(taiseki):\n",
    "    kuriman_taiseki = calc_taiseki(KURIMAN) # 栗饅頭の体積\n",
    "    target_taiseki = taiseki #ターゲットの体積の体積\n",
    "    \n",
    "    new_kuriman_taiseki = kuriman_taiseki\n",
    "    count = 0\n",
    "\n",
    "# print(kuriman_taiseki)\n",
    "# print(solar_system_taiseki)\n",
    "\n",
    "    while new_kuriman_taiseki < target_taiseki:\n",
    "        add = new_kuriman_taiseki * 2 \n",
    "        new_kuriman_taiseki = new_kuriman_taiseki + add\n",
    "        count += 1\n",
    "    return count * 5 # 回数 x 5分\n",
    "\n",
    "# kuriman_fulltime(solar_system_taiseki)  # 確認"
   ]
  },
  {
   "cell_type": "code",
   "execution_count": 43,
   "metadata": {},
   "outputs": [
    {
     "name": "stdout",
     "output_type": "stream",
     "text": [
      "東京ドームが栗まんじゅうで覆われるのは50分後です。\n"
     ]
    }
   ],
   "source": [
    "## 東京ドームの場合\n",
    "TOKYO_DOME = 124 * 100000\n",
    "tokyo_dome_time = kuriman_fulltime(TOKYO_DOME) \n",
    "print(\"東京ドームが栗まんじゅうで覆われるのは{}分後です。\".format(tokyo_dome_time))"
   ]
  },
  {
   "cell_type": "markdown",
   "metadata": {},
   "source": [
    "### 関数の改良\n",
    "グラフ出力を前提とした関数に変更します。"
   ]
  },
  {
   "cell_type": "code",
   "execution_count": 59,
   "metadata": {},
   "outputs": [],
   "source": [
    "def kuriman_fulltime_list(taiseki):\n",
    "    kuriman_taiseki = calc_taiseki(KURIMAN) # 栗饅頭の体積\n",
    "    target_taiseki = taiseki #ターゲットの体積の体積\n",
    "    \n",
    "    new_kuriman_taiseki = kuriman_taiseki\n",
    "    new_kuriman_taiseki_list = [kuriman_taiseki]\n",
    "    time_list = [0]\n",
    "    count = 0\n",
    "\n",
    "# print(kuriman_taiseki)\n",
    "# print(solar_system_taiseki)\n",
    "\n",
    "    while new_kuriman_taiseki < target_taiseki:\n",
    "        add = new_kuriman_taiseki * 2 \n",
    "        new_kuriman_taiseki = new_kuriman_taiseki + add\n",
    "        new_kuriman_taiseki_list.append(add)\n",
    "        count += 1\n",
    "        time_list.append(count*5)\n",
    "    return new_kuriman_taiseki_list, time_list\n",
    "\n",
    "# kuriman_fulltime(solar_system_taiseki)  # "
   ]
  },
  {
   "cell_type": "markdown",
   "metadata": {},
   "source": [
    "### 東京ドームのグラフ化"
   ]
  },
  {
   "cell_type": "code",
   "execution_count": 77,
   "metadata": {
    "scrolled": true
   },
   "outputs": [
    {
     "data": {
      "image/png": "[encoded data removed]",
      "text/plain": [
       "<Figure size 432x288 with 1 Axes>"
      ]
     },
     "metadata": {
      "needs_background": "light"
     },
     "output_type": "display_data"
    }
   ],
   "source": [
    "## 東京ドームの場合\n",
    "TOKYO_DOME = 124 * 100000 # 東京ドームの体積\n",
    "new_kuriman_taiseki_list, time_list = kuriman_fulltime_list(TOKYO_DOME) \n",
    "\n",
    "# print(new_kuriman_taiseki_list)\n",
    "#print(time_list)\n",
    "\n",
    "# 個数の確認\n",
    "# print(len(new_kuriman_taiseki_list))\n",
    "#print(len(time_list))\n",
    "\n",
    "import matplotlib.pyplot as plt\n",
    "%matplotlib inline\n",
    "plt.title(\"kuriman fill time\" )\n",
    "plt.xlabel(\"time[m]\")\n",
    "plt.ylabel(\"fill kuriman\")\n",
    "plt.plot(time_list,new_kuriman_taiseki_list, label=\"kuriman value\") \n",
    "plt.legend()\n",
    "plt.show()"
   ]
  },
  {
   "cell_type": "markdown",
   "metadata": {},
   "source": [
    "### 太陽系のグラフ化"
   ]
  },
  {
   "cell_type": "code",
   "execution_count": 78,
   "metadata": {},
   "outputs": [
    {
     "data": {
      "image/png": "[encoded data removed]",
      "text/plain": [
       "<Figure size 432x288 with 1 Axes>"
      ]
     },
     "metadata": {
      "needs_background": "light"
     },
     "output_type": "display_data"
    }
   ],
   "source": [
    "## 太陽系の場合の場合\n",
    "new_kuriman_taiseki_list, time_list = kuriman_fulltime_list(calc_taiseki(SOLAR_SYSTEM)) \n",
    "\n",
    "# print(new_kuriman_taiseki_list)\n",
    "#print(time_list)\n",
    "\n",
    "# 個数の確認\n",
    "# print(len(new_kuriman_taiseki_list))\n",
    "#print(len(time_list))\n",
    "\n",
    "import matplotlib.pyplot as plt\n",
    "%matplotlib inline\n",
    "plt.title(\"kuriman fill time\" )\n",
    "plt.xlabel(\"time[m]\")\n",
    "plt.ylabel(\"fill kuriman\")\n",
    "plt.plot(time_list,new_kuriman_taiseki_list, label=\"kuriman value\") \n",
    "plt.legend()\n",
    "plt.show()"
   ]
  },
  {
   "cell_type": "code",
   "execution_count": null,
   "metadata": {},
   "outputs": [],
   "source": []
  }
 ],
 "metadata": {
  "kernelspec": {
   "display_name": "Python 3",
   "language": "python",
   "name": "python3"
  },
  "language_info": {
   "codemirror_mode": {
    "name": "ipython",
    "version": 3
   },
   "file_extension": ".py",
   "mimetype": "text/x-python",
   "name": "python",
   "nbconvert_exporter": "python",
   "pygments_lexer": "ipython3",
   "version": "3.7.4"
  }
 },
 "nbformat": 4,
 "nbformat_minor": 2
}
