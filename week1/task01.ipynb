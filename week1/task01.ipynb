{
 "cells": [
  {
   "cell_type": "markdown",
   "metadata": {},
   "source": [
    "# Week1授業課題1 曽呂利新左衛門問題"
   ]
  },
  {
   "cell_type": "markdown",
   "metadata": {},
   "source": [
    "## 【問題1】100日目の米粒の数\n",
    "100日目には合計で米粒をいくつもらっているのかを計算するコードを作成し、答えを出力してください。また、1日目から100日目までの「その日にもらう米の数」と「その日までに累計で貰う米の数」の推移を折れ線グラフで表現してください。（縦軸が米の数、横軸が日数）"
   ]
  },
  {
   "cell_type": "code",
   "execution_count": 46,
   "metadata": {},
   "outputs": [
    {
     "name": "stdout",
     "output_type": "stream",
     "text": [
      "100日目にもらう米の数 : 633825300114114700748351602688 個\n",
      "100日目までに累計でもらう米の数 : 1267650600228229401496703205375 個\n"
     ]
    }
   ],
   "source": [
    "# 1日目の米粒\n",
    "kome = 1\n",
    "\n",
    "# 累積の米粒の数\n",
    "now_kome = 1\n",
    "\n",
    "# 日数\n",
    "count_day = 100\n",
    "\n",
    "# 日別リスト\n",
    "list_kome = [1]\n",
    "\n",
    "# 累積リスト\n",
    "list_now_kome = [1]\n",
    "\n",
    "for i in range(1,count_day):\n",
    "    kome = kome * 2\n",
    "    list_kome.append(kome)\n",
    "    now_kome += kome\n",
    "    list_now_kome.append(now_kome)\n",
    "\n",
    "print(\"{}日目にもらう米の数 : {} 個\".format(count_day, kome))\n",
    "print(\"{}日目までに累計でもらう米の数 : {} 個\".format(count_day, now_kome))\n",
    "# print(list_kome)\n",
    "#print(list_now_kome)"
   ]
  },
  {
   "cell_type": "code",
   "execution_count": 47,
   "metadata": {},
   "outputs": [
    {
     "data": {
      "image/png": "[encoded data removed]",
      "text/plain": [
       "<Figure size 432x288 with 1 Axes>"
      ]
     },
     "metadata": {
      "needs_background": "light"
     },
     "output_type": "display_data"
    }
   ],
   "source": [
    "import matplotlib.pyplot as plt\n",
    "%matplotlib inline\n",
    "plt.title(\"count kome\" )\n",
    "plt.xlabel(\"day\")\n",
    "plt.ylabel(\"kome\")\n",
    "plt.plot(list_kome, label=\"per day\") \n",
    "plt.plot(list_now_kome, label=\"now kome\")\n",
    "plt.legend()\n",
    "plt.show()"
   ]
  },
  {
   "cell_type": "markdown",
   "metadata": {},
   "source": [
    "## 【問題2】100日目以外の米粒の数\n",
    "この逸話は30日だったり81日だったりと日数が曖昧です。どの話にも対応できるように日数を引数とした 関数 を作成しましょう。関数を作成した上で、コースを受講する日数の間でいくつ米粒をもらえるかを答えてください。前の問題同様に折れ線グラフも出力してください。"
   ]
  },
  {
   "cell_type": "code",
   "execution_count": 62,
   "metadata": {},
   "outputs": [
    {
     "name": "stdout",
     "output_type": "stream",
     "text": [
      "コース受講の122日目にもらえる米の数 : 2658455991569831745807614120560689152 個\n",
      "コース受講の122日目までにもらえる米の数 : 5316911983139663491615228241121378303 個\n"
     ]
    }
   ],
   "source": [
    "def compute_sorori_shinzaemon(day=100):\n",
    "    \"\"\"\n",
    "    曽呂利新左衛門の米の逸話を検証する関数。日にちごとの米の粒の数を計算する。\n",
    "\n",
    "    Parameteres\n",
    "    --------------\n",
    "    day: int\n",
    "        米を貰う日数 (default : 100)\n",
    "\n",
    "    Returns\n",
    "    --------------\n",
    "    list_n_grains : list\n",
    "        ある日に貰う米の数のリスト（リストの長さはdayに等しくなる）\n",
    "    list_total_grains : list\n",
    "        ある日までに累計で貰う米の数のリスト（リストの長さはdayに等しくなる）\n",
    "    \"\"\"\n",
    "    # 1日目の米粒\n",
    "    n_grains = 1\n",
    "\n",
    "    # 累積の米粒の数\n",
    "    total_grains = 1\n",
    "\n",
    "    # 日別リスト\n",
    "    list_n_grains = [1]\n",
    "\n",
    "    # 累積リスト\n",
    "    list_total_grains = [1]\n",
    "\n",
    "    for i in range(1,day):\n",
    "        n_grains = n_grains * 2\n",
    "        list_n_grains.append(n_grains)\n",
    "        total_grains += n_grains\n",
    "        list_total_grains.append(total_grains)\n",
    "\n",
    "    return list_n_grains, list_total_grains\n",
    "\n",
    "# コースを受講する日数\n",
    "from datetime import datetime\n",
    "\n",
    "dic_start = datetime(2020, 4, 1)\n",
    "dic_end = datetime(2020, 7, 31)\n",
    "course_days = dic_end - dic_start\n",
    "\n",
    "list_n_grains, list_total_grains = compute_sorori_shinzaemon(day = course_days.days + 1)\n",
    "\n",
    "print(\"コース受講の{}日目にもらえる米の数 : {} 個\".format(course_days.days + 1, list_n_grains[-1]))\n",
    "print(\"コース受講の{}日目までにもらえる米の数 : {} 個\".format(course_days.days + 1, list_total_grains[-1]))\n"
   ]
  },
  {
   "cell_type": "code",
   "execution_count": 49,
   "metadata": {},
   "outputs": [
    {
     "data": {
      "image/png": "[encoded data removed]",
      "text/plain": [
       "<Figure size 432x288 with 1 Axes>"
      ]
     },
     "metadata": {
      "needs_background": "light"
     },
     "output_type": "display_data"
    }
   ],
   "source": [
    "import matplotlib.pyplot as plt\n",
    "%matplotlib inline\n",
    "plt.title(\"Rice count during DIC course days\" )\n",
    "plt.xlabel(\"day\")\n",
    "plt.ylabel(\"grain\")\n",
    "plt.plot(list_n_grains, label=\"per day grain\") \n",
    "plt.plot(list_total_grains, label=\"total grain\")\n",
    "plt.legend()\n",
    "plt.show()"
   ]
  },
  {
   "cell_type": "markdown",
   "metadata": {},
   "source": [
    "## 【問題3】何人が何日生活できる米か\n",
    "この米があれば何人が何日生活できるか計算する関数を作成してください。コースを受講する期間に貰える米粒で、このクラスにいる人数であれば、何日間生活できるかを出力してみましょう。"
   ]
  },
  {
   "cell_type": "markdown",
   "metadata": {},
   "source": [
    "一人あたりのお米の消費量は年間57kg  \n",
    "年間57kg / 365日 = 156g  \n",
    "https://www.gohanmuseum.com/consumption.html  \n",
    "\n",
    "米粒1粒あたりの重さ  \n",
    "茶碗一杯 = 65g = 3,250粒 : 1粒 = 0.02g  \n",
    "https://www.maff.go.jp/j/heya/sodan/1806/03.html\n",
    "\n",
    "1日に必要な米粒の数  \n",
    "156g / 0.02g = 7800粒  \n",
    "\n",
    "以上から、1日に必要な米粒の数は7800粒と想定します。"
   ]
  },
  {
   "cell_type": "code",
   "execution_count": 50,
   "metadata": {},
   "outputs": [
    {
     "name": "stdout",
     "output_type": "stream",
     "text": [
      "DICの受講生12人です。\n",
      "コース受講期間中にもらえる米粒は2658455991569831745807614120560689151個で、\n",
      "28402307602241792156064253424793日の生活が可能です。\n"
     ]
    }
   ],
   "source": [
    "def needs_rice(n_grains, member):\n",
    "    # 一人あたり1日で必要な米粒の数\n",
    "    NEED_RICE = 7800\n",
    "\n",
    "    # 1日に必要な米粒の数\n",
    "    need_day_rice = NEED_RICE * member\n",
    "    \n",
    "    days = n_grains // need_day_rice\n",
    "    return days\n",
    "\n",
    "dic_member = 12 # 受講生12人\n",
    "rice = list_total_grains[-1] # コース受講期間中にもらえる米粒\n",
    "days = needs_rice(rice,dic_member)\n",
    "print(\"DICの受講生{}人です。\\nコース受講期間中にもらえる米粒は{}個で、\\n{}日の生活が可能です。\".format(dic_member, list_total_grains[-1], days))"
   ]
  },
  {
   "cell_type": "code",
   "execution_count": null,
   "metadata": {},
   "outputs": [],
   "source": []
  }
 ],
 "metadata": {
  "kernelspec": {
   "display_name": "Python 3",
   "language": "python",
   "name": "python3"
  },
  "language_info": {
   "codemirror_mode": {
    "name": "ipython",
    "version": 3
   },
   "file_extension": ".py",
   "mimetype": "text/x-python",
   "name": "python",
   "nbconvert_exporter": "python",
   "pygments_lexer": "ipython3",
   "version": "3.7.4"
  }
 },
 "nbformat": 4,
 "nbformat_minor": 2
}
