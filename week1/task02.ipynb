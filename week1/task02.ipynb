{
 "cells": [
  {
   "cell_type": "markdown",
   "metadata": {},
   "source": [
    "# 【問題1】富士山を超える最小の折る回数"
   ]
  },
  {
   "cell_type": "code",
   "execution_count": 2,
   "metadata": {},
   "outputs": [
    {
     "name": "stdout",
     "output_type": "stream",
     "text": [
      "厚さが「富士山(3776m)」を超えるのは、紙を26回折った時です。\n"
     ]
    }
   ],
   "source": [
    "THICKNESS = 0.00008\n",
    "count = 0\n",
    "HEIGHT_FUJI = 3776\n",
    "folded_thickness = THICKNESS\n",
    "\n",
    "FOR_MOON_DISTANCE = 384400 *1000\n",
    "\n",
    "while folded_thickness < HEIGHT_FUJI:\n",
    "    folded_thickness *= 2\n",
    "    count += 1\n",
    "print(\"厚さが「富士山(3776m)」を超えるのは、紙を{}回折った時です。\".format(count))"
   ]
  },
  {
   "cell_type": "markdown",
   "metadata": {},
   "source": [
    "# 【問題2】任意の厚さに対応した関数を作成"
   ]
  },
  {
   "cell_type": "code",
   "execution_count": 22,
   "metadata": {},
   "outputs": [],
   "source": [
    "def hold_count(distance, thickness):\n",
    "    count = 0\n",
    "    folded_thickness = thickness \n",
    "    \n",
    "    while folded_thickness < distance:\n",
    "        folded_thickness *= 2\n",
    "        count += 1\n",
    "\n",
    "    return count\n",
    "# hold_count(HEIGHT_FUJI,THICKNESS)"
   ]
  },
  {
   "cell_type": "markdown",
   "metadata": {},
   "source": [
    "## 最も近い太陽以外の恒星に到達するために必要な折る回数"
   ]
  },
  {
   "cell_type": "markdown",
   "metadata": {},
   "source": [
    "最も近い太陽以外の恒星はプロキシマ・ケンタウリで、4.243光年離れている。\n",
    "1光年は9460730472580.800 kmになる。"
   ]
  },
  {
   "cell_type": "code",
   "execution_count": 4,
   "metadata": {},
   "outputs": [
    {
     "name": "stdout",
     "output_type": "stream",
     "text": [
      "プロキシマ・ケンタウリに到達するには、紙（厚さ8e-05m）を67回折る必要があります。\n"
     ]
    }
   ],
   "source": [
    "distance = 9460730472580.800 * 1000\n",
    "count = hold_count(distance,THICKNESS)\n",
    "print(\"プロキシマ・ケンタウリに到達するには、紙（厚さ{}m）を{}回折る必要があります。\".format(THICKNESS,count))"
   ]
  },
  {
   "cell_type": "markdown",
   "metadata": {},
   "source": [
    "# 【問題3】必要な紙の長さ"
   ]
  },
  {
   "cell_type": "code",
   "execution_count": 20,
   "metadata": {},
   "outputs": [
    {
     "name": "stdout",
     "output_type": "stream",
     "text": [
      "月に届くために必要な紙の長さは3240919444170781229056 mです。\n",
      "富士山に届くために必要な紙の長さは188646348487 mです。\n",
      "最も近い太陽以外の恒星に届くために必要な紙の長さは14595803601100347983589756318297096192 mです。\n"
     ]
    }
   ],
   "source": [
    "import math\n",
    "\n",
    "FOR_MOON = 384400 * 1000\n",
    "HEIGHT_FUJI = 3776\n",
    "FOR_KOUSEI = 4.3 * 9.461e+15\n",
    "count = 0\n",
    "thickness = THICKNESS \n",
    "\n",
    "def need_papaer_long(target):\n",
    "    t = thickness\n",
    "    n = hold_count(target, thickness)\n",
    "    long = math.pi * t/6 * (2**n + 4) * (2**n - 1)\n",
    "    # print(t,n,long)\n",
    "    return int(long)\n",
    "\n",
    "print(\"月に届くために必要な紙の長さは{} mです。\".format(need_papaer_long(FOR_MOON)))\n",
    "print(\"富士山に届くために必要な紙の長さは{} mです。\".format(need_papaer_long(HEIGHT_FUJI)))\n",
    "print(\"最も近い太陽以外の恒星に届くために必要な紙の長さは{} mです。\".format(need_papaer_long(FOR_KOUSEI)))"
   ]
  },
  {
   "cell_type": "code",
   "execution_count": null,
   "metadata": {},
   "outputs": [],
   "source": []
  }
 ],
 "metadata": {
  "kernelspec": {
   "display_name": "Python 3",
   "language": "python",
   "name": "python3"
  },
  "language_info": {
   "codemirror_mode": {
    "name": "ipython",
    "version": 3
   },
   "file_extension": ".py",
   "mimetype": "text/x-python",
   "name": "python",
   "nbconvert_exporter": "python",
   "pygments_lexer": "ipython3",
   "version": "3.7.4"
  }
 },
 "nbformat": 4,
 "nbformat_minor": 2
}
