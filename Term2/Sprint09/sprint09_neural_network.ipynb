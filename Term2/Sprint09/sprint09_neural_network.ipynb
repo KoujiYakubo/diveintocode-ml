{
 "cells": [
  {
   "cell_type": "markdown",
   "metadata": {},
   "source": [
    "# Sprint 深層学習スクラッチ ニューラルネットワーク"
   ]
  },
  {
   "cell_type": "markdown",
   "metadata": {},
   "source": [
    "### データセットのダウンロード"
   ]
  },
  {
   "cell_type": "code",
   "execution_count": 1,
   "metadata": {},
   "outputs": [
    {
     "name": "stderr",
     "output_type": "stream",
     "text": [
      "Using TensorFlow backend.\n"
     ]
    }
   ],
   "source": [
    "import numpy as np\n",
    "\n",
    "from keras.datasets import mnist\n",
    "(X_train, y_train), (X_test, y_test) = mnist.load_data()"
   ]
  },
  {
   "cell_type": "markdown",
   "metadata": {},
   "source": [
    "### データセットの確認"
   ]
  },
  {
   "cell_type": "code",
   "execution_count": 2,
   "metadata": {},
   "outputs": [
    {
     "name": "stdout",
     "output_type": "stream",
     "text": [
      "(60000, 28, 28)\n",
      "(10000, 28, 28)\n",
      "uint8\n",
      "[[  0   0   0   0   0   0   0   0   0   0   0   0   0   0   0   0   0   0\n",
      "    0   0   0   0   0   0   0   0   0   0]\n",
      " [  0   0   0   0   0   0   0   0   0   0   0   0   0   0   0   0   0   0\n",
      "    0   0   0   0   0   0   0   0   0   0]\n",
      " [  0   0   0   0   0   0   0   0   0   0   0   0   0   0   0   0   0   0\n",
      "    0   0   0   0   0   0   0   0   0   0]\n",
      " [  0   0   0   0   0   0   0   0   0   0   0   0   0   0   0   0   0   0\n",
      "    0   0   0   0   0   0   0   0   0   0]\n",
      " [  0   0   0   0   0   0   0   0   0   0   0   0   0   0   0   0   0   0\n",
      "    0   0   0   0   0   0   0   0   0   0]\n",
      " [  0   0   0   0   0   0   0   0   0   0   0   0   3  18  18  18 126 136\n",
      "  175  26 166 255 247 127   0   0   0   0]\n",
      " [  0   0   0   0   0   0   0   0  30  36  94 154 170 253 253 253 253 253\n",
      "  225 172 253 242 195  64   0   0   0   0]\n",
      " [  0   0   0   0   0   0   0  49 238 253 253 253 253 253 253 253 253 251\n",
      "   93  82  82  56  39   0   0   0   0   0]\n",
      " [  0   0   0   0   0   0   0  18 219 253 253 253 253 253 198 182 247 241\n",
      "    0   0   0   0   0   0   0   0   0   0]\n",
      " [  0   0   0   0   0   0   0   0  80 156 107 253 253 205  11   0  43 154\n",
      "    0   0   0   0   0   0   0   0   0   0]\n",
      " [  0   0   0   0   0   0   0   0   0  14   1 154 253  90   0   0   0   0\n",
      "    0   0   0   0   0   0   0   0   0   0]\n",
      " [  0   0   0   0   0   0   0   0   0   0   0 139 253 190   2   0   0   0\n",
      "    0   0   0   0   0   0   0   0   0   0]\n",
      " [  0   0   0   0   0   0   0   0   0   0   0  11 190 253  70   0   0   0\n",
      "    0   0   0   0   0   0   0   0   0   0]\n",
      " [  0   0   0   0   0   0   0   0   0   0   0   0  35 241 225 160 108   1\n",
      "    0   0   0   0   0   0   0   0   0   0]\n",
      " [  0   0   0   0   0   0   0   0   0   0   0   0   0  81 240 253 253 119\n",
      "   25   0   0   0   0   0   0   0   0   0]\n",
      " [  0   0   0   0   0   0   0   0   0   0   0   0   0   0  45 186 253 253\n",
      "  150  27   0   0   0   0   0   0   0   0]\n",
      " [  0   0   0   0   0   0   0   0   0   0   0   0   0   0   0  16  93 252\n",
      "  253 187   0   0   0   0   0   0   0   0]\n",
      " [  0   0   0   0   0   0   0   0   0   0   0   0   0   0   0   0   0 249\n",
      "  253 249  64   0   0   0   0   0   0   0]\n",
      " [  0   0   0   0   0   0   0   0   0   0   0   0   0   0  46 130 183 253\n",
      "  253 207   2   0   0   0   0   0   0   0]\n",
      " [  0   0   0   0   0   0   0   0   0   0   0   0  39 148 229 253 253 253\n",
      "  250 182   0   0   0   0   0   0   0   0]\n",
      " [  0   0   0   0   0   0   0   0   0   0  24 114 221 253 253 253 253 201\n",
      "   78   0   0   0   0   0   0   0   0   0]\n",
      " [  0   0   0   0   0   0   0   0  23  66 213 253 253 253 253 198  81   2\n",
      "    0   0   0   0   0   0   0   0   0   0]\n",
      " [  0   0   0   0   0   0  18 171 219 253 253 253 253 195  80   9   0   0\n",
      "    0   0   0   0   0   0   0   0   0   0]\n",
      " [  0   0   0   0  55 172 226 253 253 253 253 244 133  11   0   0   0   0\n",
      "    0   0   0   0   0   0   0   0   0   0]\n",
      " [  0   0   0   0 136 253 253 253 212 135 132  16   0   0   0   0   0   0\n",
      "    0   0   0   0   0   0   0   0   0   0]\n",
      " [  0   0   0   0   0   0   0   0   0   0   0   0   0   0   0   0   0   0\n",
      "    0   0   0   0   0   0   0   0   0   0]\n",
      " [  0   0   0   0   0   0   0   0   0   0   0   0   0   0   0   0   0   0\n",
      "    0   0   0   0   0   0   0   0   0   0]\n",
      " [  0   0   0   0   0   0   0   0   0   0   0   0   0   0   0   0   0   0\n",
      "    0   0   0   0   0   0   0   0   0   0]]\n"
     ]
    }
   ],
   "source": [
    "print(X_train.shape)\n",
    "print(X_test.shape)\n",
    "print(X_train[0].dtype)\n",
    "print(X_train[0])"
   ]
  },
  {
   "cell_type": "markdown",
   "metadata": {},
   "source": [
    "### 平滑化"
   ]
  },
  {
   "cell_type": "code",
   "execution_count": 3,
   "metadata": {},
   "outputs": [],
   "source": [
    "X_train = X_train.reshape(-1 ,784)\n",
    "X_test = X_test.reshape(-1, 784)"
   ]
  },
  {
   "cell_type": "markdown",
   "metadata": {},
   "source": [
    "### 画像データの可視化"
   ]
  },
  {
   "cell_type": "code",
   "execution_count": 4,
   "metadata": {},
   "outputs": [
    {
     "data": {
      "image/png": "[encoded data removed]",
      "text/plain": [
       "<Figure size 432x288 with 1 Axes>"
      ]
     },
     "metadata": {
      "needs_background": "light"
     },
     "output_type": "display_data"
    }
   ],
   "source": [
    "import matplotlib.pyplot as plt\n",
    "%matplotlib inline\n",
    "index = 1\n",
    "image = X_train[index].reshape(28, 28)\n",
    "# X_train[index]: (784,)\n",
    "# image: (28, 28)\n",
    "plt.imshow(image, 'gray')\n",
    "plt.title('lable: {}'.format(y_train[index]))\n",
    "plt.show()"
   ]
  },
  {
   "cell_type": "code",
   "execution_count": 5,
   "metadata": {},
   "outputs": [
    {
     "data": {
      "image/png": "[encoded data removed]",
      "text/plain": [
       "<Figure size 432x288 with 1 Axes>"
      ]
     },
     "metadata": {
      "needs_background": "light"
     },
     "output_type": "display_data"
    }
   ],
   "source": [
    "index  = 0\n",
    "image =  X_train[index].reshape(28, 28)\n",
    "image = image.astype(np.float) # float型に変換\n",
    "image -= 105.35 # 意図的に負の小数値を作り出してみる\n",
    "plt.imshow(image, 'gray')\n",
    "plt.title('label : {}'.format(y_train[index]))\n",
    "plt.show()\n",
    "# print(image) # 値を確認"
   ]
  },
  {
   "cell_type": "code",
   "execution_count": 6,
   "metadata": {},
   "outputs": [
    {
     "data": {
      "text/plain": [
       "<matplotlib.image.AxesImage at 0x13ba758d0>"
      ]
     },
     "execution_count": 6,
     "metadata": {},
     "output_type": "execute_result"
    },
    {
     "data": {
      "image/png": "[encoded data removed]",
      "text/plain": [
       "<Figure size 432x288 with 1 Axes>"
      ]
     },
     "metadata": {
      "needs_background": "light"
     },
     "output_type": "display_data"
    }
   ],
   "source": [
    "plt.imshow(image, 'gray', vmin = 0, vmax = 255)"
   ]
  },
  {
   "cell_type": "markdown",
   "metadata": {},
   "source": [
    "### 前処理"
   ]
  },
  {
   "cell_type": "code",
   "execution_count": 7,
   "metadata": {},
   "outputs": [
    {
     "name": "stdout",
     "output_type": "stream",
     "text": [
      "1.0\n",
      "0.0\n"
     ]
    }
   ],
   "source": [
    "X_train = X_train.astype(np.float)\n",
    "X_test = X_test.astype(np.float)\n",
    "X_train /= 255\n",
    "X_test /= 255\n",
    "print(X_train.max()) # 1.0\n",
    "print(X_train.min()) # 0.0"
   ]
  },
  {
   "cell_type": "markdown",
   "metadata": {},
   "source": [
    "### one-hot表現への変換"
   ]
  },
  {
   "cell_type": "code",
   "execution_count": 8,
   "metadata": {},
   "outputs": [
    {
     "name": "stdout",
     "output_type": "stream",
     "text": [
      "(60000,)\n",
      "(60000, 10)\n",
      "float64\n"
     ]
    }
   ],
   "source": [
    "from sklearn.preprocessing import OneHotEncoder\n",
    "enc = OneHotEncoder(handle_unknown='ignore', sparse=False)\n",
    "y_train_one_hot = enc.fit_transform(y_train[:, np.newaxis])\n",
    "print(y_train.shape) #(60000, 10)\n",
    "print(y_train_one_hot.shape) #(60000, 10)\n",
    "print(y_train_one_hot.dtype) # float64"
   ]
  },
  {
   "cell_type": "markdown",
   "metadata": {},
   "source": [
    "### 訓練データ6万枚の内2割を検証データとして分割"
   ]
  },
  {
   "cell_type": "code",
   "execution_count": 23,
   "metadata": {},
   "outputs": [
    {
     "name": "stdout",
     "output_type": "stream",
     "text": [
      "(38400, 784)\n",
      "(9600, 784)\n"
     ]
    }
   ],
   "source": [
    "from sklearn.metrics import accuracy_score\n",
    "from sklearn.model_selection import train_test_split\n",
    "X_train, X_val, y_train, y_val = train_test_split(X_train, y_train, test_size=0.2)\n",
    "print(X_train.shape) # (48000, 784)\n",
    "print(X_val.shape) # (12000, 784)"
   ]
  },
  {
   "cell_type": "markdown",
   "metadata": {},
   "source": [
    "### ニューラルネットワークスクラッチ《雛形》"
   ]
  },
  {
   "cell_type": "code",
   "execution_count": 10,
   "metadata": {},
   "outputs": [],
   "source": [
    "class ScratchSimpleNeuralNetrowkClassifier():\n",
    "    \"\"\"\n",
    "    シンプルな三層ニューラルネットワーク分類器\n",
    "\n",
    "    Parameters\n",
    "    ----------\n",
    "\n",
    "    Attributes\n",
    "    ----------\n",
    "    \"\"\"\n",
    "    def __init__(self, verbose = True):\n",
    "        self.verbose = verbose\n",
    "        pass\n",
    "    def fit(self, X, y, X_val=None, y_val=None):\n",
    "        \"\"\"\n",
    "        ニューラルネットワーク分類器を学習する。\n",
    "\n",
    "        Parameters\n",
    "        ----------\n",
    "        X : 次の形のndarray, shape (n_samples, n_features)\n",
    "            訓練データの特徴量\n",
    "        y : 次の形のndarray, shape (n_samples, )\n",
    "            訓練データの正解値\n",
    "        X_val : 次の形のndarray, shape (n_samples, n_features)\n",
    "            検証データの特徴量\n",
    "        y_val : 次の形のndarray, shape (n_samples, )\n",
    "            検証データの正解値\n",
    "        \"\"\"\n",
    "        if self.verbose:\n",
    "            #verboseをTrueにした際は学習過程などを出力する\n",
    "            print()\n",
    "        pass\n",
    "    def predict(self, X):\n",
    "        \"\"\"\n",
    "        ニューラルネットワーク分類器を使い推定する。\n",
    "\n",
    "        Parameters\n",
    "        ----------\n",
    "        X : 次の形のndarray, shape (n_samples, n_features)\n",
    "            サンプル\n",
    "\n",
    "        Returns\n",
    "        -------\n",
    "            次の形のndarray, shape (n_samples, 1)\n",
    "            推定結果\n",
    "        \"\"\"\n",
    "        pass\n",
    "        return"
   ]
  },
  {
   "cell_type": "markdown",
   "metadata": {},
   "source": [
    "### ミニバッチ処理《コード》"
   ]
  },
  {
   "cell_type": "code",
   "execution_count": 11,
   "metadata": {},
   "outputs": [],
   "source": [
    "class GetMiniBatch:\n",
    "    \"\"\"\n",
    "    ミニバッチを取得するイテレータ\n",
    "\n",
    "    Parameters\n",
    "    ----------\n",
    "    X : 次の形のndarray, shape (n_samples, n_features)\n",
    "      訓練データ\n",
    "    y : 次の形のndarray, shape (n_samples, 1)\n",
    "      正解値\n",
    "    batch_size : int\n",
    "      バッチサイズ\n",
    "    seed : int\n",
    "      NumPyの乱数のシード\n",
    "    \"\"\"\n",
    "    def __init__(self, X, y, batch_size = 20, seed=0):\n",
    "        self.batch_size = batch_size\n",
    "        np.random.seed(seed)\n",
    "        shuffle_index = np.random.permutation(np.arange(X.shape[0]))\n",
    "        self._X = X[shuffle_index]\n",
    "        self._y = y[shuffle_index]\n",
    "        self._stop = np.ceil(X.shape[0]/self.batch_size).astype(np.int)\n",
    "    def __len__(self):\n",
    "        return self._stop\n",
    "    def __getitem__(self,item):\n",
    "        p0 = item*self.batch_size\n",
    "        p1 = item*self.batch_size + self.batch_size\n",
    "        return self._X[p0:p1], self._y[p0:p1]        \n",
    "    def __iter__(self):\n",
    "        self._counter = 0\n",
    "        return self\n",
    "    def __next__(self):\n",
    "        if self._counter >= self._stop:\n",
    "            raise StopIteration()\n",
    "        p0 = self._counter*self.batch_size\n",
    "        p1 = self._counter*self.batch_size + self.batch_size\n",
    "        self._counter += 1\n",
    "        return self._X[p0:p1], self._y[p0:p1]"
   ]
  },
  {
   "cell_type": "code",
   "execution_count": 12,
   "metadata": {},
   "outputs": [
    {
     "name": "stdout",
     "output_type": "stream",
     "text": [
      "2400\n",
      "(array([[0., 0., 0., ..., 0., 0., 0.],\n",
      "       [0., 0., 0., ..., 0., 0., 0.],\n",
      "       [0., 0., 0., ..., 0., 0., 0.],\n",
      "       ...,\n",
      "       [0., 0., 0., ..., 0., 0., 0.],\n",
      "       [0., 0., 0., ..., 0., 0., 0.],\n",
      "       [0., 0., 0., ..., 0., 0., 0.]]), array([7, 2, 2, 8, 2, 3, 1, 5, 0, 7, 9, 5, 0, 8, 1, 7, 5, 8, 7, 5],\n",
      "      dtype=uint8))\n"
     ]
    }
   ],
   "source": [
    "get_mini_batch = GetMiniBatch(X_train, y_train, batch_size=20)\n",
    "print(len(get_mini_batch)) # 2400\n",
    "print(get_mini_batch[5]) # 5番目のミニバッチが取得できる\n",
    "for mini_X_train, mini_y_train in get_mini_batch:\n",
    "    # このfor文内でミニバッチが使える\n",
    "    pass"
   ]
  },
  {
   "cell_type": "markdown",
   "metadata": {},
   "source": [
    "## 【問題1】重みの初期値を決めるコードの作成"
   ]
  },
  {
   "cell_type": "markdown",
   "metadata": {},
   "source": [
    "ニューラルネットワークの各層の重みの初期値を決めるコードを作成してください。\n",
    "重みの初期値は様々な方法が提案されていますが、今回はガウス分布による単純な初期化を行います。バイアスに関しても同様です。\n",
    "\n",
    "\n",
    "以下のコードを参考にしてください。標準偏差の値sigmaはハイパーパラメータです。発展的な重みの初期化方法については次のSprintで扱います。"
   ]
  },
  {
   "cell_type": "code",
   "execution_count": 14,
   "metadata": {},
   "outputs": [],
   "source": [
    "n_features = 784\n",
    "batch_size = 20 # バッチサイズ\n",
    "n_nodes1 = 400 # 1層目のノード数\n",
    "n_nodes2 = 200 # 2層目のノード数\n",
    "n_nodes3 = 10 # 出力クラス数\n",
    "\n",
    "sigma = 0.01 # ガウス分布の標準偏差\n",
    "W1 = sigma * np.random.randn(n_features, n_nodes1)\n",
    "W2 = sigma * np.random.randn(n_nodes1, n_nodes2)\n",
    "W3 = sigma * np.random.randn(n_nodes2, n_output)\n",
    "b1 = sigma * np.random.randn(n_nodes1)\n",
    "b2 = sigma * np.random.randn(n_nodes2)\n",
    "b3 = sigma * np.random.randn(n_nodes3)"
   ]
  },
  {
   "cell_type": "code",
   "execution_count": 16,
   "metadata": {},
   "outputs": [],
   "source": [
    "# W1"
   ]
  },
  {
   "cell_type": "markdown",
   "metadata": {},
   "source": [
    "## 【問題2】フォワードプロパゲーションの実装\n",
    "三層のニューラルネットワークの フォワードプロパゲーション を作成してください。以下の説明ではノード数は1層目は400、2層目は200としますが、変更しても構いません。\n",
    "\n",
    "\n",
    "各層の数式を以下に示します。今回はそれぞれの記号が表す配列が、実装上どのようなndarrayのshapeになるかを併記してあります。"
   ]
  },
  {
   "cell_type": "code",
   "execution_count": 15,
   "metadata": {},
   "outputs": [],
   "source": [
    "# シグモイド関数\n",
    "    def _sigmoid(self, X):\n",
    "        return 1 / (1 + np.exp(-X))\n",
    "\n",
    "# ハイパボリックタンジェント関数\n",
    "    def tanh(self, X): \n",
    "        return np.tanh(X)\n",
    "    \n",
    "# ソフトマックス関数\n",
    "    def softmax(self, X):\n",
    "        exp_a = np.exp(X)\n",
    "        sum_exp_a = np.sum(exp_a, axis=1).reshape(-1, 1)\n",
    "        return exp_a / sum_exp_a"
   ]
  },
  {
   "cell_type": "code",
   "execution_count": null,
   "metadata": {},
   "outputs": [],
   "source": [
    "    def _forward(self, X):\n",
    "        \n",
    "        f = self.tanh\n",
    "        \n",
    "        # 1層目\n",
    "        self.a1 = X@self.w1 + self.b1 \n",
    "        self.z1 = f(self.a1)\n",
    "        \n",
    "        # 2層目\n",
    "        self.a2 = self.z1@self.w2 + self.b2\n",
    "        self.z2 = f(self.a2)\n",
    "        \n",
    "        #3層目\n",
    "        self.a3 = self.z2@self.w3 + self.b3\n",
    "        self.z3 = self.softmax(self.a3)\n",
    "        \n",
    "        return self.z3"
   ]
  },
  {
   "cell_type": "markdown",
   "metadata": {},
   "source": [
    "## 【問題3】交差エントロピー誤差の実装\n",
    "目的関数（損失関数）を作成します。\n",
    "\n",
    "\n",
    "多クラス分類の目的関数である交差エントロピー誤差 \n",
    "L\n",
    " は次の数式です。"
   ]
  },
  {
   "cell_type": "markdown",
   "metadata": {},
   "source": [
    "$\n",
    "L = - \\frac{1}{n_b}\\sum_{j}^{n_b}\\sum_{k}^{n_c}y_{jk} log(z_{3\\_jk})\n",
    "$"
   ]
  },
  {
   "cell_type": "code",
   "execution_count": 18,
   "metadata": {},
   "outputs": [],
   "source": [
    "    def _loss_function(self, X, y):\n",
    "        term_1 = self.batch_size\n",
    "        term_2 = np.log(self.z3)\n",
    "        \n",
    "        L = -(1/term_1) * np.sum(y * term_2)\n",
    "        \n",
    "        return L"
   ]
  },
  {
   "cell_type": "markdown",
   "metadata": {},
   "source": [
    "## 【問題4】バックプロパゲーションの実装\n",
    "三層のニューラルネットワークのバックプロパゲーションを作成してください。確率的勾配降下法を行う部分です。"
   ]
  },
  {
   "cell_type": "code",
   "execution_count": 17,
   "metadata": {},
   "outputs": [],
   "source": [
    "    def _backpropagation(self, X, y):\n",
    "        \n",
    "        n = self.batch_size\n",
    "        L_A3 = (self.z3 - y)\n",
    "        L_B3 = np.sum(L_A3, axis=0)\n",
    "        L_W3 = (self.z2.T)@L_A3\n",
    "        L_Z2 = L_A3@self.w3.T\n",
    "\n",
    "        self.w3 = self.w3 - self.lr*L_W3\n",
    "        self.b3 = self.b3 - self.lr*L_B3\n",
    "\n",
    "        L_A2 = L_Z2*(1- (self.tanh(self.a2)**2))\n",
    "        L_B2 = np.sum(L_A2, axis=0)\n",
    "        L_W2 = (self.z1.T)@L_A2\n",
    "        L_Z1 = L_A2@self.w2.T\n",
    "\n",
    "        self.w2 = self.w2 - self.lr*L_W2\n",
    "        self.b2 = self.b2 - self.lr*L_B2\n",
    "\n",
    "        L_A1 = L_Z1 * (1- (self.tanh(self.a1))**2)\n",
    "        L_B1 = np.sum(L_A1, axis=0)\n",
    "        L_W1 = (X.T)@L_A1\n",
    "\n",
    "        self.w1 = self.w1 - self.lr*L_W1\n",
    "        self.b1 = self.b1 - self.lr*L_B1"
   ]
  },
  {
   "cell_type": "markdown",
   "metadata": {},
   "source": [
    "## 【問題5】推定\n",
    "推定を行うメソッドを作成してください。\n",
    "\n",
    "\n",
    "フォワードプロパゲーションによって出力された10個の確率の中で、最も高いものはどれかを判定します。"
   ]
  },
  {
   "cell_type": "code",
   "execution_count": 18,
   "metadata": {},
   "outputs": [],
   "source": [
    "    def predict(self, X):\n",
    "\n",
    "        f = self.tanh\n",
    "        \n",
    "        a1 = X@self.w1 + self.b1\n",
    "        z1 = f(a1)\n",
    "        a2 = z1@self.w2 + self.b2\n",
    "        z2 = f(a2)\n",
    "        a3 = z2@self.w3 + self.b3\n",
    "        z3 = self.softmax(a3)\n",
    "        \n",
    "        idx = np.argmax(z3, axis=1)\n",
    "\n",
    "        return idx"
   ]
  },
  {
   "cell_type": "markdown",
   "metadata": {},
   "source": [
    "## 【問題6】学習と推定\n",
    "MNISTのデータを学習・推定し、Accuracyを計算してください。\n",
    "\n"
   ]
  },
  {
   "cell_type": "code",
   "execution_count": 19,
   "metadata": {},
   "outputs": [],
   "source": [
    "class ScratchSimpleNeuralNetrowkClassifier():\n",
    "    \"\"\"\n",
    "    シンプルな三層ニューラルネットワーク分類器\n",
    "\n",
    "    Parameters\n",
    "    ----------\n",
    "\n",
    "    Attributes\n",
    "    ----------\n",
    "    \"\"\"\n",
    "\n",
    "    def __init__(self, epoch=5, n_nodes1=400, n_nodes2=200, sigma=0.01, batch_size=20, n_output=10, lr=0.01, verbose = True, seed=0):\n",
    "        \n",
    "        self.verbose = verbose \n",
    "        self.n_nodes1 = n_nodes1\n",
    "        self.n_nodes2 = n_nodes2 \n",
    "        self.sigma = sigma \n",
    "        self.batch_size = batch_size\n",
    "        self.n_output = n_output\n",
    "        self.lr = lr\n",
    "        self.epoch = epoch\n",
    "        \n",
    "        #loss初期化\n",
    "        self.loss_list = []\n",
    "        self.val_loss_list = []\n",
    "        \n",
    "    def fit(self, X, y, X_val=None, y_val=None):\n",
    "        \"\"\"\n",
    "        ニューラルネットワーク分類器を学習する。\n",
    "\n",
    "        Parameters\n",
    "        ----------\n",
    "        X : 次の形のndarray, shape (n_samples, n_features)\n",
    "            訓練用データの特徴量\n",
    "        y : 次の形のndarray, shape (n_samples, )\n",
    "            訓練用データの正解値\n",
    "        X_val : 次の形のndarray, shape (n_samples, n_features)\n",
    "            検証用データの特徴量\n",
    "        y_val : 次の形のndarray, shape (n_samples, )\n",
    "            検証用データの正解値\n",
    "        \"\"\"\n",
    "        \n",
    "        #訓練用データが一次元なら二次元に変更\n",
    "        if y.ndim == 1:\n",
    "            y = y[:, np.newaxis]\n",
    "        #検証用データ有り\n",
    "        if X_val is not None and y_val is not None and y_val.ndim == 1:\n",
    "            y_val = y_val[:, np.newaxis]\n",
    "\n",
    "        # one-hot-encode\n",
    "        from sklearn.preprocessing import OneHotEncoder\n",
    "        enc = OneHotEncoder(handle_unknown='ignore', sparse=False)\n",
    "        y_train_one_hot = enc.fit_transform(y_train[:, np.newaxis])\n",
    "        y_test_one_hot = enc.transform(y_test[:, np.newaxis])\n",
    "            \n",
    "        #重みとバイアスの初期化\n",
    "        n_features = X.shape[1]\n",
    "        \n",
    "        self.w1 = self._w_gain(n_features, self.n_nodes1)\n",
    "        self.w2 = self._w_gain(self.n_nodes1, self.n_nodes2)\n",
    "        self.w3 = self._w_gain(self.n_nodes2, self.n_output)\n",
    "        self.b1 = self._w_gain(self.n_nodes1, 1).ravel()\n",
    "        self.b2 = self._w_gain(self.n_nodes2, 1).ravel()\n",
    "        self.b3 = self._w_gain(self.n_output, 1).ravel()\n",
    "        \n",
    "        for i in range(self.epoch):\n",
    "            get_mini_batch = GetMiniBatch(X_train, y_train_one_hot, batch_size=20)\n",
    "            for mini_X_train, mini_y_train in get_mini_batch:\n",
    "                if mini_y_train.ndim == 1:\n",
    "                    mini_y_train = mini_y_train[:, np.newaxis]\n",
    "                    \n",
    "                self._forward(mini_X_train)\n",
    "                loss = self._loss_function(mini_X_train, mini_y_train)\n",
    "                self._backpropagation(mini_X_train, mini_y_train)\n",
    "                \n",
    "            #lossをリストに格納\n",
    "            self.loss_list.append(loss)\n",
    "            \n",
    "            #学習過程の出力\n",
    "            if self.verbose== True:\n",
    "                print(\"train : {}\".format(self.loss_list))\n",
    "            \n",
    "        #バリデーションありの場合\n",
    "        if X_val is not None and y_val is not None:                                                     \n",
    "\n",
    "            for i in range(self.epoch):\n",
    "                for mini_X_val, mini_y_val in get_mini_batch:\n",
    "                    if mini_y_val.ndim == 1:\n",
    "                        mini_y_val = mini_y_val[:, np.newaxis]\n",
    "\n",
    "                    self._forward(mini_X_val)\n",
    "                    val_loss = self._loss_function(mini_X_val, mini_y_val)\n",
    "                    self._backpropagation(mini_X_val, mini_y_val)\n",
    "                    \n",
    "                #損失をリストに格納\n",
    "                self.val_loss_list.append(val_loss)       \n",
    "            \n",
    "                #学習過程の出力\n",
    "                if self.verbose== True:\n",
    "                    print(\"val : {}\".format(self.val_loss_list))\n",
    "            \n",
    "    def _w_gain(self, n_feature, n_node):\n",
    "        np.random.seed(seed=0)\n",
    "        W = self.sigma * np.random.randn(n_feature, n_node) \n",
    "        return W\n",
    "    \n",
    "    # シグモイド関数\n",
    "    def _sigmoid(self, X):\n",
    "        return 1 / (1 + np.exp(-X))\n",
    "\n",
    "    # ハイパボリックタンジェント関数\n",
    "    def tanh(self, X): \n",
    "        return np.tanh(X)\n",
    "    \n",
    "    # ソフトマックス関数\n",
    "    def softmax(self, X):\n",
    "        exp_a = np.exp(X)\n",
    "        sum_exp_a = np.sum(exp_a, axis=1).reshape(-1, 1)\n",
    "        return exp_a / sum_exp_a\n",
    "    \n",
    "    def _forward(self, X):\n",
    "        \n",
    "        f = self.tanh\n",
    "        \n",
    "        self.a1 = X@self.w1 + self.b1\n",
    "        self.z1 = f(self.a1)\n",
    "        self.a2 = self.z1@self.w2 + self.b2\n",
    "        self.z2 = f(self.a2)\n",
    "        self.a3 = self.z2@self.w3 + self.b3\n",
    "        self.z3 = self.softmax(self.a3)\n",
    "        \n",
    "        return self.z3\n",
    "    \n",
    "    def _loss_function(self, X, y):\n",
    "        term_1 = self.batch_size\n",
    "        term_2 = np.log(self.z3)\n",
    "        \n",
    "        L = -(1/term_1) * np.sum(y * term_2)\n",
    "        \n",
    "        return L\n",
    "    \n",
    "    def _backpropagation(self, X, y):\n",
    "        n = self.batch_size\n",
    "        L_A3 = (self.z3 - y)\n",
    "        L_B3 = np.sum(L_A3, axis=0)\n",
    "        L_W3 = (self.z2.T)@L_A3\n",
    "        L_Z2 = L_A3@self.w3.T\n",
    "\n",
    "        self.w3 = self.w3 - self.lr*L_W3\n",
    "        self.b3 = self.b3 - self.lr*L_B3\n",
    "\n",
    "        L_A2 = L_Z2*(1- (self.tanh(self.a2)**2))\n",
    "        L_B2 = np.sum(L_A2, axis=0)\n",
    "        L_W2 = (self.z1.T)@L_A2\n",
    "        L_Z1 = L_A2@self.w2.T\n",
    "\n",
    "        self.w2 = self.w2 - self.lr*L_W2\n",
    "        self.b2 = self.b2 - self.lr*L_B2\n",
    "\n",
    "        L_A1 = L_Z1 * (1- (self.tanh(self.a1))**2)\n",
    "        L_B1 = np.sum(L_A1, axis=0)\n",
    "        L_W1 = (X.T)@L_A1\n",
    "\n",
    "        self.w1 = self.w1 - self.lr*L_W1\n",
    "        self.b1 = self.b1 - self.lr*L_B1\n",
    "    \n",
    "    def predict(self, X):\n",
    "\n",
    "        f = self.tanh\n",
    "        \n",
    "        a1 = X@self.w1 + self.b1\n",
    "        z1 = f(a1)\n",
    "        a2 = z1@self.w2 + self.b2\n",
    "        z2 = f(a2)\n",
    "        a3 = z2@self.w3 + self.b3\n",
    "        z3 = self.softmax(a3)\n",
    "        \n",
    "        idx = np.argmax(z3, axis=1)\n",
    "\n",
    "        return idx"
   ]
  },
  {
   "cell_type": "code",
   "execution_count": 33,
   "metadata": {},
   "outputs": [
    {
     "name": "stdout",
     "output_type": "stream",
     "text": [
      "Accuracy: 0.9688\n"
     ]
    }
   ],
   "source": [
    "ssnnc = ScratchSimpleNeuralNetrowkClassifier(epoch=10, n_nodes1=400, n_nodes2=200, sigma=0.01, batch_size=128, n_output=10, lr=0.001, verbose = False)\n",
    "ssnnc.fit(X_train, y_train, X_val, y_val)\n",
    "y_pred = ssnnc.predict(X_test)\n",
    "print(\"Accuracy: {}\".format(accuracy_score(y_test, y_pred)))"
   ]
  },
  {
   "cell_type": "markdown",
   "metadata": {},
   "source": [
    "## 【問題7】学習曲線のプロット\n",
    "学習曲線をプロットしてください。\n",
    "\n",
    "\n",
    "ニューラルネットワークは過学習が発生しやすいため、学習曲線の確認が重要です。訓練データと検証データに対するエポックごとの損失（交差エントロピー誤差）を記録できるようにする必要があります。"
   ]
  },
  {
   "cell_type": "code",
   "execution_count": 36,
   "metadata": {},
   "outputs": [
    {
     "data": {
      "image/png": "[encoded data removed]",
      "text/plain": [
       "<Figure size 432x288 with 1 Axes>"
      ]
     },
     "metadata": {
      "needs_background": "light"
     },
     "output_type": "display_data"
    }
   ],
   "source": [
    "import matplotlib.pyplot as plt\n",
    "plt.plot(range(len(ssnnc.loss_list)), ssnnc.loss_list, label=\"Loss\")\n",
    "plt.plot(range(len(ssnnc.val_loss_list)), ssnnc.val_loss_list, label=\"Val_Loss\")\n",
    "plt.legend()\n",
    "plt.show()"
   ]
  }
 ],
 "metadata": {
  "kernelspec": {
   "display_name": "Python 3",
   "language": "python",
   "name": "python3"
  },
  "language_info": {
   "codemirror_mode": {
    "name": "ipython",
    "version": 3
   },
   "file_extension": ".py",
   "mimetype": "text/x-python",
   "name": "python",
   "nbconvert_exporter": "python",
   "pygments_lexer": "ipython3",
   "version": "3.7.4"
  }
 },
 "nbformat": 4,
 "nbformat_minor": 2
}
