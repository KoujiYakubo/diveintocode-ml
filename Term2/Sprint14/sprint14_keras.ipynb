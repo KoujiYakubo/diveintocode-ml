{
 "cells": [
  {
   "cell_type": "markdown",
   "metadata": {},
   "source": [
    "# Sprint ディープラーニングフレームワーク2"
   ]
  },
  {
   "cell_type": "markdown",
   "metadata": {},
   "source": [
    "## 【問題1】公式チュートリアルモデルを分担して実行"
   ]
  },
  {
   "cell_type": "markdown",
   "metadata": {},
   "source": [
    "TensorFLowの公式チュートリアルモデルを分担して実行してください。\n",
    "\n",
    "\n",
    "以下の中から1人ひとつ選び実行し、その結果を簡単に発表してください。"
   ]
  },
  {
   "cell_type": "markdown",
   "metadata": {},
   "source": [
    " - 基本的な画像分類（はじめてのニューラルネットワーク：分類問題の初歩）"
   ]
  },
  {
   "cell_type": "markdown",
   "metadata": {},
   "source": [
    "## 【問題3】Iris（2値分類）をKerasで学習"
   ]
  },
  {
   "cell_type": "markdown",
   "metadata": {},
   "source": [
    "TensorFlowによるIrisデータセットに対する2値分類をKerasに書き換えてください。"
   ]
  },
  {
   "cell_type": "code",
   "execution_count": 9,
   "metadata": {},
   "outputs": [
    {
     "name": "stderr",
     "output_type": "stream",
     "text": [
      "Using TensorFlow backend.\n"
     ]
    }
   ],
   "source": [
    "import numpy as np\n",
    "import matplotlib.pyplot as plt\n",
    "from keras.models import Sequential\n",
    "from keras.layers import Dense, Activation\n",
    "from sklearn.model_selection import train_test_split\n",
    "from keras.utils import np_utils\n",
    "from sklearn.preprocessing import OneHotEncoder"
   ]
  },
  {
   "cell_type": "code",
   "execution_count": 10,
   "metadata": {},
   "outputs": [],
   "source": [
    "\"\"\"\n",
    "TensorFlowで実装したニューラルネットワークを使いIrisデータセットを2値分類する\n",
    "\"\"\"\n",
    "import numpy as np\n",
    "import pandas as pd\n",
    "from sklearn.model_selection import train_test_split\n",
    "import tensorflow as tf\n",
    "# データセットの読み込み\n",
    "dataset_path =\"../Sprint13/Iris.csv\"\n",
    "df = pd.read_csv(dataset_path)\n",
    "# データフレームから条件抽出\n",
    "df = df[(df[\"Species\"] == \"Iris-versicolor\")|(df[\"Species\"] == \"Iris-virginica\")]\n",
    "y = df[\"Species\"]\n",
    "X = df.loc[:, [\"SepalLengthCm\", \"SepalWidthCm\", \"PetalLengthCm\", \"PetalWidthCm\"]]\n",
    "y = np.array(y)\n",
    "X = np.array(X)\n",
    "# ラベルを数値に変換\n",
    "y[y=='Iris-versicolor'] = 0\n",
    "y[y=='Iris-virginica'] = 1\n",
    "y = y.astype(np.int)[:, np.newaxis]\n",
    "# trainとtestに分割\n",
    "X_train, X_test, y_train, y_test = train_test_split(X, y, test_size=0.2, random_state=0)\n",
    "# さらにtrainとvalに分割\n",
    "X_train, X_val, y_train, y_val = train_test_split(X_train, y_train, test_size=0.2, random_state=0)"
   ]
  },
  {
   "cell_type": "code",
   "execution_count": 11,
   "metadata": {},
   "outputs": [
    {
     "data": {
      "text/plain": [
       "(64, 4)"
      ]
     },
     "execution_count": 11,
     "metadata": {},
     "output_type": "execute_result"
    }
   ],
   "source": [
    "X_train.shape"
   ]
  },
  {
   "cell_type": "code",
   "execution_count": 49,
   "metadata": {},
   "outputs": [
    {
     "name": "stdout",
     "output_type": "stream",
     "text": [
      "Model: \"model_4\"\n",
      "_________________________________________________________________\n",
      "Layer (type)                 Output Shape              Param #   \n",
      "=================================================================\n",
      "input_5 (InputLayer)         [(None, 4)]               0         \n",
      "_________________________________________________________________\n",
      "dense_22 (Dense)             (None, 50)                250       \n",
      "_________________________________________________________________\n",
      "dense_23 (Dense)             (None, 50)                2550      \n",
      "_________________________________________________________________\n",
      "dense_24 (Dense)             (None, 1)                 51        \n",
      "=================================================================\n",
      "Total params: 2,851\n",
      "Trainable params: 2,851\n",
      "Non-trainable params: 0\n",
      "_________________________________________________________________\n"
     ]
    }
   ],
   "source": [
    "#  Functional APIモデル - 3層\n",
    "input_data = tf.keras.layers.Input(shape=(4,)) # Paramが0でおかしい？\n",
    "x = tf.keras.layers.Dense(50, activation=tf.nn.relu)(input_data)\n",
    "x = tf.keras.layers.Dense(50, activation=tf.nn.relu)(x)\n",
    "output = tf.keras.layers.Dense(1, activation=tf.nn.sigmoid)(x)\n",
    "model = tf.keras.Model(inputs=input_data, outputs=output)\n",
    "model.summary()"
   ]
  },
  {
   "cell_type": "code",
   "execution_count": 59,
   "metadata": {},
   "outputs": [],
   "source": [
    "# モデルをコンパイル\n",
    "model.compile(loss='binary_crossentropy',\n",
    "            optimizer=tf.train.AdamOptimizer(learning_rate=0.01),\n",
    "            metrics=['accuracy'])"
   ]
  },
  {
   "cell_type": "code",
   "execution_count": 60,
   "metadata": {},
   "outputs": [
    {
     "name": "stdout",
     "output_type": "stream",
     "text": [
      "Train on 64 samples, validate on 16 samples\n",
      "Epoch 1/50\n",
      "64/64 [==============================] - 1s 13ms/sample - loss: 0.4767 - acc: 0.8750 - val_loss: 0.4537 - val_acc: 0.9375\n",
      "Epoch 2/50\n",
      "64/64 [==============================] - 0s 2ms/sample - loss: 0.4651 - acc: 0.8594 - val_loss: 0.4337 - val_acc: 0.9375\n",
      "Epoch 3/50\n",
      "64/64 [==============================] - 0s 1ms/sample - loss: 0.4677 - acc: 0.9062 - val_loss: 0.4540 - val_acc: 0.9375\n",
      "Epoch 4/50\n",
      "64/64 [==============================] - 0s 1ms/sample - loss: 0.4583 - acc: 0.8906 - val_loss: 0.4227 - val_acc: 1.0000\n",
      "Epoch 5/50\n",
      "64/64 [==============================] - 0s 1ms/sample - loss: 0.4627 - acc: 0.8438 - val_loss: 0.4483 - val_acc: 0.9375\n",
      "Epoch 6/50\n",
      "64/64 [==============================] - 0s 2ms/sample - loss: 0.4513 - acc: 0.8594 - val_loss: 0.4215 - val_acc: 0.9375\n",
      "Epoch 7/50\n",
      "64/64 [==============================] - 0s 2ms/sample - loss: 0.4535 - acc: 0.8906 - val_loss: 0.4214 - val_acc: 0.9375\n",
      "Epoch 8/50\n",
      "64/64 [==============================] - 0s 1ms/sample - loss: 0.4442 - acc: 0.9219 - val_loss: 0.4415 - val_acc: 0.8750\n",
      "Epoch 9/50\n",
      "64/64 [==============================] - 0s 1ms/sample - loss: 0.4413 - acc: 0.8906 - val_loss: 0.3997 - val_acc: 1.0000\n",
      "Epoch 10/50\n",
      "64/64 [==============================] - 0s 2ms/sample - loss: 0.4346 - acc: 0.9062 - val_loss: 0.4010 - val_acc: 1.0000\n",
      "Epoch 11/50\n",
      "64/64 [==============================] - 0s 1ms/sample - loss: 0.4305 - acc: 0.9062 - val_loss: 0.3932 - val_acc: 1.0000\n",
      "Epoch 12/50\n",
      "64/64 [==============================] - 0s 991us/sample - loss: 0.4337 - acc: 0.9062 - val_loss: 0.4252 - val_acc: 0.9375\n",
      "Epoch 13/50\n",
      "64/64 [==============================] - 0s 1ms/sample - loss: 0.4210 - acc: 0.9062 - val_loss: 0.3899 - val_acc: 1.0000\n",
      "Epoch 14/50\n",
      "64/64 [==============================] - 0s 2ms/sample - loss: 0.4149 - acc: 0.9375 - val_loss: 0.3898 - val_acc: 1.0000\n",
      "Epoch 15/50\n",
      "64/64 [==============================] - 0s 2ms/sample - loss: 0.4219 - acc: 0.9219 - val_loss: 0.3736 - val_acc: 1.0000\n",
      "Epoch 16/50\n",
      "64/64 [==============================] - 0s 2ms/sample - loss: 0.4203 - acc: 0.9219 - val_loss: 0.3760 - val_acc: 1.0000\n",
      "Epoch 17/50\n",
      "64/64 [==============================] - 0s 1ms/sample - loss: 0.4025 - acc: 0.9375 - val_loss: 0.4016 - val_acc: 0.9375\n",
      "Epoch 18/50\n",
      "64/64 [==============================] - 0s 955us/sample - loss: 0.4082 - acc: 0.9062 - val_loss: 0.3705 - val_acc: 1.0000\n",
      "Epoch 19/50\n",
      "64/64 [==============================] - 0s 1ms/sample - loss: 0.4018 - acc: 0.9062 - val_loss: 0.3741 - val_acc: 1.0000\n",
      "Epoch 20/50\n",
      "64/64 [==============================] - 0s 1ms/sample - loss: 0.3944 - acc: 0.9531 - val_loss: 0.3619 - val_acc: 1.0000\n",
      "Epoch 21/50\n",
      "64/64 [==============================] - 0s 2ms/sample - loss: 0.3940 - acc: 0.8906 - val_loss: 0.3597 - val_acc: 1.0000\n",
      "Epoch 22/50\n",
      "64/64 [==============================] - 0s 2ms/sample - loss: 0.3874 - acc: 0.9375 - val_loss: 0.3672 - val_acc: 1.0000\n",
      "Epoch 23/50\n",
      "64/64 [==============================] - 0s 1ms/sample - loss: 0.3936 - acc: 0.8906 - val_loss: 0.3449 - val_acc: 1.0000\n",
      "Epoch 24/50\n",
      "64/64 [==============================] - 0s 1ms/sample - loss: 0.3959 - acc: 0.9219 - val_loss: 0.3875 - val_acc: 0.9375\n",
      "Epoch 25/50\n",
      "64/64 [==============================] - 0s 1ms/sample - loss: 0.3803 - acc: 0.9219 - val_loss: 0.3353 - val_acc: 1.0000\n",
      "Epoch 26/50\n",
      "64/64 [==============================] - 0s 2ms/sample - loss: 0.3757 - acc: 0.9219 - val_loss: 0.3385 - val_acc: 1.0000\n",
      "Epoch 27/50\n",
      "64/64 [==============================] - 0s 1ms/sample - loss: 0.3749 - acc: 0.9375 - val_loss: 0.3581 - val_acc: 1.0000\n",
      "Epoch 28/50\n",
      "64/64 [==============================] - 0s 2ms/sample - loss: 0.3713 - acc: 0.9375 - val_loss: 0.3442 - val_acc: 1.0000\n",
      "Epoch 29/50\n",
      "64/64 [==============================] - 0s 1ms/sample - loss: 0.3675 - acc: 0.9375 - val_loss: 0.3327 - val_acc: 1.0000\n",
      "Epoch 30/50\n",
      "64/64 [==============================] - 0s 988us/sample - loss: 0.3687 - acc: 0.9531 - val_loss: 0.3385 - val_acc: 1.0000\n",
      "Epoch 31/50\n",
      "64/64 [==============================] - 0s 1ms/sample - loss: 0.3643 - acc: 0.9219 - val_loss: 0.3157 - val_acc: 1.0000\n",
      "Epoch 32/50\n",
      "64/64 [==============================] - 0s 2ms/sample - loss: 0.3674 - acc: 0.9375 - val_loss: 0.3559 - val_acc: 0.9375\n",
      "Epoch 33/50\n",
      "64/64 [==============================] - 0s 1ms/sample - loss: 0.3539 - acc: 0.9531 - val_loss: 0.3246 - val_acc: 1.0000\n",
      "Epoch 34/50\n",
      "64/64 [==============================] - 0s 1ms/sample - loss: 0.3649 - acc: 0.9219 - val_loss: 0.3088 - val_acc: 1.0000\n",
      "Epoch 35/50\n",
      "64/64 [==============================] - 0s 1ms/sample - loss: 0.3488 - acc: 0.9375 - val_loss: 0.3436 - val_acc: 1.0000\n",
      "Epoch 36/50\n",
      "64/64 [==============================] - 0s 1ms/sample - loss: 0.3477 - acc: 0.9375 - val_loss: 0.3205 - val_acc: 1.0000\n",
      "Epoch 37/50\n",
      "64/64 [==============================] - 0s 1ms/sample - loss: 0.3476 - acc: 0.9375 - val_loss: 0.3064 - val_acc: 1.0000\n",
      "Epoch 38/50\n",
      "64/64 [==============================] - 0s 1ms/sample - loss: 0.3510 - acc: 0.9219 - val_loss: 0.3009 - val_acc: 1.0000\n",
      "Epoch 39/50\n",
      "64/64 [==============================] - 0s 1ms/sample - loss: 0.3408 - acc: 0.9375 - val_loss: 0.3252 - val_acc: 1.0000\n",
      "Epoch 40/50\n",
      "64/64 [==============================] - 0s 2ms/sample - loss: 0.3363 - acc: 0.9531 - val_loss: 0.3034 - val_acc: 1.0000\n",
      "Epoch 41/50\n",
      "64/64 [==============================] - 0s 1ms/sample - loss: 0.3395 - acc: 0.9531 - val_loss: 0.2874 - val_acc: 1.0000\n",
      "Epoch 42/50\n",
      "64/64 [==============================] - 0s 1ms/sample - loss: 0.3438 - acc: 0.9219 - val_loss: 0.3251 - val_acc: 1.0000\n",
      "Epoch 43/50\n",
      "64/64 [==============================] - 0s 2ms/sample - loss: 0.3316 - acc: 0.9219 - val_loss: 0.2811 - val_acc: 1.0000\n",
      "Epoch 44/50\n",
      "64/64 [==============================] - 0s 1ms/sample - loss: 0.3336 - acc: 0.9375 - val_loss: 0.3089 - val_acc: 1.0000\n",
      "Epoch 45/50\n",
      "64/64 [==============================] - 0s 1ms/sample - loss: 0.3282 - acc: 0.9531 - val_loss: 0.2942 - val_acc: 1.0000\n",
      "Epoch 46/50\n",
      "64/64 [==============================] - 0s 1ms/sample - loss: 0.3239 - acc: 0.9375 - val_loss: 0.2887 - val_acc: 1.0000\n",
      "Epoch 47/50\n",
      "64/64 [==============================] - 0s 1ms/sample - loss: 0.3272 - acc: 0.9531 - val_loss: 0.2939 - val_acc: 1.0000\n",
      "Epoch 48/50\n",
      "64/64 [==============================] - 0s 948us/sample - loss: 0.3200 - acc: 0.9375 - val_loss: 0.2837 - val_acc: 1.0000\n",
      "Epoch 49/50\n",
      "64/64 [==============================] - 0s 1ms/sample - loss: 0.3168 - acc: 0.9219 - val_loss: 0.2733 - val_acc: 1.0000\n",
      "Epoch 50/50\n",
      "64/64 [==============================] - 0s 1ms/sample - loss: 0.3149 - acc: 0.9375 - val_loss: 0.2902 - val_acc: 1.0000\n"
     ]
    }
   ],
   "source": [
    "# 学習の実施\n",
    "history = model.fit(X_train, y_train,\n",
    "                    batch_size=4,\n",
    "                    epochs=50,\n",
    "                    verbose=1,\n",
    "                    validation_data = (X_val, y_val))"
   ]
  },
  {
   "cell_type": "code",
   "execution_count": 58,
   "metadata": {},
   "outputs": [
    {
     "name": "stdout",
     "output_type": "stream",
     "text": [
      "Train loss: 0.46684011816978455\n",
      "Train accuracy: 0.90625\n",
      "Test loss: 0.4672594964504242\n",
      "Test accuracy: 0.9\n"
     ]
    }
   ],
   "source": [
    "# 評価\n",
    "train_score = model.evaluate(X_train, y_train, verbose=0)\n",
    "print('Train loss:', train_score[0])\n",
    "print('Train accuracy:', train_score[1])\n",
    "\n",
    "test_score = model.evaluate(X_test, y_test, verbose=0)\n",
    "print('Test loss:', test_score[0])\n",
    "print('Test accuracy:', test_score[1])"
   ]
  },
  {
   "cell_type": "code",
   "execution_count": 61,
   "metadata": {},
   "outputs": [
    {
     "data": {
      "image/png": "[encoded data removed]",
      "text/plain": [
       "<Figure size 432x288 with 1 Axes>"
      ]
     },
     "metadata": {
      "needs_background": "light"
     },
     "output_type": "display_data"
    }
   ],
   "source": [
    "# 結果をプロット\n",
    "plt.plot(history.epoch, history.history[\"acc\"], label=\"acc\")\n",
    "plt.plot(history.epoch, history.history[\"loss\"], label=\"loss\")\n",
    "plt.xlabel(\"epoch\")\n",
    "plt.legend();"
   ]
  },
  {
   "cell_type": "markdown",
   "metadata": {},
   "source": [
    "## 【問題4】Iris（多値分類）をKerasで学習"
   ]
  },
  {
   "cell_type": "code",
   "execution_count": 77,
   "metadata": {},
   "outputs": [],
   "source": [
    "\"\"\"\n",
    "TensorFlowで実装したニューラルネットワークを使いIrisデータセットを多値分類する\n",
    "\"\"\"\n",
    "import keras\n",
    "\n",
    "# データセットの読み込み\n",
    "dataset_path =\"../Sprint13/Iris.csv\"\n",
    "df = pd.read_csv(dataset_path)\n",
    "# データフレームから条件抽出\n",
    "# df = df[(df[\"Species\"] == \"Iris-versicolor\")|(df[\"Species\"] == \"Iris-virginica\")]\n",
    "y = df[\"Species\"]\n",
    "X = df.loc[:, [\"SepalLengthCm\", \"SepalWidthCm\", \"PetalLengthCm\", \"PetalWidthCm\"]]\n",
    "y = np.array(y)\n",
    "X = np.array(X)\n",
    "# ラベルを数値に変換\n",
    "y[y=='Iris-versicolor'] = 0\n",
    "y[y=='Iris-virginica'] = 1\n",
    "y[y=='Iris-setosa'] = 2 # 追加\n",
    "#y = y.astype(np.int)[:, np.newaxis]\n",
    "\n",
    "# OneHotEncoderの実施\n",
    "from sklearn.preprocessing import OneHotEncoder\n",
    "one_hot_enc = OneHotEncoder(handle_unknown='ignore', sparse=False)\n",
    "y = one_hot_enc.fit_transform(y[:, np.newaxis])\n",
    "\n",
    "# trainとtestに分割\n",
    "X_train, X_test, y_train, y_test = train_test_split(X, y, test_size=0.2, random_state=0)\n",
    "# さらにtrainとvalに分割\n",
    "X_train, X_val, y_train, y_val = train_test_split(X_train, y_train, test_size=0.2, random_state=0)"
   ]
  },
  {
   "cell_type": "code",
   "execution_count": 83,
   "metadata": {},
   "outputs": [
    {
     "data": {
      "text/plain": [
       "(96, 4)"
      ]
     },
     "execution_count": 83,
     "metadata": {},
     "output_type": "execute_result"
    }
   ],
   "source": [
    "X_train.shape"
   ]
  },
  {
   "cell_type": "code",
   "execution_count": 107,
   "metadata": {},
   "outputs": [
    {
     "name": "stdout",
     "output_type": "stream",
     "text": [
      "Model: \"model_7\"\n",
      "_________________________________________________________________\n",
      "Layer (type)                 Output Shape              Param #   \n",
      "=================================================================\n",
      "input_8 (InputLayer)         [(None, 4)]               0         \n",
      "_________________________________________________________________\n",
      "dense_33 (Dense)             (None, 50)                250       \n",
      "_________________________________________________________________\n",
      "dense_34 (Dense)             (None, 50)                2550      \n",
      "_________________________________________________________________\n",
      "dense_35 (Dense)             (None, 3)                 153       \n",
      "=================================================================\n",
      "Total params: 2,953\n",
      "Trainable params: 2,953\n",
      "Non-trainable params: 0\n",
      "_________________________________________________________________\n"
     ]
    }
   ],
   "source": [
    "#  Functional APIモデル - 3層\n",
    "input_data = tf.keras.layers.Input(shape=(4,)) # Paramが0でおかしい？\n",
    "x = tf.keras.layers.Dense(50, activation=tf.nn.relu)(input_data)\n",
    "x = tf.keras.layers.Dense(50, activation=tf.nn.relu)(x)\n",
    "output = tf.keras.layers.Dense(3, activation=tf.nn.sigmoid)(x)\n",
    "model = tf.keras.Model(inputs=input_data, outputs=output)\n",
    "model.summary()"
   ]
  },
  {
   "cell_type": "code",
   "execution_count": 85,
   "metadata": {},
   "outputs": [],
   "source": [
    "# モデルをコンパイル\n",
    "model.compile(loss='binary_crossentropy',\n",
    "            optimizer=tf.train.AdamOptimizer(learning_rate=0.01),\n",
    "            metrics=['accuracy'])"
   ]
  },
  {
   "cell_type": "code",
   "execution_count": 86,
   "metadata": {},
   "outputs": [
    {
     "name": "stdout",
     "output_type": "stream",
     "text": [
      "Train on 96 samples, validate on 24 samples\n",
      "Epoch 1/50\n",
      "96/96 [==============================] - 1s 10ms/sample - loss: 0.4498 - acc: 0.7604 - val_loss: 0.3585 - val_acc: 0.8056\n",
      "Epoch 2/50\n",
      "96/96 [==============================] - 0s 1ms/sample - loss: 0.3081 - acc: 0.8542 - val_loss: 0.2916 - val_acc: 0.8333\n",
      "Epoch 3/50\n",
      "96/96 [==============================] - 0s 1ms/sample - loss: 0.2347 - acc: 0.8785 - val_loss: 0.2140 - val_acc: 0.8750\n",
      "Epoch 4/50\n",
      "96/96 [==============================] - 0s 2ms/sample - loss: 0.1443 - acc: 0.9479 - val_loss: 0.1504 - val_acc: 0.9444\n",
      "Epoch 5/50\n",
      "96/96 [==============================] - 0s 1ms/sample - loss: 0.1099 - acc: 0.9618 - val_loss: 0.1329 - val_acc: 0.9583\n",
      "Epoch 6/50\n",
      "96/96 [==============================] - 0s 1ms/sample - loss: 0.0766 - acc: 0.9722 - val_loss: 0.2053 - val_acc: 0.8889\n",
      "Epoch 7/50\n",
      "96/96 [==============================] - 0s 1ms/sample - loss: 0.0863 - acc: 0.9722 - val_loss: 0.1130 - val_acc: 0.9444\n",
      "Epoch 8/50\n",
      "96/96 [==============================] - 0s 2ms/sample - loss: 0.1044 - acc: 0.9653 - val_loss: 0.2352 - val_acc: 0.9444\n",
      "Epoch 9/50\n",
      "96/96 [==============================] - 0s 1ms/sample - loss: 0.0631 - acc: 0.9722 - val_loss: 0.1092 - val_acc: 0.9583\n",
      "Epoch 10/50\n",
      "96/96 [==============================] - 0s 2ms/sample - loss: 0.0956 - acc: 0.9618 - val_loss: 0.1706 - val_acc: 0.9444\n",
      "Epoch 11/50\n",
      "96/96 [==============================] - 0s 4ms/sample - loss: 0.0552 - acc: 0.9688 - val_loss: 0.1626 - val_acc: 0.9167\n",
      "Epoch 12/50\n",
      "96/96 [==============================] - 0s 2ms/sample - loss: 0.1239 - acc: 0.9340 - val_loss: 0.1953 - val_acc: 0.9444\n",
      "Epoch 13/50\n",
      "96/96 [==============================] - 0s 1ms/sample - loss: 0.0944 - acc: 0.9722 - val_loss: 0.3932 - val_acc: 0.8333\n",
      "Epoch 14/50\n",
      "96/96 [==============================] - 0s 1ms/sample - loss: 0.0903 - acc: 0.9722 - val_loss: 0.2182 - val_acc: 0.9444\n",
      "Epoch 15/50\n",
      "96/96 [==============================] - 0s 2ms/sample - loss: 0.0304 - acc: 0.9931 - val_loss: 0.2005 - val_acc: 0.9444\n",
      "Epoch 16/50\n",
      "96/96 [==============================] - 0s 2ms/sample - loss: 0.1250 - acc: 0.9514 - val_loss: 0.5306 - val_acc: 0.8056\n",
      "Epoch 17/50\n",
      "96/96 [==============================] - 0s 2ms/sample - loss: 0.1354 - acc: 0.9514 - val_loss: 0.1294 - val_acc: 0.9444\n",
      "Epoch 18/50\n",
      "96/96 [==============================] - 0s 1ms/sample - loss: 0.0994 - acc: 0.9653 - val_loss: 0.1072 - val_acc: 0.9583\n",
      "Epoch 19/50\n",
      "96/96 [==============================] - 0s 1ms/sample - loss: 0.0348 - acc: 0.9792 - val_loss: 0.1873 - val_acc: 0.9444\n",
      "Epoch 20/50\n",
      "96/96 [==============================] - 0s 1ms/sample - loss: 0.0429 - acc: 0.9826 - val_loss: 0.1994 - val_acc: 0.9444\n",
      "Epoch 21/50\n",
      "96/96 [==============================] - 0s 2ms/sample - loss: 0.0866 - acc: 0.9722 - val_loss: 0.5203 - val_acc: 0.8333\n",
      "Epoch 22/50\n",
      "96/96 [==============================] - 0s 2ms/sample - loss: 0.0926 - acc: 0.9653 - val_loss: 0.1564 - val_acc: 0.9444\n",
      "Epoch 23/50\n",
      "96/96 [==============================] - 0s 1ms/sample - loss: 0.0439 - acc: 0.9792 - val_loss: 0.2818 - val_acc: 0.9444\n",
      "Epoch 24/50\n",
      "96/96 [==============================] - 0s 2ms/sample - loss: 0.0493 - acc: 0.9861 - val_loss: 0.1568 - val_acc: 0.9444\n",
      "Epoch 25/50\n",
      "96/96 [==============================] - 0s 1ms/sample - loss: 0.0741 - acc: 0.9792 - val_loss: 0.1251 - val_acc: 0.9444\n",
      "Epoch 26/50\n",
      "96/96 [==============================] - 0s 2ms/sample - loss: 0.0276 - acc: 1.0000 - val_loss: 0.2282 - val_acc: 0.9444\n",
      "Epoch 27/50\n",
      "96/96 [==============================] - 0s 2ms/sample - loss: 0.0465 - acc: 0.9757 - val_loss: 0.1513 - val_acc: 0.9444\n",
      "Epoch 28/50\n",
      "96/96 [==============================] - 0s 2ms/sample - loss: 0.0987 - acc: 0.9722 - val_loss: 0.1393 - val_acc: 0.9167\n",
      "Epoch 29/50\n",
      "96/96 [==============================] - 0s 1ms/sample - loss: 0.1105 - acc: 0.9444 - val_loss: 0.1332 - val_acc: 0.9444\n",
      "Epoch 30/50\n",
      "96/96 [==============================] - 0s 1ms/sample - loss: 0.0712 - acc: 0.9792 - val_loss: 0.1172 - val_acc: 0.9444\n",
      "Epoch 31/50\n",
      "96/96 [==============================] - 0s 1ms/sample - loss: 0.0261 - acc: 0.9931 - val_loss: 0.2376 - val_acc: 0.9444\n",
      "Epoch 32/50\n",
      "96/96 [==============================] - 0s 1ms/sample - loss: 0.0710 - acc: 0.9722 - val_loss: 0.3103 - val_acc: 0.9028\n",
      "Epoch 33/50\n",
      "96/96 [==============================] - 0s 4ms/sample - loss: 0.0965 - acc: 0.9583 - val_loss: 0.1170 - val_acc: 0.9444\n",
      "Epoch 34/50\n",
      "96/96 [==============================] - 0s 2ms/sample - loss: 0.0515 - acc: 0.9861 - val_loss: 0.1856 - val_acc: 0.9444\n",
      "Epoch 35/50\n",
      "96/96 [==============================] - 0s 1ms/sample - loss: 0.0426 - acc: 0.9861 - val_loss: 0.1811 - val_acc: 0.9444\n",
      "Epoch 36/50\n",
      "96/96 [==============================] - 0s 1ms/sample - loss: 0.0558 - acc: 0.9688 - val_loss: 0.1588 - val_acc: 0.9444\n",
      "Epoch 37/50\n",
      "96/96 [==============================] - 0s 2ms/sample - loss: 0.0358 - acc: 0.9792 - val_loss: 0.1775 - val_acc: 0.9444\n",
      "Epoch 38/50\n",
      "96/96 [==============================] - 0s 2ms/sample - loss: 0.0455 - acc: 0.9722 - val_loss: 0.1162 - val_acc: 0.9167\n",
      "Epoch 39/50\n",
      "96/96 [==============================] - 0s 2ms/sample - loss: 0.0748 - acc: 0.9653 - val_loss: 0.1525 - val_acc: 0.9444\n",
      "Epoch 40/50\n",
      "96/96 [==============================] - 0s 2ms/sample - loss: 0.0344 - acc: 0.9861 - val_loss: 0.1560 - val_acc: 0.9444\n",
      "Epoch 41/50\n",
      "96/96 [==============================] - 0s 1ms/sample - loss: 0.0210 - acc: 0.9965 - val_loss: 0.1068 - val_acc: 0.9444\n",
      "Epoch 42/50\n",
      "96/96 [==============================] - 0s 1ms/sample - loss: 0.0463 - acc: 0.9861 - val_loss: 0.1088 - val_acc: 0.9444\n",
      "Epoch 43/50\n",
      "96/96 [==============================] - 0s 2ms/sample - loss: 0.0220 - acc: 0.9931 - val_loss: 0.3718 - val_acc: 0.8889\n",
      "Epoch 44/50\n",
      "96/96 [==============================] - 0s 2ms/sample - loss: 0.0502 - acc: 0.9792 - val_loss: 0.1693 - val_acc: 0.9444\n",
      "Epoch 45/50\n",
      "96/96 [==============================] - 0s 2ms/sample - loss: 0.0345 - acc: 0.9861 - val_loss: 0.1721 - val_acc: 0.9444\n",
      "Epoch 46/50\n",
      "96/96 [==============================] - 0s 2ms/sample - loss: 0.0220 - acc: 0.9931 - val_loss: 0.1954 - val_acc: 0.9444\n",
      "Epoch 47/50\n",
      "96/96 [==============================] - 0s 2ms/sample - loss: 0.0403 - acc: 0.9861 - val_loss: 0.1479 - val_acc: 0.9444\n",
      "Epoch 48/50\n",
      "96/96 [==============================] - 0s 1ms/sample - loss: 0.1213 - acc: 0.9653 - val_loss: 0.2598 - val_acc: 0.9167\n",
      "Epoch 49/50\n",
      "96/96 [==============================] - 0s 2ms/sample - loss: 0.0751 - acc: 0.9757 - val_loss: 0.1152 - val_acc: 0.9444\n",
      "Epoch 50/50\n",
      "96/96 [==============================] - 0s 1ms/sample - loss: 0.0531 - acc: 0.9757 - val_loss: 0.1154 - val_acc: 0.9306\n"
     ]
    }
   ],
   "source": [
    "# 学習の実施\n",
    "history = model.fit(X_train, y_train,\n",
    "                    batch_size=4,\n",
    "                    epochs=50,\n",
    "                    verbose=1,\n",
    "                    validation_data = (X_val, y_val))"
   ]
  },
  {
   "cell_type": "code",
   "execution_count": 87,
   "metadata": {},
   "outputs": [
    {
     "name": "stdout",
     "output_type": "stream",
     "text": [
      "Train loss: 0.05331041229267915\n",
      "Train accuracy: 0.9791667\n",
      "Test loss: 0.03223688527941704\n",
      "Test accuracy: 0.9777778\n"
     ]
    }
   ],
   "source": [
    "# 評価\n",
    "train_score = model.evaluate(X_train, y_train, verbose=0)\n",
    "print('Train loss:', train_score[0])\n",
    "print('Train accuracy:', train_score[1])\n",
    "\n",
    "test_score = model.evaluate(X_test, y_test, verbose=0)\n",
    "print('Test loss:', test_score[0])\n",
    "print('Test accuracy:', test_score[1])"
   ]
  },
  {
   "cell_type": "code",
   "execution_count": 88,
   "metadata": {},
   "outputs": [
    {
     "data": {
      "image/png": "[encoded data removed]",
      "text/plain": [
       "<Figure size 432x288 with 1 Axes>"
      ]
     },
     "metadata": {
      "needs_background": "light"
     },
     "output_type": "display_data"
    }
   ],
   "source": [
    "# 結果をプロット\n",
    "plt.plot(history.epoch, history.history[\"acc\"], label=\"acc\")\n",
    "plt.plot(history.epoch, history.history[\"loss\"], label=\"loss\")\n",
    "plt.xlabel(\"epoch\")\n",
    "plt.legend();"
   ]
  },
  {
   "cell_type": "markdown",
   "metadata": {},
   "source": [
    "## 【問題5】House PricesをKerasで学習"
   ]
  },
  {
   "cell_type": "markdown",
   "metadata": {},
   "source": [
    "回帰問題のデータセットであるHouse Pricesを使用したモデルを作成してください。\n",
    "\n",
    "\n",
    "House Prices: Advanced Regression Techniques\n",
    "\n",
    "\n",
    "この中のtrain.csvをダウンロードし、目的変数としてSalePrice、説明変数として、GrLivAreaとYearBuiltを使ってください。説明変数はさらに増やしても構いません。\n",
    "\n",
    "\n",
    "分類問題と回帰問題の違いを考慮してください。"
   ]
  },
  {
   "cell_type": "code",
   "execution_count": 109,
   "metadata": {},
   "outputs": [],
   "source": [
    "from sklearn.preprocessing import StandardScaler\n",
    "\n",
    "\"\"\"\n",
    "TensorFlowによるHouse Pricesデータセットに対する回帰をKerasに書き換え\n",
    "\"\"\"\n",
    "# データセットの読み込み\n",
    "dataset_path =\"./house_train.csv\"\n",
    "df = pd.read_csv(dataset_path)\n",
    "# データフレームから条件抽出\n",
    "# df = df[(df[\"Species\"] == \"Iris-versicolor\")|(df[\"Species\"] == \"Iris-virginica\")]\n",
    "y = df[\"SalePrice\"]\n",
    "X = df.loc[:, [\"GrLivArea\", \"YearBuilt\"]]\n",
    "y = np.array(y)\n",
    "X = np.array(X)\n",
    "\n",
    "# trainとtestに分割\n",
    "X_train, X_test, y_train, y_test = train_test_split(X, y, test_size=0.2, random_state=0)\n",
    "# さらにtrainとvalに分割\n",
    "X_train, X_val, y_train, y_val = train_test_split(X_train, y_train, test_size=0.2, random_state=0)\n",
    "\n",
    "# 標準化の実施\n",
    "sr = StandardScaler()\n",
    "X_train_std = sr.fit_transform(X_train)\n",
    "X_test_std = sr.transform(X_test)\n",
    "X_val_std = sr.transform(X_val)"
   ]
  },
  {
   "cell_type": "code",
   "execution_count": 110,
   "metadata": {},
   "outputs": [
    {
     "data": {
      "text/plain": [
       "((934, 2), (934,))"
      ]
     },
     "execution_count": 110,
     "metadata": {},
     "output_type": "execute_result"
    }
   ],
   "source": [
    "X_train.shape, y_train.shape"
   ]
  },
  {
   "cell_type": "code",
   "execution_count": 113,
   "metadata": {},
   "outputs": [],
   "source": [
    "# 回帰モデルの作成\n",
    "\n",
    "model = Sequential()\n",
    "model.add(Dense(10, input_dim=2, activation='relu'))\n",
    "model.add(Dense(16, activation='relu'))\n",
    "model.add(Dense(1))\n",
    "\n",
    "model.compile(loss='mean_squared_error',\n",
    "              optimizer = tf.train.AdamOptimizer(learning_rate = 0.01))"
   ]
  },
  {
   "cell_type": "code",
   "execution_count": 114,
   "metadata": {
    "scrolled": true
   },
   "outputs": [
    {
     "name": "stdout",
     "output_type": "stream",
     "text": [
      "Train on 934 samples, validate on 234 samples\n",
      "Epoch 1/50\n",
      "934/934 [==============================] - 2s 2ms/step - loss: 13829279246.2869 - val_loss: 3149259324.8547\n",
      "Epoch 2/50\n",
      "934/934 [==============================] - 1s 877us/step - loss: 3682781064.8394 - val_loss: 2787426359.7949\n",
      "Epoch 3/50\n",
      "934/934 [==============================] - 1s 924us/step - loss: 3487408608.9593 - val_loss: 2614549904.9573\n",
      "Epoch 4/50\n",
      "934/934 [==============================] - 1s 1ms/step - loss: 3262360541.2762 - val_loss: 2697854708.6496\n",
      "Epoch 5/50\n",
      "934/934 [==============================] - 1s 1ms/step - loss: 3188811424.7623 - val_loss: 2471560199.3162\n",
      "Epoch 6/50\n",
      "934/934 [==============================] - 1s 1ms/step - loss: 3182184957.0535 - val_loss: 2483869417.5043\n",
      "Epoch 7/50\n",
      "934/934 [==============================] - 1s 1ms/step - loss: 3149530942.3041 - val_loss: 2435428828.7179\n",
      "Epoch 8/50\n",
      "934/934 [==============================] - 1s 1ms/step - loss: 3149777016.1884 - val_loss: 2492404595.0769\n",
      "Epoch 9/50\n",
      "934/934 [==============================] - ETA: 0s - loss: 3127252672.00 - 2s 2ms/step - loss: 3084462352.6510 - val_loss: 2534890994.7350\n",
      "Epoch 10/50\n",
      "934/934 [==============================] - 1s 1ms/step - loss: 3126565709.1734 - val_loss: 2496253949.5385\n",
      "Epoch 11/50\n",
      "934/934 [==============================] - 1s 1ms/step - loss: 3157691379.1178 - val_loss: 2435248062.4957\n",
      "Epoch 12/50\n",
      "934/934 [==============================] - 1s 1ms/step - loss: 3134660139.4604 - val_loss: 2431662464.0000\n",
      "Epoch 13/50\n",
      "934/934 [==============================] - 1s 1ms/step - loss: 3101833448.4625 - val_loss: 2540527586.9402\n",
      "Epoch 14/50\n",
      "934/934 [==============================] - 1s 2ms/step - loss: 3155010509.9101 - val_loss: 2481955354.8376\n",
      "Epoch 15/50\n",
      "934/934 [==============================] - 1s 2ms/step - loss: 3153680604.8137 - val_loss: 2445035361.7778\n",
      "Epoch 16/50\n",
      "934/934 [==============================] - 1s 1ms/step - loss: 3107988589.2077 - val_loss: 2446445875.6923\n",
      "Epoch 17/50\n",
      "934/934 [==============================] - 1s 2ms/step - loss: 3138819166.7495 - val_loss: 2441780495.6923\n",
      "Epoch 18/50\n",
      "934/934 [==============================] - 1s 2ms/step - loss: 3140753673.0193 - val_loss: 2453988790.0513\n",
      "Epoch 19/50\n",
      "934/934 [==============================] - 2s 2ms/step - loss: 3143555958.3726 - val_loss: 2450497580.0342\n",
      "Epoch 20/50\n",
      "934/934 [==============================] - 1s 1ms/step - loss: 3134739412.1285 - val_loss: 2434637882.5299\n",
      "Epoch 21/50\n",
      "934/934 [==============================] - 1s 1ms/step - loss: 3160583835.2463 - val_loss: 2517952017.3675\n",
      "Epoch 22/50\n",
      "934/934 [==============================] - 1s 1ms/step - loss: 3123816443.2206 - val_loss: 2445938383.9316\n",
      "Epoch 23/50\n",
      "934/934 [==============================] - 1s 1ms/step - loss: 3109664230.9893 - val_loss: 2437388967.7949\n",
      "Epoch 24/50\n",
      "934/934 [==============================] - 1s 2ms/step - loss: 3135754235.1349 - val_loss: 2485552477.9487\n",
      "Epoch 25/50\n",
      "934/934 [==============================] - 1s 1ms/step - loss: 3125135590.7323 - val_loss: 2783358714.8034\n",
      "Epoch 26/50\n",
      "934/934 [==============================] - 1s 1ms/step - loss: 3132124736.3426 - val_loss: 2470793804.1368\n",
      "Epoch 27/50\n",
      "934/934 [==============================] - 1s 1ms/step - loss: 3095823229.9101 - val_loss: 2438301700.2393\n",
      "Epoch 28/50\n",
      "934/934 [==============================] - 1s 1ms/step - loss: 3116942592.7537 - val_loss: 2514012379.4188\n",
      "Epoch 29/50\n",
      "934/934 [==============================] - 1s 1ms/step - loss: 3110929660.7623 - val_loss: 2436033727.5214\n",
      "Epoch 30/50\n",
      "934/934 [==============================] - 1s 1ms/step - loss: 3164571654.9036 - val_loss: 2563576176.8889\n",
      "Epoch 31/50\n",
      "934/934 [==============================] - 1s 1ms/step - loss: 3109094016.2741 - val_loss: 2584711006.7692\n",
      "Epoch 32/50\n",
      "934/934 [==============================] - 1s 1ms/step - loss: 3125686499.5289 - val_loss: 2636599301.3333\n",
      "Epoch 33/50\n",
      "934/934 [==============================] - 1s 1ms/step - loss: 3147242861.3961 - val_loss: 2463893365.1624\n",
      "Epoch 34/50\n",
      "934/934 [==============================] - 1s 1ms/step - loss: 3116114413.1435 - val_loss: 2454516419.4188\n",
      "Epoch 35/50\n",
      "934/934 [==============================] - 1s 1ms/step - loss: 3116265407.6231 - val_loss: 2537735509.8803\n",
      "Epoch 36/50\n",
      "934/934 [==============================] - 1s 1ms/step - loss: 3099915527.8116 - val_loss: 2565822360.0000\n",
      "Epoch 37/50\n",
      "934/934 [==============================] - 1s 1ms/step - loss: 3136874922.8779 - val_loss: 2434911629.8803\n",
      "Epoch 38/50\n",
      "934/934 [==============================] - 1s 1ms/step - loss: 3149524743.0749 - val_loss: 2468957100.3077\n",
      "Epoch 39/50\n",
      "934/934 [==============================] - 1s 1ms/step - loss: 3139715217.9186 - val_loss: 2579759555.5556\n",
      "Epoch 40/50\n",
      "934/934 [==============================] - 1s 1ms/step - loss: 3125716750.0642 - val_loss: 2566356220.2393\n",
      "Epoch 41/50\n",
      "934/934 [==============================] - 1s 1ms/step - loss: 3138702903.1563 - val_loss: 2601449035.2137\n",
      "Epoch 42/50\n",
      "934/934 [==============================] - 1s 1ms/step - loss: 3132536986.8951 - val_loss: 2493673341.0256\n",
      "Epoch 43/50\n",
      "934/934 [==============================] - 1s 1ms/step - loss: 3135579844.8308 - val_loss: 2496829860.1709\n",
      "Epoch 44/50\n",
      "934/934 [==============================] - 1s 1ms/step - loss: 3143404185.3362 - val_loss: 2537434395.2137\n",
      "Epoch 45/50\n",
      "934/934 [==============================] - 1s 1ms/step - loss: 3109327948.7966 - val_loss: 2556886857.1624\n",
      "Epoch 46/50\n",
      "934/934 [==============================] - 1s 1ms/step - loss: 3111858728.7281 - val_loss: 2437886930.3248\n",
      "Epoch 47/50\n",
      "934/934 [==============================] - 1s 2ms/step - loss: 3113598098.0128 - val_loss: 2518344182.7009\n",
      "Epoch 48/50\n",
      "934/934 [==============================] - 1s 1ms/step - loss: 3098165225.8415 - val_loss: 2505388465.7778\n",
      "Epoch 49/50\n",
      "934/934 [==============================] - 1s 1ms/step - loss: 3120534600.4968 - val_loss: 2485313242.3932\n",
      "Epoch 50/50\n",
      "934/934 [==============================] - 1s 1ms/step - loss: 3167938328.1884 - val_loss: 2448879932.7179\n"
     ]
    }
   ],
   "source": [
    "# 学習の実施\n",
    "history = model.fit(X_train, y_train,\n",
    "                    batch_size=4,\n",
    "                    epochs=50,\n",
    "                    verbose=1,\n",
    "                    validation_data = (X_val, y_val))"
   ]
  },
  {
   "cell_type": "code",
   "execution_count": 120,
   "metadata": {},
   "outputs": [
    {
     "name": "stdout",
     "output_type": "stream",
     "text": [
      "Train loss: 3147463337.3875804\n",
      "Test loss: 3959926755.9452057\n"
     ]
    }
   ],
   "source": [
    "# 評価\n",
    "train_score = model.evaluate(X_train, y_train, verbose=0)\n",
    "print('Train loss:', train_score)\n",
    "\n",
    "test_score = model.evaluate(X_test, y_test, verbose=0)\n",
    "print('Test loss:', test_score)"
   ]
  },
  {
   "cell_type": "code",
   "execution_count": 119,
   "metadata": {},
   "outputs": [
    {
     "data": {
      "image/png": "[encoded data removed]",
      "text/plain": [
       "<Figure size 432x288 with 1 Axes>"
      ]
     },
     "metadata": {
      "needs_background": "light"
     },
     "output_type": "display_data"
    }
   ],
   "source": [
    "# 結果をプロット\n",
    "plt.plot(history.epoch, history.history[\"loss\"], label=\"loss\")\n",
    "plt.xlabel(\"epoch\")\n",
    "plt.legend();"
   ]
  },
  {
   "cell_type": "markdown",
   "metadata": {},
   "source": [
    "回帰分析のため、出力層では活性化関数を使用しない（又はそのまま出力する恒等関数を使用する）"
   ]
  },
  {
   "cell_type": "markdown",
   "metadata": {},
   "source": [
    "## 【問題6】MNISTをKerasで学習"
   ]
  },
  {
   "cell_type": "markdown",
   "metadata": {},
   "source": [
    "ニューラルネットワークのスクラッチで使用したMNISTを分類するモデルを作成してください。\n",
    "\n",
    "\n",
    "3クラス以上の分類という点ではひとつ前のIrisと同様です。入力が画像であるという点で異なります。"
   ]
  },
  {
   "cell_type": "code",
   "execution_count": 166,
   "metadata": {},
   "outputs": [],
   "source": [
    "# データの読み込み\n",
    "from keras.datasets import mnist\n",
    "(x_train, y_train), (X_test, y_test) = mnist.load_data()\n",
    "\n",
    "# さらにtrainとvalに分割\n",
    "X_train, X_val, y_train, y_val = train_test_split(x_train, y_train, test_size=0.2, random_state=0)"
   ]
  },
  {
   "cell_type": "code",
   "execution_count": 167,
   "metadata": {},
   "outputs": [],
   "source": [
    "#2次元配列を1次元に変換\n",
    "X_train = X_train.reshape(48000, 784)\n",
    "X_val = X_val.reshape(12000, 784)\n",
    "X_test = X_test.reshape(10000, 784)\n",
    "#float32型に変換\n",
    "X_train = X_train.astype('float32')\n",
    "X_val = X_val.astype('float32')\n",
    "X_test = X_test.astype('float32')\n",
    "#正規化 [0-255]->[0.0-1.0]\n",
    "X_train /= 255       \n",
    "X_val /= 255  \n",
    "X_test /= 255\n",
    "\n",
    "# ラベルデータを0-9までのカテゴリを表す配列に変換\n",
    "y_train = keras.utils.to_categorical(y_train, 10)\n",
    "y_test = keras.utils.to_categorical(y_test, 10)\n",
    "y_val = keras.utils.to_categorical(y_val, 10)"
   ]
  },
  {
   "cell_type": "code",
   "execution_count": 168,
   "metadata": {},
   "outputs": [
    {
     "data": {
      "text/plain": [
       "((48000, 784),\n",
       " (48000, 10),\n",
       " (12000, 784),\n",
       " (12000, 10),\n",
       " (10000, 28, 28),\n",
       " (10000, 10))"
      ]
     },
     "execution_count": 168,
     "metadata": {},
     "output_type": "execute_result"
    }
   ],
   "source": [
    "X_train.shape, y_train.shape,X_val.shape, y_val.shape, x_test.shape, y_test.shape"
   ]
  },
  {
   "cell_type": "code",
   "execution_count": 169,
   "metadata": {},
   "outputs": [
    {
     "name": "stdout",
     "output_type": "stream",
     "text": [
      "Model: \"sequential_10\"\n",
      "_________________________________________________________________\n",
      "Layer (type)                 Output Shape              Param #   \n",
      "=================================================================\n",
      "dense_26 (Dense)             (None, 512)               401920    \n",
      "_________________________________________________________________\n",
      "dropout_3 (Dropout)          (None, 512)               0         \n",
      "_________________________________________________________________\n",
      "dense_27 (Dense)             (None, 512)               262656    \n",
      "_________________________________________________________________\n",
      "dropout_4 (Dropout)          (None, 512)               0         \n",
      "_________________________________________________________________\n",
      "dense_28 (Dense)             (None, 10)                5130      \n",
      "=================================================================\n",
      "Total params: 669,706\n",
      "Trainable params: 669,706\n",
      "Non-trainable params: 0\n",
      "_________________________________________________________________\n"
     ]
    }
   ],
   "source": [
    "# #  Functional APIモデル - 3層\n",
    "# input_data = tf.keras.layers.Input(shape=(784,)) # Paramが0でおかしい？\n",
    "# x = tf.keras.layers.Dense(50, activation=tf.nn.relu)(input_data)\n",
    "# x = tf.keras.layers.Dense(50, activation=tf.nn.relu)(x)\n",
    "# output = tf.keras.layers.Dense(10, activation=tf.nn.softmax)(x)\n",
    "# model = tf.keras.Model(inputs=input_data, outputs=output)\n",
    "\n",
    "from keras.layers import Dense, Dropout\n",
    "\n",
    "#モデルの構造の定義\n",
    "model = Sequential()\n",
    "model.add(Dense(512, activation='relu', input_shape=(784,)))\n",
    "model.add(Dropout(0.2))\n",
    "model.add(Dense(512, activation='relu'))\n",
    "model.add(Dropout(0.2))\n",
    "model.add(Dense(10, activation='softmax'))\n",
    "model.summary()"
   ]
  },
  {
   "cell_type": "code",
   "execution_count": 170,
   "metadata": {},
   "outputs": [],
   "source": [
    "from keras.optimizers import Adam\n",
    "\n",
    "# モデルをコンパイル\n",
    "model.compile(loss='categorical_crossentropy',\n",
    "            optimizer=Adam(),\n",
    "            metrics=['accuracy'])"
   ]
  },
  {
   "cell_type": "code",
   "execution_count": 174,
   "metadata": {
    "scrolled": true
   },
   "outputs": [
    {
     "name": "stdout",
     "output_type": "stream",
     "text": [
      "Train on 48000 samples, validate on 12000 samples\n",
      "Epoch 1/10\n",
      "48000/48000 [==============================] - 19s 406us/step - loss: 0.0216 - accuracy: 0.9937 - val_loss: 0.0922 - val_accuracy: 0.9813\n",
      "Epoch 2/10\n",
      "48000/48000 [==============================] - 22s 464us/step - loss: 0.0201 - accuracy: 0.9940 - val_loss: 0.0988 - val_accuracy: 0.9833\n",
      "Epoch 3/10\n",
      "48000/48000 [==============================] - 21s 436us/step - loss: 0.0168 - accuracy: 0.9951 - val_loss: 0.1023 - val_accuracy: 0.9832\n",
      "Epoch 4/10\n",
      "48000/48000 [==============================] - 21s 433us/step - loss: 0.0194 - accuracy: 0.9942 - val_loss: 0.1083 - val_accuracy: 0.9822\n",
      "Epoch 5/10\n",
      "48000/48000 [==============================] - 18s 377us/step - loss: 0.0200 - accuracy: 0.9944 - val_loss: 0.1150 - val_accuracy: 0.9818\n",
      "Epoch 6/10\n",
      "48000/48000 [==============================] - 18s 369us/step - loss: 0.0198 - accuracy: 0.9943 - val_loss: 0.1210 - val_accuracy: 0.9818\n",
      "Epoch 7/10\n",
      "48000/48000 [==============================] - 19s 385us/step - loss: 0.0193 - accuracy: 0.9946 - val_loss: 0.1191 - val_accuracy: 0.9815\n",
      "Epoch 8/10\n",
      "48000/48000 [==============================] - 18s 373us/step - loss: 0.0169 - accuracy: 0.9950 - val_loss: 0.1226 - val_accuracy: 0.9822\n",
      "Epoch 9/10\n",
      "48000/48000 [==============================] - 18s 382us/step - loss: 0.0197 - accuracy: 0.9946 - val_loss: 0.1200 - val_accuracy: 0.9818\n",
      "Epoch 10/10\n",
      "48000/48000 [==============================] - 18s 377us/step - loss: 0.0194 - accuracy: 0.9946 - val_loss: 0.0980 - val_accuracy: 0.9832\n"
     ]
    }
   ],
   "source": [
    "# 学習の実施\n",
    "history = model.fit(X_train, y_train,\n",
    "                    batch_size=50,\n",
    "                    epochs=10,\n",
    "                    verbose=1,\n",
    "                    validation_data = (X_val, y_val))"
   ]
  },
  {
   "cell_type": "code",
   "execution_count": 175,
   "metadata": {},
   "outputs": [
    {
     "name": "stdout",
     "output_type": "stream",
     "text": [
      "Train loss: 0.0020883907699541706\n",
      "Train accuracy: 0.9993958473205566\n",
      "Test loss: 0.08995832022983397\n",
      "Test accuracy: 0.9830999970436096\n"
     ]
    }
   ],
   "source": [
    "# 評価\n",
    "train_score = model.evaluate(X_train, y_train, verbose=0)\n",
    "print('Train loss:', train_score[0])\n",
    "print('Train accuracy:', train_score[1])\n",
    "\n",
    "test_score = model.evaluate(X_test, y_test, verbose=0)\n",
    "print('Test loss:', test_score[0])\n",
    "print('Test accuracy:', test_score[1])"
   ]
  }
 ],
 "metadata": {
  "kernelspec": {
   "display_name": "Python 3",
   "language": "python",
   "name": "python3"
  },
  "language_info": {
   "codemirror_mode": {
    "name": "ipython",
    "version": 3
   },
   "file_extension": ".py",
   "mimetype": "text/x-python",
   "name": "python",
   "nbconvert_exporter": "python",
   "pygments_lexer": "ipython3",
   "version": "3.7.4"
  }
 },
 "nbformat": 4,
 "nbformat_minor": 2
}
